{
 "cells": [
  {
   "cell_type": "markdown",
   "source": [
    "## Практическая работа №7 Теория вероятностей и математическая статистика"
   ],
   "metadata": {
    "collapsed": false
   }
  },
  {
   "cell_type": "markdown",
   "source": [
    "### Задание №1\n",
    "Провести дисперсионный анализ для определения того, есть ли различия среднего роста среди взрослых футболистов, хоккеистов и штангистов. Даны значения роста в трех группах случайно выбранных спортсменов:\n",
    "Футболисты: 173, 175, 180, 178, 177, 185, 183, 182.\n",
    "Хоккеисты: 177, 179, 180, 188, 177, 172, 171, 184, 180.\n",
    "Штангисты: 172, 173, 169, 177, 166, 180, 178, 177, 172, 166, 170.\n",
    "alpha = 0.05."
   ],
   "metadata": {
    "collapsed": false
   }
  },
  {
   "cell_type": "code",
   "execution_count": 8,
   "outputs": [],
   "source": [
    "import numpy as np\n",
    "import matplotlib.pyplot as plt\n",
    "from scipy import stats\n",
    "import warnings\n",
    "\n",
    "%matplotlib inline\n",
    "warnings.filterwarnings('ignore')"
   ],
   "metadata": {
    "collapsed": false
   }
  },
  {
   "cell_type": "code",
   "execution_count": 3,
   "outputs": [],
   "source": [
    "np_football_pls_height = np.array([173, 175, 180, 178, 177, 185, 183, 182])\n",
    "np_hockey_pls_height = np.array([177, 179, 180, 188, 177, 172, 171, 184, 180])\n",
    "np_weightlifter_pls_height = np.array([172, 173, 169, 177, 166, 180, 178, 177, 172, 166, 170])\n",
    "alpha = 0.05"
   ],
   "metadata": {
    "collapsed": false
   }
  },
  {
   "cell_type": "code",
   "execution_count": 15,
   "outputs": [
    {
     "data": {
      "text/plain": "<Figure size 640x480 with 1 Axes>",
      "image/png": "[encoded data removed]"
     },
     "metadata": {},
     "output_type": "display_data"
    }
   ],
   "source": [
    "plt.scatter(np.full(shape=len(np_football_pls_height), fill_value=1, dtype=np.int),np_football_pls_height, label='Рост футболистов')\n",
    "plt.scatter(np.full(shape=len(np_hockey_pls_height), fill_value=2, dtype=np.int),np_hockey_pls_height, label='Рост хоккеистов')\n",
    "plt.scatter(np.full(shape=len(np_weightlifter_pls_height), fill_value=3, dtype=np.int),np_weightlifter_pls_height, label='Рост штангистов')\n",
    "\n",
    "plt.xlabel('Спорт')\n",
    "plt.ylabel('Рост')\n",
    "\n",
    "# Провести линии средних значений\n",
    "plt.plot([1,2,3], np.full(shape=3, fill_value=np.mean(np_football_pls_height)))\n",
    "plt.plot([1,2,3], np.full(shape=3, fill_value=np.mean(np_hockey_pls_height)))\n",
    "plt.plot([1,2,3], np.full(shape=3, fill_value=np.mean(np_weightlifter_pls_height)))\n",
    "\n",
    "plt.legend()\n",
    "plt.show()"
   ],
   "metadata": {
    "collapsed": false
   }
  },
  {
   "cell_type": "markdown",
   "source": [
    "Даже из графика видно сильное различие в среднем росте штангистов.\n",
    "Свормулируем гипотезы:\n",
    "- Н0: $\\mu_1 = \\mu_2 = \\mu_3$, нулевая гипотеза, средний рост спортсмена не зависит от вида спорта\n",
    "- H1: $\\mu_1 \\neq \\mu_2 \\neq \\mu_3$, альтернативная гипотеза"
   ],
   "metadata": {
    "collapsed": false
   }
  },
  {
   "cell_type": "code",
   "execution_count": 24,
   "outputs": [
    {
     "name": "stdout",
     "output_type": "stream",
     "text": [
      "Отвергаем нулевую гипотезу, на уровне значимости равном 0.05\n"
     ]
    }
   ],
   "source": [
    "# Воспользуемся встроенным методом однофакторного дисперсионного анализа библиотеки scipy\n",
    "pvalue = stats.f_oneway(np_football_pls_height, np_hockey_pls_height, np_weightlifter_pls_height).pvalue\n",
    "if pvalue < alpha:\n",
    "    print('Отвергаем нулевую гипотезу, на уровне значимости равном', alpha)\n",
    "else:\n",
    "    print('Отвергаем нулевую гипотезу, на уровне значимости равном', alpha)"
   ],
   "metadata": {
    "collapsed": false
   }
  },
  {
   "cell_type": "markdown",
   "source": [
    "Так же можно проверить с помощью критерия Фишера.\n",
    "Для данной выборки табличное значение критерия равен 3.38. Если расчитаный критерий фишера будет больше табличного значения, то нулевую гипотезу отвергаем"
   ],
   "metadata": {
    "collapsed": false
   }
  },
  {
   "cell_type": "code",
   "execution_count": 41,
   "outputs": [],
   "source": [
    "def get_fisher(*stats):\n",
    "    \"\"\"\n",
    "    Расчёт критерия Фишера\n",
    "    :param stats:\n",
    "    :return: float\n",
    "    \"\"\"\n",
    "    k = len(stats)\n",
    "    np_full = np.hstack(stats)\n",
    "    np_full_mean = np.mean(np_full)\n",
    "    s2_f = 0 # Факторная сумма квадратных отклонений\n",
    "    s2_r = 0 # Остаточная сумма квадратных отклонений\n",
    "    n = 0\n",
    "    for row in stats:\n",
    "        row_len = len(row)\n",
    "        row_mean = np.mean(row)\n",
    "        s2_f += ((row_mean-np_full_mean)**2)*row_len\n",
    "        s2_r += np.sum((row-row_mean)**2)\n",
    "        n += row_len\n",
    "    var_f = s2_f / (k-1) # Факторная дисперсия\n",
    "    var_r = s2_r / (n-k) # Остаточная дисперсия\n",
    "    return var_f / var_r"
   ],
   "metadata": {
    "collapsed": false
   }
  },
  {
   "cell_type": "code",
   "execution_count": 43,
   "outputs": [
    {
     "name": "stdout",
     "output_type": "stream",
     "text": [
      "Табличное значение критерия Фишера: 3.38\n",
      "Расчитанное значение критерия Фишера: 5.5001\n",
      "Отвергаем нулевую гипотезу, на уровне значимости равном 0.05\n"
     ]
    }
   ],
   "source": [
    "F_tab = 3.38 # Табличное значение критерия\n",
    "F_c = get_fisher(np_football_pls_height, np_hockey_pls_height, np_weightlifter_pls_height)\n",
    "\n",
    "print('Табличное значение критерия Фишера:', F_tab)\n",
    "print('Расчитанное значение критерия Фишера:', round(F_c, 4))\n",
    "if F_tab < F_c:\n",
    "    print('Отвергаем нулевую гипотезу, на уровне значимости равном', alpha)\n",
    "else:\n",
    "    print('Отвергаем нулевую гипотезу, на уровне значимости равном', alpha)"
   ],
   "metadata": {
    "collapsed": false
   }
  },
  {
   "cell_type": "markdown",
   "source": [
    "**Ответ:**<br>\n",
    "**гипотеза H0 отвергается, значит H1 верна на уровне значимости 0.05. Обнаруженны различия между между ростом смортсменов разных видов спорта.**"
   ],
   "metadata": {
    "collapsed": false
   }
  },
  {
   "cell_type": "markdown",
   "source": [
    "### Задание №2\n",
    "**Прикрепить ссылку на курсовой проект на github. (см. выбор темы в ДЗ к Уроку 6)**"
   ],
   "metadata": {
    "collapsed": false
   }
  },
  {
   "cell_type": "markdown",
   "source": [
    "[Ссылка](https://github.com/eadevlab/gb.education/blob/main/terver/coursework.ipynb)"
   ],
   "metadata": {
    "collapsed": false
   }
  }
 ],
 "metadata": {
  "kernelspec": {
   "display_name": "Python 3",
   "language": "python",
   "name": "python3"
  },
  "language_info": {
   "codemirror_mode": {
    "name": "ipython",
    "version": 2
   },
   "file_extension": ".py",
   "mimetype": "text/x-python",
   "name": "python",
   "nbconvert_exporter": "python",
   "pygments_lexer": "ipython2",
   "version": "2.7.6"
  }
 },
 "nbformat": 4,
 "nbformat_minor": 0
}
