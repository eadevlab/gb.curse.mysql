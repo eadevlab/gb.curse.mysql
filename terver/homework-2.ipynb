{
 "cells": [
  {
   "cell_type": "markdown",
   "source": [
    "## Практическая работа №2 Теория вероятностей и математическая статистика"
   ],
   "metadata": {
    "collapsed": false
   }
  },
  {
   "cell_type": "markdown",
   "source": [
    "#### Задание №1\n",
    "##### Вероятность того, что стрелок попадет в мишень, выстрелив один раз, равна 0.8. Стрелок выстрелил 100 раз. Найдите вероятность того, что стрелок попадет в цель ровно 85 раз."
   ],
   "metadata": {
    "collapsed": false
   }
  },
  {
   "cell_type": "markdown",
   "source": [
    "Для решения задачи воспользуемся формулой бернули\n",
    "$$P(X=k) = C^k_{n}p^kq^{n-k}$$\n",
    "$$p = 0.8; q = 1 - p = 0.2$$\n",
    "$$P(X=85) = C^{85}_{100}p^{85}q^{15} = \\frac{100!}{85!(100-85)!}*0.8^{85}*0.2^{15}$$\n",
    "с такими числами проще написать python функцию для расчётов"
   ],
   "metadata": {
    "collapsed": false
   }
  },
  {
   "cell_type": "code",
   "execution_count": 22,
   "outputs": [],
   "source": [
    "import numpy as np\n",
    "def bern(n:int, k:int, p:float) -> float:\n",
    "    \"\"\"\n",
    "    Реализация формулы Бернули.\n",
    "    :param n: Количество независящих испытаний\n",
    "    :param k: Количество наступления события А\n",
    "    :param p: Вероятность наступления события А\n",
    "    :return: Вероятность наступления события А k раз в n испытаниях\n",
    "    \"\"\"\n",
    "    return (np.math.factorial(n)/(np.math.factorial(k)*np.math.factorial(n-k)))*(p**k)*(1-p)**(n-k)"
   ],
   "metadata": {
    "collapsed": false
   }
  },
  {
   "cell_type": "code",
   "execution_count": 23,
   "outputs": [
    {
     "name": "stdout",
     "output_type": "stream",
     "text": [
      "P(k=85) = 0.0481\n"
     ]
    }
   ],
   "source": [
    "P = bern(100, 85, 0.8)\n",
    "print('P(k=85) = %.4f' % P)"
   ],
   "metadata": {
    "collapsed": false
   }
  },
  {
   "cell_type": "markdown",
   "source": [
    "---\n",
    "\n",
    "**Ответ: Вероятность того что стрелок попадёт в мишень ровно 85 раз развна 0.0481 (4.81\\%)**\n",
    "\n",
    "---"
   ],
   "metadata": {
    "collapsed": false
   }
  },
  {
   "cell_type": "markdown",
   "source": [
    "#### Задание №2\n",
    "##### Вероятность того, что лампочка перегорит в течение первого дня эксплуатации, равна 0.0004. В жилом комплексе после ремонта в один день включили 5000 новых лампочек. Какова вероятность, что ни одна из них не перегорит в первый день? Какова вероятность, что перегорят ровно две?"
   ],
   "metadata": {
    "collapsed": false
   }
  },
  {
   "cell_type": "markdown",
   "source": [
    "Применим формулу Пуассона, зная, что m = 0 и $\\lambda = np = 5000*0.0004 = 2$\n",
    "$$P_{0} = \\frac{\\lambda^m}{m!}e^{-\\lambda} = \\frac{2^0}{0!}e^{-2} = 1*e^{-2} = 0.1353$$"
   ],
   "metadata": {
    "collapsed": false
   }
  },
  {
   "cell_type": "markdown",
   "source": [
    "##### Значит, вероятность того что перегорит одна лампочка в первый день равна 0.1353 (13.53%)"
   ],
   "metadata": {
    "collapsed": false
   }
  },
  {
   "cell_type": "markdown",
   "source": [
    "Найдём вероятность того что перегорят ровно 2 лампочки. m = 2\n",
    "$$P_{2} = \\frac{\\lambda^m}{m!}e^{-\\lambda} = \\frac{2^2}{2!}e^{-2} = 2*e^{-2} = 0.2706 = 27.06\\%$$\n",
    "___\n",
    "\n",
    "**Ответ:**\n",
    "**Вероятность того что ни одна ламвочка не перегорит в первый день равна 0.1353 (13.53\\%).**\n",
    "**Вероятность того что перегорит ровно 2 лампочки равна 0.2706 (27.06\\%)**\n",
    "\n",
    "___"
   ],
   "metadata": {
    "collapsed": false
   }
  },
  {
   "cell_type": "markdown",
   "source": [
    "#### Задание №3\n",
    "##### Монету подбросили 144 раза. Какова вероятность, что орел выпадет ровно 70 раз?"
   ],
   "metadata": {
    "collapsed": false
   }
  },
  {
   "cell_type": "markdown",
   "source": [
    "Воспользуемся формулой бернули, где, p = q = 0.5, n = 144, k =70\n",
    "$$P(X=70) = C^{70}_{144}p^{70}q^{144-70} = \\frac{144!}{70!(144-70)!}*0.5^{70}*0.5^{74}$$\n",
    "Для расчётов воспользуемся ранее созданной функцией"
   ],
   "metadata": {
    "collapsed": false
   }
  },
  {
   "cell_type": "code",
   "execution_count": 27,
   "outputs": [
    {
     "name": "stdout",
     "output_type": "stream",
     "text": [
      "P(k=70) = 0.0628\n"
     ]
    }
   ],
   "source": [
    "print('P(k=70) = %.4f' % bern(144, 70, 0.5))"
   ],
   "metadata": {
    "collapsed": false
   }
  },
  {
   "cell_type": "markdown",
   "source": [
    "---\n",
    "\n",
    "**Ответ: Вероятность того что орел выпадет ровно 70 раз равна 0.0628 (6.28\\%)**\n",
    "\n",
    "---"
   ],
   "metadata": {
    "collapsed": false
   }
  },
  {
   "cell_type": "markdown",
   "source": [
    "#### Задание №4\n",
    "##### В первом ящике находится 10 мячей, из которых 7 - белые. Во втором ящике - 11 мячей, из которых 9 белых. Из каждого ящика вытаскивают случайным образом по два мяча.\n",
    "Какова вероятность того, что все мячи белые?\n",
    "Какова вероятность того, что ровно два мяча белые?\n",
    "Какова вероятность того, что хотя бы один мяч белый?"
   ],
   "metadata": {
    "collapsed": false
   }
  },
  {
   "cell_type": "markdown",
   "source": [
    "**Какова вероятность того, что все мячи белые?**\n",
    "Событие А - из первой корзины вытащили два белых мяча\n",
    "Событие B - из второй корзины вытащили два белых мяча\n",
    "$P(A+B) = P(A) \\cdot P(B)$\n",
    "Можно решить через условную вероятность, $P(A) = \\frac{7}{10}\\cdot\\frac{6}{9}$, $P(B) = \\frac{9}{11}\\cdot\\frac{8}{10}$\n",
    "$$P(A+B) = \\frac{7}{10}\\cdot\\frac{6}{9}\\cdot\\frac{9}{11}\\cdot\\frac{8}{10} = \\frac{3024}{9900} = 0.3055 = 30.50\\%$$"
   ],
   "metadata": {
    "collapsed": false
   }
  },
  {
   "cell_type": "markdown",
   "source": [
    "Или с помощью функций комбинаторики\n",
    "$$P(A+B) = P(A) \\cdot P(B) = \\frac{C^2_7}{C^2_{10}}\\cdot\\frac{C^2_9}{C^2_{11}} = 0.3055$$"
   ],
   "metadata": {
    "collapsed": false
   }
  },
  {
   "cell_type": "markdown",
   "source": [
    "**Ответ: Вероятность того что все мячи белые 0.3055(30.55\\%)**\n",
    "\n",
    "---"
   ],
   "metadata": {
    "collapsed": false
   }
  },
  {
   "cell_type": "markdown",
   "source": [
    "**Какова вероятность того, что ровно два мяча белые?**\n",
    "Для расчёта вероятности необходимо найти возможные комбинации решений и сложить их вероятности\n",
    "1. Из первой корзины вытащили 2 белых ($A_1$), из второй 2 не белых ($A_2$)\n",
    "2. Из первой корзины вытащили 1 белый и 1 не белый ($B_1$) и из второй корзины 1 белый и 1 не белый ($B_2$)\n",
    "3. Из первой корзины вытащили 2 не белых ($C_1$), а из второй - 2 белых ($C_2$)"
   ],
   "metadata": {
    "collapsed": false
   }
  },
  {
   "cell_type": "markdown",
   "source": [
    "$$ P = P(A_1)\\cdot P(A_2) + P(B_1) \\cdot P(B_2) + P(C_1) \\cdot P(C_2)$$\n",
    "$$ P(A_1) \\cdot P(A_2) = \\frac{C^2_7}{C^2_{10}} \\cdot \\frac{C^0_9}{C^2_{11}} = \\frac{\\frac{7!}{2!(7-2)!}}{\\frac{10!}{2!(10-2)!}} \\cdot \\frac{\\frac{9!}{0!(9-0)!}}{\\frac{11!}{2!(11-2)!}} = \\frac{6*7}{7*10} \\cdot \\frac{1*2}{10*11} = \\frac{42}{90}\\cdot\\frac{2}{110} =  0.4667 * 0.0182 = 0,0085$$"
   ],
   "metadata": {
    "collapsed": false
   }
  },
  {
   "cell_type": "markdown",
   "source": [
    "$$P(B_1)\\cdot P(B_2) = \\frac{C^1_7 \\cdot C^1_3}{C^2_{10}} \\cdot \\frac{C^1_9\\cdot C^1_2}{C^2_{11}} = \\frac{\\frac{7!}{1!(7-1)!}\\cdot\\frac{3!}{1!(3-1)!}}{\\frac{10!}{2!(10-2)!}} \\cdot \\frac{\\frac{9!}{1!(9-1)!}\\cdot\\frac{2!}{1!(2-1)!}}{\\frac{11!}{2!(11-2)!}} = \\frac{7*3}{45} \\cdot \\frac{9*2}{55} = 0.4667 * 0.3273 = 0,1528$$"
   ],
   "metadata": {
    "collapsed": false
   }
  },
  {
   "cell_type": "markdown",
   "source": [
    "$$P(C_1)\\cdot P(C_2) = \\frac{C^0_7}{C^2_{10}}\\cdot\\frac{C^2_9}{C^2_{11}} = \\frac{\\frac{7!}{0!(7-0)!}}{\\frac{10!}{2!(10-2)!}} \\cdot\\frac{\\frac{9!}{2!(9-2)!}}{\\frac{11!}{2!(11-2)!}} = \\frac{2}{9*10}\\cdot\\frac{4*9}{5*11} = 0.0222 * 0.6546 = 0.0145$$"
   ],
   "metadata": {
    "collapsed": false
   }
  },
  {
   "cell_type": "markdown",
   "source": [
    "$$P = 0.0085 + 0.1528 + 0.0145 = 0,1758 = 17.58\\%$$"
   ],
   "metadata": {
    "collapsed": false
   }
  },
  {
   "cell_type": "markdown",
   "source": [
    "**Ответ: вероятность вытащить ровно два мяча равна 0.1758(17.58%)**\n",
    "\n",
    "---"
   ],
   "metadata": {
    "collapsed": false
   }
  },
  {
   "cell_type": "markdown",
   "source": [
    "**Какова вероятность того, что хотя бы один мяч белый?**\n",
    "Тут удобей пойти от противного и вычислить вероятность того, что все мячи которые вытащили не белые ($\\bar A$)\n",
    "$P(A) = 1 - P(\\bar A)$"
   ],
   "metadata": {
    "collapsed": false
   }
  },
  {
   "cell_type": "markdown",
   "source": [
    "$$P(\\bar A) = \\frac{C^2_3}{C^2_{10}} \\cdot \\frac{C^2_2}{C^2_{11}} = \\frac{\\frac{3!}{2!(3-2)!}}{\\frac{10!}{2!(10-2)!}} \\cdot \\frac{\\frac{2!}{2!(2-2)!}}{\\frac{11!}{2!(11-2)!}} = \\frac{1}{15} \\cdot \\frac{1}{55} = 0.0667 * 0.0182 = 0,0012$$\n",
    "$$P(A) = 1 - 0.0012 = 0,9988 = 99.88\\%$$"
   ],
   "metadata": {
    "collapsed": false
   }
  },
  {
   "cell_type": "markdown",
   "source": [
    "**Ответ: вероятностьтого что хотя бы один мяч белый 0.9988 (99.88\\%)**"
   ],
   "metadata": {
    "collapsed": false
   }
  },
  {
   "cell_type": "markdown",
   "source": [],
   "metadata": {
    "collapsed": false
   }
  }
 ],
 "metadata": {
  "kernelspec": {
   "display_name": "Python 3",
   "language": "python",
   "name": "python3"
  },
  "language_info": {
   "codemirror_mode": {
    "name": "ipython",
    "version": 2
   },
   "file_extension": ".py",
   "mimetype": "text/x-python",
   "name": "python",
   "nbconvert_exporter": "python",
   "pygments_lexer": "ipython2",
   "version": "2.7.6"
  }
 },
 "nbformat": 4,
 "nbformat_minor": 0
}
