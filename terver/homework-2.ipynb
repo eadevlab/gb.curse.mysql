{
 "cells": [
  {
   "cell_type": "markdown",
   "source": [
    "## Практическая работа №2 Теория вероятностей и математическая статистика"
   ],
   "metadata": {
    "collapsed": false
   }
  },
  {
   "cell_type": "markdown",
   "source": [
    "#### Задание №1\n",
    "##### Вероятность того, что стрелок попадет в мишень, выстрелив один раз, равна 0.8. Стрелок выстрелил 100 раз. Найдите вероятность того, что стрелок попадет в цель ровно 85 раз."
   ],
   "metadata": {
    "collapsed": false
   }
  },
  {
   "cell_type": "markdown",
   "source": [
    "Для решения задачи воспользуемся формулой бернули\n",
    "$$P(X=k) = C^n_{k}p^kq^{n-k}$$\n",
    "$$p = 0.8; q = 1 - p = 0.2$$\n",
    "$$P(X=85) = C^{85}_{100}p^{85}q^{15} = \\frac{100!}{85!(100-85)!}*0.8^{85}*0.2^{15}$$\n",
    "с такими числами проще написать python функцию для расчётов"
   ],
   "metadata": {
    "collapsed": false
   }
  },
  {
   "cell_type": "code",
   "execution_count": 22,
   "outputs": [],
   "source": [
    "import numpy as np\n",
    "def bern(n:int, k:int, p:float) -> float:\n",
    "    \"\"\"\n",
    "    Реализация формулы Бернули.\n",
    "    :param n: Количество независящих испытаний\n",
    "    :param k: Количество наступления события А\n",
    "    :param p: Вероятность наступления события А\n",
    "    :return: Вероятность наступления события А k раз в n испытаниях\n",
    "    \"\"\"\n",
    "    return (np.math.factorial(n)/(np.math.factorial(k)*np.math.factorial(n-k)))*(p**k)*(1-p)**(n-k)"
   ],
   "metadata": {
    "collapsed": false
   }
  },
  {
   "cell_type": "code",
   "execution_count": 23,
   "outputs": [
    {
     "name": "stdout",
     "output_type": "stream",
     "text": [
      "P(k=85) = 0.0481\n"
     ]
    }
   ],
   "source": [
    "P = bern(100, 85, 0.8)\n",
    "print('P(k=85) = %.4f' % P)"
   ],
   "metadata": {
    "collapsed": false
   }
  },
  {
   "cell_type": "markdown",
   "source": [
    "##### Ответ: Вероятность того что стрелок попадёт в мишень ровно 85 раз развна 0.0481 (4.81\\%)"
   ],
   "metadata": {
    "collapsed": false
   }
  },
  {
   "cell_type": "markdown",
   "source": [
    "#### Задание №2\n",
    "##### Вероятность того, что лампочка перегорит в течение первого дня эксплуатации, равна 0.0004. В жилом комплексе после ремонта в один день включили 5000 новых лампочек. Какова вероятность, что ни одна из них не перегорит в первый день? Какова вероятность, что перегорят ровно две?"
   ],
   "metadata": {
    "collapsed": false
   }
  },
  {
   "cell_type": "markdown",
   "source": [
    "Применим формулу Пуассона, зная, что m = 0 и $\\lambda = np = 5000*0.0004 = 2$\n",
    "$$P_{0} = \\frac{\\lambda^m}{m!}e^{-\\lambda} = \\frac{2^0}{0!}e^{-2} = 1*e^{-2} = 0.1353$$"
   ],
   "metadata": {
    "collapsed": false
   }
  },
  {
   "cell_type": "markdown",
   "source": [
    "##### Значит, вероятность того что перегорит одна лампочка в первый день равна 0.1353 (13.53%)"
   ],
   "metadata": {
    "collapsed": false
   }
  },
  {
   "cell_type": "markdown",
   "source": [
    "Найдём вероятность того что перегорят ровно 2 лампочки. m = 2\n",
    "$$P_{2} = \\frac{\\lambda^m}{m!}e^{-\\lambda} = \\frac{2^2}{2!}e^{-2} = 2*e^{-2} = 0.2706 = 27.06\\%$$\n",
    "##### Ответ:\n",
    "##### Вероятность того что ни одна ламвочка не перегорит в первый день равна 0.1353 (13.53\\%).\n",
    "##### Вероятность того что перегорит ровно 2 лампочки равна 0.2706 (27.06\\%)"
   ],
   "metadata": {
    "collapsed": false
   }
  },
  {
   "cell_type": "markdown",
   "source": [
    "#### Задание №3\n",
    "##### Монету подбросили 144 раза. Какова вероятность, что орел выпадет ровно 70 раз?"
   ],
   "metadata": {
    "collapsed": false
   }
  },
  {
   "cell_type": "markdown",
   "source": [],
   "metadata": {
    "collapsed": false
   }
  },
  {
   "cell_type": "markdown",
   "source": [
    "#### Задание №4\n",
    "##### В первом ящике находится 10 мячей, из которых 7 - белые. Во втором ящике - 11 мячей, из которых 9 белых. Из каждого ящика вытаскивают случайным образом по два мяча. Какова вероятность того, что все мячи белые? Какова вероятность того, что ровно два мяча белые? Какова вероятность того, что хотя бы один мяч белый?"
   ],
   "metadata": {
    "collapsed": false
   }
  },
  {
   "cell_type": "markdown",
   "source": [],
   "metadata": {
    "collapsed": false
   }
  }
 ],
 "metadata": {
  "kernelspec": {
   "display_name": "Python 3",
   "language": "python",
   "name": "python3"
  },
  "language_info": {
   "codemirror_mode": {
    "name": "ipython",
    "version": 2
   },
   "file_extension": ".py",
   "mimetype": "text/x-python",
   "name": "python",
   "nbconvert_exporter": "python",
   "pygments_lexer": "ipython2",
   "version": "2.7.6"
  }
 },
 "nbformat": 4,
 "nbformat_minor": 0
}
