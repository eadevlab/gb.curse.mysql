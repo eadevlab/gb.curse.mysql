{
 "cells": [
  {
   "cell_type": "markdown",
   "source": [
    "## Практическая работа №6 Теория вероятностей и математическая статистика"
   ],
   "metadata": {
    "collapsed": false
   }
  },
  {
   "cell_type": "markdown",
   "source": [
    "#### Задание №1\n",
    "Даны значения величины заработной платы заемщиков банка (zp) и значения их поведенческого кредитного скоринга (ks):\n",
    "zp = [35, 45, 190, 200, 40, 70, 54, 150, 120, 110],\n",
    "ks = [401, 574, 874, 919, 459, 739, 653, 902, 746, 832].\n",
    "Найдите ковариацию этих двух величин с помощью элементарных действий, а затем с помощью функции cov из numpy\n",
    "Полученные значения должны быть равны.\n",
    "Найдите коэффициент корреляции Пирсона с помощью ковариации и среднеквадратичных отклонений двух признаков,\n",
    "а затем с использованием функций из библиотек numpy и pandas."
   ],
   "metadata": {
    "collapsed": false
   }
  },
  {
   "cell_type": "markdown",
   "source": [
    "Ковариация вычисляется по формуле:\n",
    "$\\displaystyle cov_{XY} = M(XY) - M(X)\\cdot M(Y)$,\n",
    "где M - математическое ожидание"
   ],
   "metadata": {
    "collapsed": false
   }
  },
  {
   "cell_type": "code",
   "execution_count": 2,
   "outputs": [],
   "source": [
    "import numpy as np\n",
    "import pandas as pd"
   ],
   "metadata": {
    "collapsed": false
   }
  },
  {
   "cell_type": "code",
   "execution_count": 3,
   "outputs": [],
   "source": [
    "def list_avg(X:np.array) -> float:\n",
    "    \"\"\"\n",
    "    Функция расчёта мат.ожидания\n",
    "    :param X: Исходный массив\n",
    "    :return: Мат ожидание\n",
    "    \"\"\"\n",
    "    return sum(X)/len(X)\n",
    "\n",
    "def cov_xy(X:np.array, Y:np.array) -> float:\n",
    "    \"\"\"\n",
    "    Функция для расчёта ковариации\n",
    "    :param X:\n",
    "    :param Y:\n",
    "    :return: Коэфициент ковариации\n",
    "    \"\"\"\n",
    "    return list_avg(X*Y) - list_avg(X)*list_avg(Y)"
   ],
   "metadata": {
    "collapsed": false
   }
  },
  {
   "cell_type": "code",
   "execution_count": 5,
   "outputs": [],
   "source": [
    "zp = np.array([35, 45, 190, 200, 40, 70, 54, 150, 120, 110])\n",
    "ks = np.array([401, 574, 874, 919, 459, 739, 653, 902, 746, 832])"
   ],
   "metadata": {
    "collapsed": false
   }
  },
  {
   "cell_type": "code",
   "execution_count": 6,
   "outputs": [
    {
     "data": {
      "text/plain": "9157.839999999997"
     },
     "execution_count": 6,
     "metadata": {},
     "output_type": "execute_result"
    }
   ],
   "source": [
    "cov_xy(zp, ks)"
   ],
   "metadata": {
    "collapsed": false
   }
  },
  {
   "cell_type": "code",
   "execution_count": 10,
   "outputs": [
    {
     "data": {
      "text/plain": "9157.84"
     },
     "execution_count": 10,
     "metadata": {},
     "output_type": "execute_result"
    }
   ],
   "source": [
    "# Функция расчёта коэфициента ковариации библиотеки numpy\n",
    "np.cov(zp,ks, ddof=0)[1][0]"
   ],
   "metadata": {
    "collapsed": false
   }
  },
  {
   "cell_type": "code",
   "execution_count": 13,
   "outputs": [],
   "source": [
    "assert round(cov_xy(zp,ks), 2) == np.cov(zp,ks, ddof=0)[1][0]"
   ],
   "metadata": {
    "collapsed": false
   }
  },
  {
   "cell_type": "markdown",
   "source": [
    "Коэффициент корреляции Пирсона расчитаем по формуле:\n",
    "$r_{XY} = \\frac{\\displaystyle cov_{XY}}{\\sigma_X \\cdot \\sigma_Y}$"
   ],
   "metadata": {
    "collapsed": false
   }
  },
  {
   "cell_type": "code",
   "execution_count": 39,
   "outputs": [],
   "source": [
    "def sigma(X:np.array) -> float:\n",
    "    \"\"\"\n",
    "    Функция расчёта среднеквадратичного отклонения\n",
    "    :param X: Исходный массив\n",
    "    :return: Средне квадратичное отклонение\n",
    "    \"\"\"\n",
    "    return (sum((X-list_avg(X))**2)/len(X))**0.5\n",
    "\n",
    "def pirson_corr(X:np.array, Y:np.array) -> float:\n",
    "    \"\"\"\n",
    "    Функция расчёта коэффициента корреляции Пирсона\n",
    "    :param X:\n",
    "    :param Y:\n",
    "    :return: коэффициент корреляции\n",
    "    \"\"\"\n",
    "    return cov_xy(X,Y)/(sigma(X)*sigma(Y))"
   ],
   "metadata": {
    "collapsed": false
   }
  },
  {
   "cell_type": "code",
   "execution_count": 43,
   "outputs": [
    {
     "data": {
      "text/plain": "0.88749"
     },
     "execution_count": 43,
     "metadata": {},
     "output_type": "execute_result"
    }
   ],
   "source": [
    "manual_corr = round(pirson_corr(zp, ks), 5)\n",
    "manual_corr"
   ],
   "metadata": {
    "collapsed": false
   }
  },
  {
   "cell_type": "code",
   "execution_count": 50,
   "outputs": [
    {
     "data": {
      "text/plain": "0.88749"
     },
     "execution_count": 50,
     "metadata": {},
     "output_type": "execute_result"
    }
   ],
   "source": [
    "# Расчёт корреляции с помощью библиотеки numpy\n",
    "np_corr = round(np.corrcoef(zp,ks)[0][1], 5)\n",
    "np_corr"
   ],
   "metadata": {
    "collapsed": false
   }
  },
  {
   "cell_type": "code",
   "execution_count": 59,
   "outputs": [
    {
     "data": {
      "text/plain": "0.88749"
     },
     "execution_count": 59,
     "metadata": {},
     "output_type": "execute_result"
    }
   ],
   "source": [
    "# Расчёт корреляции с помощью библиотеки pandas\n",
    "df = pd.DataFrame({'zp':zp, 'ks':ks})\n",
    "pd_corr = round(df.corr()['ks']['zp'], 5)\n",
    "pd_corr"
   ],
   "metadata": {
    "collapsed": false
   }
  },
  {
   "cell_type": "code",
   "execution_count": 60,
   "outputs": [],
   "source": [
    "assert manual_corr == np_corr\n",
    "assert manual_corr == pd_corr"
   ],
   "metadata": {
    "collapsed": false
   }
  },
  {
   "cell_type": "markdown",
   "source": [
    "#### Задание №2\n",
    "Измерены значения IQ выборки студентов,\n",
    "обучающихся в местных технических вузах:\n",
    "131, 125, 115, 122, 131, 115, 107, 99, 125, 111.\n",
    "Известно, что в генеральной совокупности IQ распределен нормально.\n",
    "Найдите доверительный интервал для математического ожидания с надежностью 0.95."
   ],
   "metadata": {
    "collapsed": false
   }
  },
  {
   "cell_type": "markdown",
   "source": [
    "если генеральное стандартное отнклонение неизвестно, то интервал можно построить по формуле\n",
    "$T_{1,2} = \\bar X \\pm \\frac{t_{\\gamma} \\cdot \\sigma}{\\sqrt{n}}$, где\n",
    "$\\bar X$ - среднее по выборке<br>\n",
    "$t_{\\gamma}$ - коэфициент доверия расчитанный с помощью распределения Стьюдента<br>\n",
    "$\\sigma$ - несмещенная оценка генерального стандартного отклонения"
   ],
   "metadata": {
    "collapsed": false
   }
  },
  {
   "cell_type": "markdown",
   "source": [
    "Для начала найдём выборочные характеристики, среднее и диссперсию\n",
    "$$\\bar X = \\frac{\\sum_{i=1}^{n} x_i}{n} = \\frac{131 + 125 + 115 + 122 + 131 + 115 + 107 + 99 + 125 + 111}{10} = 118.1$$"
   ],
   "metadata": {
    "collapsed": false
   }
  },
  {
   "cell_type": "markdown",
   "source": [
    "$$D(X) = \\frac{\\sum_{i=1}^{n} (x_i - \\bar X)^2}{n}$$\n",
    "$$\\sum_{i=1}^{n} (x_i - \\bar X)^2 = (131-118.1)^2 + (125-118.1)^2 + (115-118.1)^2 + (122-118.1)^2 + (131-118.1)^2 + (115-118.1)^2 + (107-118.1)^2 + (99-118.1)^2 + (125-118.1)^2 + (111-118.1)^2 = 1000.9$$\n",
    "$$D(X) = \\frac{1000.9}{10} = 100.09$$"
   ],
   "metadata": {
    "collapsed": false
   }
  },
  {
   "cell_type": "markdown",
   "source": [
    "$$\\sigma = \\sqrt{\\frac{n}{n-1}\\cdot D(X)} = \\sqrt{\\frac{10}{9}\\cdot 100.09} = 10.55$$"
   ],
   "metadata": {
    "collapsed": false
   }
  },
  {
   "cell_type": "markdown",
   "source": [
    "согласно таблице распределения Стьюдента для доверительной вероятности $\\gamma = 0.95$ и объёму выборки $n = 10$ соответствует коэффициент доверия:\n",
    "$t_{\\gamma} = 2.26$\n"
   ],
   "metadata": {
    "collapsed": false
   }
  },
  {
   "cell_type": "markdown",
   "source": [
    "Теперь можно найти доверительный интервал\n",
    "$$T_{1,2} = \\bar X \\pm \\frac{t_{\\gamma}\\cdot \\sigma}{\\sqrt{n}} = 118.1 \\pm \\frac{2.26 \\cdot 10.55 }{\\sqrt{10}} = 118.1 \\pm 7.54$$\n",
    "$$T_{1} = 118.1 - 7.54 = 110.56$$\n",
    "$$T_{1} = 118.1 + 7.54 = 125.64$$"
   ],
   "metadata": {
    "collapsed": false
   }
  },
  {
   "cell_type": "markdown",
   "source": [
    "**Ответ: (110.56; 125.64)**"
   ],
   "metadata": {
    "collapsed": false
   }
  },
  {
   "cell_type": "markdown",
   "source": [
    "#### Задание №3\n",
    "Известно, что рост футболистов в сборной распределен нормально\n",
    "с дисперсией генеральной совокупности, равной 25 кв.см. Объем выборки равен 27,\n",
    "среднее выборочное составляет 174.2. Найдите доверительный интервал для математического\n",
    "ожидания с надежностью 0.95."
   ],
   "metadata": {
    "collapsed": false
   }
  },
  {
   "cell_type": "markdown",
   "source": [
    "т.к. указана дисперсиягенеральной совокупности $\\sigma^2 = 25$, можно воспользоваться формулой\n",
    "$T_{1,2} = \\bar X \\pm \\frac{t_{\\gamma} \\cdot \\sigma}{\\sqrt{n}}$, где<br>\n",
    "$\\bar X = M$ - среднее значение<br>\n",
    "$n$ - объём выборки<br>\n",
    "$\\sigma$ - средне квадратичное отклонение<br>\n",
    "$t_{\\gamma}$ - коэфициент доверия $2\\Phi(t_{\\gamma}) = \\gamma => \\Phi(t_{\\gamma}) = \\frac{\\gamma}{2}$<br>\n",
    "$\\Phi(t_{\\gamma})$ - функция Лапласа<br>\n",
    "$\\Phi(t_{\\gamma}) = \\frac{0.95}{2} => \\Phi(t_{\\gamma}) = 0.475$, заглянув в таблицу Лапласа выясним что аргумент функции $t_{\\gamma} = 1.96$\n"
   ],
   "metadata": {
    "collapsed": false
   }
  },
  {
   "cell_type": "markdown",
   "source": [
    "$$T_{1,2} = 174.2 \\pm \\frac{1.96 \\cdot \\sqrt{25}}{\\sqrt{27}} = 174.2 \\pm 1.886$$\n",
    "$$T_1 = 174.2 - 1.886 = 172.314$$\n",
    "$$T_2 = 174.2 + 1.886 = 176.086$$"
   ],
   "metadata": {
    "collapsed": false
   }
  },
  {
   "cell_type": "markdown",
   "source": [
    "**Ответ:**<br>\n",
    "доверительный интервал для оценки математического ожидания a с надежностью 0.95 равен **(172.314; 176.086)**"
   ],
   "metadata": {
    "collapsed": false
   }
  },
  {
   "cell_type": "markdown",
   "source": [
    "#### Задание №4\n",
    "\n",
    "Выберите тему для проектной работы по курсу Теории вероятностей и математической статистики\n",
    "и напишите ее в комментарии к Практическому заданию."
   ],
   "metadata": {
    "collapsed": false
   }
  },
  {
   "cell_type": "markdown",
   "source": [
    "Проектная работа: **Логистическая регрессия**"
   ],
   "metadata": {
    "collapsed": false
   }
  },
  {
   "cell_type": "markdown",
   "source": [],
   "metadata": {
    "collapsed": false
   }
  }
 ],
 "metadata": {
  "kernelspec": {
   "display_name": "Python 3",
   "language": "python",
   "name": "python3"
  },
  "language_info": {
   "codemirror_mode": {
    "name": "ipython",
    "version": 2
   },
   "file_extension": ".py",
   "mimetype": "text/x-python",
   "name": "python",
   "nbconvert_exporter": "python",
   "pygments_lexer": "ipython2",
   "version": "2.7.6"
  }
 },
 "nbformat": 4,
 "nbformat_minor": 0
}
