{
 "cells": [
  {
   "cell_type": "markdown",
   "source": [
    "## Практическая работа №4 Теория вероятностей и математическая статистика"
   ],
   "metadata": {
    "collapsed": false
   }
  },
  {
   "cell_type": "markdown",
   "source": [
    "#### Задание №1\n",
    "##### Случайная непрерывная величина A имеет равномерное распределение на промежутке (200, 800]. Найдите ее среднее значение и дисперсию."
   ],
   "metadata": {
    "collapsed": false
   }
  },
  {
   "cell_type": "markdown",
   "source": [
    "Математическое ожидание:\n",
    "$$M(X) = \\frac{a+b}{2} = \\frac{200+800}{2} = \\frac{1000}{2} = 500$$\n",
    "Дисперсия:\n",
    "$$D(X) = \\frac{(b-a)^2}{12} = \\frac{(800-200)^2}{12} = \\frac{600^2}{12} = 30000$$"
   ],
   "metadata": {
    "collapsed": false
   }
  },
  {
   "cell_type": "markdown",
   "source": [
    "**Ответ:**<br>\n",
    "**M(X) = 500**<br>\n",
    "**D(X) = 30000**"
   ],
   "metadata": {
    "collapsed": false
   }
  },
  {
   "cell_type": "markdown",
   "source": [
    "---"
   ],
   "metadata": {
    "collapsed": false
   }
  },
  {
   "cell_type": "markdown",
   "source": [
    "#### Задание №2\n",
    "##### О случайной непрерывной равномерно распределенной величине B известно, что ее дисперсия равна 0.2.<br>Можно ли найти правую границу величины B и ее среднее значение зная, что левая граница равна 0.5?<br>Если да, найдите ее."
   ],
   "metadata": {
    "collapsed": false
   }
  },
  {
   "cell_type": "markdown",
   "source": [
    "Зная формулу дисперсии для непрерывного равномерного распеределения на отрезке (a;b], и имея значения левой границы с дисперсией можно найти значение правой границы\n",
    "$$D(X) = \\frac{(b-a)^2}{12} => \\sqrt{D(X)} = \\frac{\\sqrt{(b-a)^2}}{\\sqrt{12}} => b - a = \\sqrt{12*D(X)} => b = \\sqrt{12*D(X)} + a$$"
   ],
   "metadata": {
    "collapsed": false
   }
  },
  {
   "cell_type": "markdown",
   "source": [
    "при D(X) = 0.2 и a = 0.5\n",
    "$$b = \\sqrt{12*0.2} + 0.5 = 2.049$$\n",
    "тогда,\n",
    "$$M(X) = \\frac{a+b}{2} = \\frac{0.5+2.049}{2} = \\frac{2.549}{2} = 1,2745$$"
   ],
   "metadata": {
    "collapsed": false
   }
  },
  {
   "cell_type": "markdown",
   "source": [
    "**Ответ:**<br>\n",
    "**b = 2.049**<br>\n",
    "**M(X) = 1.2745**"
   ],
   "metadata": {
    "collapsed": false
   }
  },
  {
   "cell_type": "markdown",
   "source": [
    "---"
   ],
   "metadata": {
    "collapsed": false
   }
  },
  {
   "cell_type": "markdown",
   "source": [
    "#### Задание №3\n",
    "##### Непрерывная случайная величина X распределена нормально и задана плотностью распределения\n",
    "$f(x) = \\frac{1}{4\\cdot \\sqrt{2\\pi}}\\cdot e^{-\\frac{(x+2)^2}{32}}$<br>\n",
    "Найдите:\n",
    "а). M(X)\n",
    "б). D(X)\n",
    "в). std(X) (среднее квадратичное отклонение)"
   ],
   "metadata": {
    "collapsed": false
   }
  },
  {
   "cell_type": "markdown",
   "source": [
    "зная формулу плотности вероятности нормального распределения, можно получить из неё необходимые значения\n",
    "$$f(x) = \\frac{1}{\\sigma \\sqrt{2\\pi}}\\cdot e^{-\\frac{(x-2)^2}{2\\sigma^2}}$$"
   ],
   "metadata": {
    "collapsed": false
   }
  },
  {
   "cell_type": "markdown",
   "source": [
    "Значит $\\sigma = 4, a = -2$<br>\n",
    "$M(X) = a = -2$<br>\n",
    "$D(X) = \\sigma^2 = 4^2 = 16$"
   ],
   "metadata": {
    "collapsed": false
   }
  },
  {
   "cell_type": "markdown",
   "source": [
    "**Ответ:**<br>\n",
    "**M(X) = -2**<br>\n",
    "**D(X) = 16**<br>\n",
    "**$\\sigma = 4$**<br>"
   ],
   "metadata": {
    "collapsed": false
   }
  },
  {
   "cell_type": "markdown",
   "source": [
    "---"
   ],
   "metadata": {
    "collapsed": false
   }
  },
  {
   "cell_type": "markdown",
   "source": [
    "#### Задание №4\n",
    "Рост взрослого населения города X имеет нормальное распределение.<br>\n",
    "Причем, средний рост равен 174 см, а среднее квадратичное отклонение равно 8 см.<br>\n",
    "Какова вероятность того, что случайным образом выбранный взрослый человек имеет рост:<br>\n",
    "а). больше 182 см<br>\n",
    "б). больше 190 см<br>\n",
    "в). от 166 см до 190 см<br>\n",
    "г). от 166 см до 182 см<br>\n",
    "д). от 158 см до 190 см<br>\n",
    "е). не выше 150 см или не ниже 190 см<br>\n",
    "ё). не выше 150 см или не ниже 198 см<br>\n",
    "ж). ниже 166 см.<br>"
   ],
   "metadata": {
    "collapsed": false
   }
  },
  {
   "cell_type": "markdown",
   "source": [
    "Для решения задач необходимо выполнить переход к стандартному нормальному распределению, в общем случае P(X) = P(Z), где $Z = \\frac{x - \\mu}{\\sigma}$<br>\n",
    "затем необходимо найти P(Z) посмотрев значение в таблице Лапласа"
   ],
   "metadata": {
    "collapsed": false
   }
  },
  {
   "cell_type": "markdown",
   "source": [
    "a) $P(X>182) = 1 - P(X<=182) = 1 - P(\\frac{182-174}{8}) = 1 - P(1) = 1 - 0.84134 = 0.15866 $<br>\n",
    "б) $P(X>190) = 1 - P(X<=190) = 1 - P(\\frac{190-174}{8}) = 1 - P(2) = 1 - 0.97725 = 0.02275$<br>\n",
    "в) $P(166 <= X < 190) = P(Z_1) - P(Z_2) = P(\\frac{190-174}{8}) - P(\\frac{166-174}{8}) = 0.97725 - 0.15866 = 0.81859 $<br>\n",
    "г) $P(166 <= X < 182) = P(Z_1) - P(Z_2) = P(\\frac{182-174}{8}) - P(\\frac{166-174}{8}) = 0.84134 - 0.15866 = 0.68268$<br>\n",
    "д) $P(158 <= X < 190) = P(Z_1) - P(Z_2) = P(\\frac{190-174}{8}) - P(\\frac{158-174}{8}) = 0.97725 - 0.2275 = 0.74975$<br>\n",
    "е) $P(166 <= X, X >= 190) = P(Z_1) + (1 - P(Z_2)) = 0.15866 + 0.02275 = 0.18141 $<br>\n",
    "ё) $P(166 <= X, X >= 198) = P(Z_1) + (1 - P(Z_2)) = 0.15866 + (1 - P(\\frac{198-174}{8})) = 0.15866 + (1 - 0.99865) = 0,16001$<br>\n",
    "ж) $P(166 < X) = P(Z) = P(\\frac{166-174}{8}) = 0.15866$<br>"
   ],
   "metadata": {
    "collapsed": false
   }
  },
  {
   "cell_type": "markdown",
   "source": [
    "**Ответ**\n",
    "a) P(X>182) = **0.15866 (15.866\\%)**<br>\n",
    "б) P(X>190) = **0.02275 (2.275\\%)**<br>\n",
    "в) P(166 <= X < 190) = **0.81859 (81.859\\%)**<br>\n",
    "г) P(166 <= X < 182) = **0.68268 (68.268\\%)**<br>\n",
    "д) P(158 <= X < 190) = **0.74975 (74.975\\%)**<br>\n",
    "е) P(166 <= X U X >= 190) = **0.18141 (18.141\\%)**<br>\n",
    "ё) P(166 <= X U X >= 198) = **0.16001 (16\\%)**<br>\n",
    "ж) P(166 < X) = **0.15866 (15.866\\%)**"
   ],
   "metadata": {
    "collapsed": false
   }
  },
  {
   "cell_type": "markdown",
   "source": [
    "#### Задание №5\n",
    "##### На сколько сигм (средних квадратичных отклонений) отклоняется рост человека, равный 190 см, от<br>математического ожидания роста в популяции, в которой M(X) = 178 см и D(X) = 25 кв.см?"
   ],
   "metadata": {
    "collapsed": false
   }
  },
  {
   "cell_type": "markdown",
   "source": [
    "В данном случае можно воспользоваться формулой расчета Z-оценки:\n",
    "$Z = \\frac{X-\\bar x}{\\sigma}, где \\sigma = \\sqrt{D(X)}$<br>\n",
    "$Z=\\frac{190-178}{\\sqrt{25}} = \\frac{12}{5} = 2.4$"
   ],
   "metadata": {
    "collapsed": false
   }
  },
  {
   "cell_type": "markdown",
   "source": [
    "**Ответ: на 2.4 сигмы**"
   ],
   "metadata": {
    "collapsed": false
   }
  },
  {
   "cell_type": "markdown",
   "source": [],
   "metadata": {
    "collapsed": false
   }
  }
 ],
 "metadata": {
  "kernelspec": {
   "display_name": "Python 3",
   "language": "python",
   "name": "python3"
  },
  "language_info": {
   "codemirror_mode": {
    "name": "ipython",
    "version": 2
   },
   "file_extension": ".py",
   "mimetype": "text/x-python",
   "name": "python",
   "nbconvert_exporter": "python",
   "pygments_lexer": "ipython2",
   "version": "2.7.6"
  }
 },
 "nbformat": 4,
 "nbformat_minor": 0
}
