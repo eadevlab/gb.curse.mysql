{
 "cells": [
  {
   "cell_type": "markdown",
   "source": [
    "## Практическая работа №1 Методы сбора и обработки данных из сети Интернет"
   ],
   "metadata": {
    "collapsed": false
   }
  },
  {
   "cell_type": "markdown",
   "source": [
    "#### Задание №1\n",
    "Посмотреть документацию к API GitHub, разобраться как вывести список репозиториев для конкретного пользователя, сохранить JSON-вывод в файле *.json."
   ],
   "metadata": {
    "collapsed": false
   }
  },
  {
   "cell_type": "code",
   "execution_count": 3,
   "outputs": [
    {
     "name": "stdout",
     "output_type": "stream",
     "text": [
      "Список репозиториев:\n",
      "activity\n",
      "amocrm_api\n",
      "curse.python-algs\n",
      "gb-ds-bc\n",
      "gb.education\n",
      "instructions\n",
      "list\n",
      "python\n",
      "suggestions-jquery\n"
     ]
    }
   ],
   "source": [
    "import requests\n",
    "import json\n",
    "\n",
    "def get_json(url: str) -> dict:\n",
    "    \"\"\"\n",
    "    Получение json по url\n",
    "    :param url: Ссылка\n",
    "    :return:\n",
    "    \"\"\"\n",
    "    response = requests.get(url)\n",
    "    if response.status_code != 200:\n",
    "        raise requests.ConnectionError\n",
    "    return response.json()\n",
    "\n",
    "USERNAME = 'eadevlab'\n",
    "url = 'https://api.github.com/users/%s/repos' % USERNAME\n",
    "try:\n",
    "    repos_info = get_json(url)\n",
    "    repo_names = [_['name'] for _ in repos_info ]\n",
    "    with open('./repos.json', 'w') as f:\n",
    "        json.dump(repo_names, f)\n",
    "    print('Список репозиториев:', *repo_names, sep='\\n')\n",
    "except requests.ConnectionError:\n",
    "    print('Возникла ошибка')"
   ],
   "metadata": {
    "collapsed": false
   }
  },
  {
   "cell_type": "markdown",
   "source": [
    "#### Задание №2\n",
    "Изучить список открытых API (https://www.programmableweb.com/category/all/apis). Найти среди них любое, требующее авторизацию (любого типа). Выполнить запросы к нему, пройдя авторизацию. Ответ сервера записать в файл."
   ],
   "metadata": {
    "collapsed": false
   }
  },
  {
   "cell_type": "code",
   "execution_count": null,
   "outputs": [],
   "source": [
    "from urllib.parse import urlencode\n",
    "import requests\n",
    "import json\n",
    "\n",
    "class ApiClient:\n",
    "    base_url = 'https://api.thecatapi.com/v1/'\n",
    "    def __init__(self, api_key):\n",
    "        \"\"\"\n",
    "        Конструктор\n",
    "        :param api_key: Ключ доступа к апи\n",
    "        \"\"\"\n",
    "        self.api_key = api_key\n",
    "\n",
    "    def search(self,page:int=1,limit:int=10) -> dict:\n",
    "        \"\"\"\n",
    "        Постраничный поиск фото\n",
    "        https://api.thecatapi.com/v1/images/search?limit=&page\n",
    "        :param page:\n",
    "        :param limit:\n",
    "        :return:\n",
    "        \"\"\"\n",
    "        return self.__send('images/search', {\n",
    "            'limit': limit,\n",
    "            'page': page\n",
    "        })\n",
    "\n",
    "    def __send(self, method, params):\n",
    "        \"\"\"\n",
    "        Отправка API запроса\n",
    "        :param method:\n",
    "        :param params:\n",
    "        :return:\n",
    "        \"\"\"\n",
    "        url = self.__build(method, params)\n",
    "        response = requests.get(url)\n",
    "        if response.status_code != 200:\n",
    "            raise requests.ConnectionError\n",
    "        return response.json()\n",
    "\n",
    "    def __build(self, method, params):\n",
    "        \"\"\"\n",
    "        Построение ссылки\n",
    "        :param method:\n",
    "        :param params:\n",
    "        :return:\n",
    "        \"\"\"\n",
    "        params['api_key'] = self.api_key\n",
    "        return self.base_url+method+'?'+urlencode(params)\n",
    "\n",
    "\n",
    "API_KEY = 'live_oNsVsaL8TAcRbmZzJvaWrPK0KJUlaVSF1Gu90EQ4Ldj1sJPirxXrFx8VhpaGwhaz'\n",
    "client = ApiClient(API_KEY)\n",
    "try:\n",
    "    with open('./out.json','w') as f:\n",
    "        json.dump(client.search(), f)\n",
    "    print('Готово')\n",
    "except requests.ConnectionError:\n",
    "    print('Ошибка!')"
   ],
   "metadata": {
    "collapsed": false
   }
  }
 ],
 "metadata": {
  "kernelspec": {
   "display_name": "Python 3",
   "language": "python",
   "name": "python3"
  },
  "language_info": {
   "codemirror_mode": {
    "name": "ipython",
    "version": 2
   },
   "file_extension": ".py",
   "mimetype": "text/x-python",
   "name": "python",
   "nbconvert_exporter": "python",
   "pygments_lexer": "ipython2",
   "version": "2.7.6"
  }
 },
 "nbformat": 4,
 "nbformat_minor": 0
}
