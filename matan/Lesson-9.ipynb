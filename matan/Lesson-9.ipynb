{
 "cells": [
  {
   "cell_type": "markdown",
   "id": "cc5f5314",
   "metadata": {},
   "source": [
    "## Введение в математический анализ"
   ]
  },
  {
   "cell_type": "markdown",
   "id": "9298e4ee",
   "metadata": {},
   "source": [
    "### Урок 9. Производная функции нескольких переменных. Часть 2"
   ]
  },
  {
   "cell_type": "markdown",
   "id": "995d623c",
   "metadata": {},
   "source": [
    "#### Задание 1\n",
    "Найти $\\frac{dz}{dt}$, если $z = z(x;y), x = x(t), y = y(t)$<br>\n",
    "$z = x^2+y^2+xy, x = a\\sin{t}, y = a\\cos{t}$\n",
    "#### Решение"
   ]
  },
  {
   "cell_type": "markdown",
   "id": "906f0a48",
   "metadata": {},
   "source": [
    "$$\\frac{dz}{dt} = \\frac{dz}{dx}\\cdot \\frac{dx}{dt} + \\frac{dz}{dy} \\cdot \\frac{dy}{dt}$$"
   ]
  },
  {
   "cell_type": "markdown",
   "id": "97210c29",
   "metadata": {},
   "source": [
    "$$\\frac{dz}{dx} = z_x\\acute{} = 2x+y$$\n",
    "$$\\frac{dz}{dy} = z_y\\acute{} = 2y+x$$\n",
    "$$\\frac{dx}{dt} = (x(t))_t\\acute{} = (a\\sin{t})\\acute{} = a\\cdot \\cos{t}$$\n",
    "$$\\frac{dy}{dt} = (y(t))_t\\acute{} = (a\\cos{t})\\acute{} = -a\\cdot \\sin{t}$$"
   ]
  },
  {
   "cell_type": "markdown",
   "id": "6761168d",
   "metadata": {},
   "source": [
    "$$\\frac{dz}{dt} = (2x+y)\\cdot a\\cdot \\cos{t} - a\\cdot \\sin{t}\\cdot (2y+x) = a(2x\\cos{t}+y\\cos{t} - 2y\\sin{t} - x\\sin{t})$$"
   ]
  },
  {
   "cell_type": "markdown",
   "id": "35b72290",
   "metadata": {},
   "source": [
    "---"
   ]
  },
  {
   "cell_type": "markdown",
   "id": "cb19b3f5",
   "metadata": {},
   "source": [
    "#### Задание 2\n",
    "Для данных $z = f(x; y), x = x(u; v), y = y(u; v)$ найти $\\frac{dz}{du},\\frac{dz}{dv}$ и $dz$:<br>\n",
    "$z=x^3+y^3$, где $x=uv, y = \\frac{u}{v}$\n",
    "#### Решение"
   ]
  },
  {
   "cell_type": "markdown",
   "id": "ccb9186c",
   "metadata": {},
   "source": [
    "$$\\frac{dz}{du} = \\frac{dz}{dx}\\frac{dx}{du}+\\frac{dz}{dy}\\frac{dy}{du}$$\n",
    "$$\\frac{dz}{dv} = \\frac{dz}{dx}\\frac{dx}{dv}+\\frac{dz}{dy}\\frac{dy}{dv}$$\n",
    "$$dz = \\frac{dz}{dx}\\cdot dx + \\frac{dz}{dy}\\cdot dy$$"
   ]
  },
  {
   "cell_type": "markdown",
   "id": "fcfc9bb6",
   "metadata": {},
   "source": [
    "$$\\frac{dx}{du} = (uv)_u\\acute{} = v; \\frac{dx}{dv} = u$$\n",
    "$$\\frac{dy}{du} = (\\frac{du}{dv})_u\\acute{} = \\frac{1}{v}; \\frac{dy}{dv} = \\frac{u}{v^2}$$\n",
    "$$\\frac{dz}{dx} = (x^3+y^3)_x\\acute{} = 3x^2$$\n",
    "$$\\frac{dz}{dy} = 3y^2$$"
   ]
  },
  {
   "cell_type": "markdown",
   "id": "f36612eb",
   "metadata": {},
   "source": [
    "$$\\frac{dz}{du}=3x^2v+3y^2\\frac{1}{v} = 3x^2v+\\frac{3y^2}{v}$$\n",
    "$$\\frac{dz}{dv}=3x^2u+3y^2\\frac{u}{v^2}=3u\\cdot (x^2+\\frac{y^2}{v^2})$$\n",
    "$$dz=3x^2dx+3y^2dy$$"
   ]
  },
  {
   "cell_type": "markdown",
   "id": "3f3c474f",
   "metadata": {},
   "source": [
    "---"
   ]
  },
  {
   "cell_type": "markdown",
   "id": "ab3e11aa",
   "metadata": {},
   "source": [
    "#### Задание 3\n",
    "Найти производные $y\\acute{}(x)$ неявных функций, заданных уравнениями:<br>\n",
    "$xe^{2y} - y\\ln{x} = 8$\n",
    "#### Решение"
   ]
  },
  {
   "cell_type": "markdown",
   "id": "13995b67",
   "metadata": {},
   "source": [
    "$$\\frac{dy}{dx} = \\frac{\\frac{df(x,y)}{dx}}{\\frac{df(x,y)}{dy}}$$"
   ]
  },
  {
   "cell_type": "markdown",
   "id": "7521880d",
   "metadata": {},
   "source": [
    "$$\\frac{df(x,y)}{dx} = (xe^{2y} - y\\ln{x} - 8)_x\\acute{} = e^{2y} - \\frac{y}{x}$$\n",
    "$$\\frac{df(x,y)}{dy} = (xe^{2y} - y\\ln{x})_y\\acute{} = 2xe^{2y} - \\ln{x}$$\n",
    "$$\\frac{dy}{dx} = \\frac{e^{2y} - \\frac{y}{x}}{2xe^{2y} - \\ln{x}}$$"
   ]
  },
  {
   "cell_type": "markdown",
   "id": "cca455a8",
   "metadata": {},
   "source": [
    "---"
   ]
  },
  {
   "cell_type": "markdown",
   "id": "9fa1087f",
   "metadata": {},
   "source": [
    "#### Задание 4\n",
    "Составить уравнение касательной прямой и нормали к\n",
    "кривой $y = y(x)$, заданной уравнением $F(x; y) = 0$ в точке\n",
    "$M_0(x_0; y_0)$:<br>\n",
    "$x^3y-y^3x=6; M_0(2;1)$\n",
    "#### Решение"
   ]
  },
  {
   "cell_type": "markdown",
   "id": "9f4d11cb",
   "metadata": {},
   "source": [
    "Уравнение касательной: $y_k = y_0+y\\acute{}(x_0)(x-x_0)$<br>\n",
    "Уравнение нормали: $y_n = y_0 - \\frac{1}{y\\acute{}(x_0)}(x-x_0)$"
   ]
  },
  {
   "cell_type": "markdown",
   "id": "6b16110c",
   "metadata": {},
   "source": [
    "$$y_x\\acute{} = (x^3y-y^3x-6)_x\\acute{} = 3x^2y-y^3$$\n",
    "$$y\\acute{}(2) = 3\\cdot 2^2\\cdot y - y^3 = 12y-y^3$$"
   ]
  },
  {
   "cell_type": "markdown",
   "id": "84a5c66b",
   "metadata": {},
   "source": [
    "$$y_k = 1+(12-1)(x-2) = 1+11x-22 = 11x-21$$\n",
    "$$y_n = 1-\\frac{x-2}{11} = \\frac{13+x}{11}$$"
   ]
  },
  {
   "cell_type": "markdown",
   "id": "c5474a4d",
   "metadata": {},
   "source": [
    "---"
   ]
  },
  {
   "cell_type": "markdown",
   "id": "dca3fdcd",
   "metadata": {},
   "source": [
    "#### Задание 5\n",
    "Для данных функций найти требуемую частную про-\n",
    "изводную или дифференциал:<br>\n",
    "1. $z = \\sin{x}\\cdot \\sin{y}, d^2z$<br>\n",
    "2. $z=xy+\\sin(x+y),\\frac{d^2z}{dx^2}$\n",
    "\n",
    "#### Решение"
   ]
  },
  {
   "cell_type": "markdown",
   "id": "7944517d",
   "metadata": {},
   "source": [
    "**1. $z = \\sin{x}\\cdot \\sin{y}, d^2z$**"
   ]
  },
  {
   "cell_type": "markdown",
   "id": "f6ebb2d2",
   "metadata": {},
   "source": [
    "$$d^2z = z_{xx}\\acute{}\\acute{}dx^2 + 2z_{xy}\\acute{}\\acute{}dxdy+z_{yy}\\acute{}\\acute{}dy^2$$"
   ]
  },
  {
   "cell_type": "markdown",
   "id": "167a49e0",
   "metadata": {},
   "source": [
    "$$z_x\\acute{} = \\sin{y}\\cdot \\cos{x}$$\n",
    "$$z_x\\acute{}\\acute{} = -\\sin{y}\\cdot \\sin{x}$$\n",
    "$$z_y\\acute{} = \\sin{x}\\cdot \\cos{y}$$\n",
    "$$z_y\\acute{}\\acute{} = -\\sin{y}\\cdot \\sin{x}$$\n",
    "$$z_{xy}\\acute{}\\acute{} = \\cos{x}\\cdot \\cos{y}$$"
   ]
  },
  {
   "cell_type": "markdown",
   "id": "c6ef4235",
   "metadata": {},
   "source": [
    "$$d^2z = -(\\sin{y}\\sin{x})dx^2 + 2dxdy(\\cos{x}\\cos{y}) - \\sin{x}\\sin{y}dy^2 = 2(\\cos{x}\\cos{y})dxdy - \\sin{x}\\sin{y}(dx^2+dy^2)$$"
   ]
  },
  {
   "cell_type": "markdown",
   "id": "869f6afc",
   "metadata": {},
   "source": [
    "**2. $z=xy+\\sin(x+y),\\frac{d^2z}{dx^2}$**"
   ]
  },
  {
   "cell_type": "markdown",
   "id": "1b466b35",
   "metadata": {},
   "source": [
    "$$\\frac{d^2z}{dx^2} = \\frac{d}{dx}(\\frac{dz}{dx})$$"
   ]
  },
  {
   "cell_type": "markdown",
   "id": "ed8546f6",
   "metadata": {},
   "source": [
    "$$\\frac{dz}{dx} = (xy+\\sin(x+y))\\acute{} = y+(x+y)\\acute{} \\cdot \\cos(x+y) = y+\\cos(x+y)$$"
   ]
  },
  {
   "cell_type": "markdown",
   "id": "59e4efae",
   "metadata": {},
   "source": [
    "$$\\frac{d^2z}{dx^2} = (y+\\cos(x+y))_x\\acute{} = -\\sin(x+y)$$"
   ]
  }
 ],
 "metadata": {
  "kernelspec": {
   "display_name": "Python 3 (ipykernel)",
   "language": "python",
   "name": "python3"
  },
  "language_info": {
   "codemirror_mode": {
    "name": "ipython",
    "version": 3
   },
   "file_extension": ".py",
   "mimetype": "text/x-python",
   "name": "python",
   "nbconvert_exporter": "python",
   "pygments_lexer": "ipython3",
   "version": "3.10.6"
  }
 },
 "nbformat": 4,
 "nbformat_minor": 5
}
