{
 "cells": [
  {
   "cell_type": "markdown",
   "source": [
    "## Введение в математический анализ"
   ],
   "metadata": {
    "collapsed": false
   }
  },
  {
   "cell_type": "markdown",
   "source": [
    "#### Урок 2. Множество. Последовательность. Часть 1"
   ],
   "metadata": {
    "collapsed": false
   }
  },
  {
   "cell_type": "code",
   "execution_count": 37,
   "outputs": [],
   "source": [
    "import matplotlib.pyplot as plt\n",
    "import numpy as np"
   ],
   "metadata": {
    "collapsed": false,
    "ExecuteTime": {
     "end_time": "2023-05-03T20:20:48.421367377Z",
     "start_time": "2023-05-03T20:20:47.160873206Z"
    }
   }
  },
  {
   "cell_type": "markdown",
   "source": [
    "### Тема “Введение в математический анализ”\n",
    "#### Как соотносятся понятия “множество” и “последовательность”? (в ответе использовать слова типа: часть, целое, общее, частное, родитель, дочерний субъект и т.д.)"
   ],
   "metadata": {
    "collapsed": false
   }
  },
  {
   "cell_type": "markdown",
   "source": [
    "Ответ: Последовательность - это набор элементов некоторого множества. Множество - родитель последовательности."
   ],
   "metadata": {
    "collapsed": false
   }
  },
  {
   "cell_type": "markdown",
   "source": [
    "#### Прочитать высказывания математической логики, построить их отрицания и установить истинность.\n",
    "![img1](./dz-img-1.jpeg)"
   ],
   "metadata": {
    "collapsed": false
   }
  },
  {
   "cell_type": "markdown",
   "source": [
    "1. Для всех y в диапазоне от 0 до 1, сигнум от y равен 1\n",
    "2. Для всех натуральных n > 2, есть такие x,y,z, для которых $x^n = y^n + z^n$\n",
    "3. Для любого вещественного числа x есть вещественное число X, которое больше x\n",
    "4. Для любого комплексного x нет комплексного y которое было бы больше или меньше него\n",
    "5. Для любого y в диапазоне от 0 до $\\pi/2$ есть положительное $\\epsilon$ для которого выполняется условие $sin(y) < sin(y+\\epsilon)$\n",
    "6. Для любого y в диапазоне от 0 до $\\pi$ есть положительное $\\epsilon$ для которого выполняется условие $cos(y) > cos(y+\\epsilon)$\n",
    "7. Существует x который **не** является натуральным, целым, рациональным, вещественным или комплексным"
   ],
   "metadata": {
    "collapsed": false
   }
  },
  {
   "cell_type": "markdown",
   "source": [
    "Проверка истинности"
   ],
   "metadata": {
    "collapsed": false
   }
  },
  {
   "cell_type": "markdown",
   "source": [
    "Отрицание"
   ],
   "metadata": {
    "collapsed": false
   }
  },
  {
   "cell_type": "markdown",
   "source": [
    "### Тема “Множество”"
   ],
   "metadata": {
    "collapsed": false
   }
  },
  {
   "cell_type": "markdown",
   "source": [
    "#### Даны три множества a,b и с. Необходимо выполнить все изученные виды бинарных операций над всеми комбинациями множеств."
   ],
   "metadata": {
    "collapsed": false
   }
  },
  {
   "cell_type": "markdown",
   "source": [
    "A = 1,2,3,4\n",
    "B = 4,5,6,7\n",
    "C = 1,7,8,9\n",
    "\n",
    "**Объединение:**\n",
    "AB = 1,2,3,4,5,6,7\n",
    "BC = 4,5,6,7,1,8,9\n",
    "AC = 1,2,3,4,7,8,9\n",
    "**Пересечение:**\n",
    "AB = 4\n",
    "BC = 7\n",
    "AC = 1\n",
    "**Разность:**\n",
    "AB = 1,2,3\n",
    "BC = 4,5,6\n",
    "AC = 2,3,4\n",
    "**Симметрическая разность**\n",
    "AB = 1,2,3,5,6,7\n",
    "BC = 4,5,6,1,8,9\n",
    "AC = 2,3,4,7,8,9"
   ],
   "metadata": {
    "collapsed": false
   }
  },
  {
   "cell_type": "markdown",
   "source": [
    "#### *Выполнить задание 1 на языке Python"
   ],
   "metadata": {
    "collapsed": false
   }
  },
  {
   "cell_type": "code",
   "execution_count": 36,
   "outputs": [],
   "source": [
    "# Допустим есть 3 множества\n",
    "a = set({1, 2, 3, 4})\n",
    "b = set({4, 5, 6, 7})\n",
    "c = set({1, 7, 8, 9})"
   ],
   "metadata": {
    "collapsed": false,
    "ExecuteTime": {
     "end_time": "2023-05-03T19:57:55.311479770Z",
     "start_time": "2023-05-03T19:57:55.300151088Z"
    }
   }
  },
  {
   "cell_type": "markdown",
   "source": [
    "Объединение"
   ],
   "metadata": {
    "collapsed": false
   }
  },
  {
   "cell_type": "code",
   "execution_count": 32,
   "outputs": [
    {
     "name": "stdout",
     "output_type": "stream",
     "text": [
      "Объединение ab: {1, 2, 3, 4, 5, 6, 7}\n",
      "Объединение bc: {1, 4, 5, 6, 7, 8, 9}\n",
      "Объединение ac: {1, 2, 3, 4, 7, 8, 9}\n"
     ]
    }
   ],
   "source": [
    "print('Объединение ab:', a|b)\n",
    "print('Объединение bc:', b|c)\n",
    "print('Объединение ac:', a|c)"
   ],
   "metadata": {
    "collapsed": false,
    "ExecuteTime": {
     "end_time": "2023-05-03T19:57:23.091250247Z",
     "start_time": "2023-05-03T19:57:23.085013517Z"
    }
   }
  },
  {
   "cell_type": "markdown",
   "source": [
    "пересечение"
   ],
   "metadata": {
    "collapsed": false
   }
  },
  {
   "cell_type": "code",
   "execution_count": 33,
   "outputs": [
    {
     "name": "stdout",
     "output_type": "stream",
     "text": [
      "Пересечение ab: {4}\n",
      "Пересечение bc: {7}\n",
      "Пересечение ac: {1}\n"
     ]
    }
   ],
   "source": [
    "print('Пересечение ab:', a&b)\n",
    "print('Пересечение bc:', b&c)\n",
    "print('Пересечение ac:', a&c)"
   ],
   "metadata": {
    "collapsed": false,
    "ExecuteTime": {
     "end_time": "2023-05-03T19:57:25.059690314Z",
     "start_time": "2023-05-03T19:57:25.026928590Z"
    }
   }
  },
  {
   "cell_type": "markdown",
   "source": [
    "разность"
   ],
   "metadata": {
    "collapsed": false
   }
  },
  {
   "cell_type": "code",
   "execution_count": 34,
   "outputs": [
    {
     "name": "stdout",
     "output_type": "stream",
     "text": [
      "Разность ab: {1, 2, 3}\n",
      "Разность bc: {4, 5, 6}\n",
      "Разность ac: {2, 3, 4}\n"
     ]
    }
   ],
   "source": [
    "print('Разность ab:', a-b)\n",
    "print('Разность bc:', b-c)\n",
    "print('Разность ac:', a-c)"
   ],
   "metadata": {
    "collapsed": false,
    "ExecuteTime": {
     "end_time": "2023-05-03T19:57:26.882413488Z",
     "start_time": "2023-05-03T19:57:26.868881087Z"
    }
   }
  },
  {
   "cell_type": "markdown",
   "source": [
    "симметрическая разность"
   ],
   "metadata": {
    "collapsed": false
   }
  },
  {
   "cell_type": "code",
   "execution_count": 35,
   "outputs": [
    {
     "name": "stdout",
     "output_type": "stream",
     "text": [
      "Симметрическая разность ab: {1, 2, 3, 5, 6, 7}\n",
      "Симметрическая разность bc: {1, 4, 5, 6, 8, 9}\n",
      "Симметрическая разность ac: {2, 3, 4, 7, 8, 9}\n"
     ]
    }
   ],
   "source": [
    "print('Симметрическая разность ab:', a^b)\n",
    "print('Симметрическая разность bc:', b^c)\n",
    "print('Симметрическая разность ac:', a^c)"
   ],
   "metadata": {
    "collapsed": false,
    "ExecuteTime": {
     "end_time": "2023-05-03T19:57:28.460392670Z",
     "start_time": "2023-05-03T19:57:28.452801639Z"
    }
   }
  },
  {
   "cell_type": "markdown",
   "source": [
    "### Тема 3 “Последовательность”"
   ],
   "metadata": {
    "collapsed": false
   }
  },
  {
   "cell_type": "markdown",
   "source": [
    "#### Даны 4 последовательности. Необходимо:\n",
    "1. исследовать их на монотонность;\n",
    "2. исследовать на ограниченность;\n",
    "3. найти пятый по счету член.\n",
    "\n",
    "$$\\{a_n\\}^{\\infty}_{n=1} = 2^n - n$$\n",
    "$$ \\{b_n\\}^{\\infty}_{n=2} = \\frac{1}{1-n} $$\n",
    "$$ \\{c_n\\}^{\\infty}_{n=1} = -1^n + \\sqrt{2n} $$\n",
    "$$ \\{d_n\\}^{\\infty}_{n=1} = (-1)^{2n} + \\frac{1}{n^2} $$"
   ],
   "metadata": {
    "collapsed": false
   }
  },
  {
   "cell_type": "markdown",
   "source": [
    "**последовательность $\\{a_n\\}^{\\infty}_{n=1} = 2^n - n$**\n",
    "- Монотонно возрастает\n",
    "- Неограниченна\n",
    "- $2^5 - 5 = 32 - 5 = 27$"
   ],
   "metadata": {
    "collapsed": false
   }
  },
  {
   "cell_type": "code",
   "execution_count": 54,
   "outputs": [
    {
     "data": {
      "text/plain": "[<matplotlib.lines.Line2D at 0x7f6788aa4100>]"
     },
     "execution_count": 54,
     "metadata": {},
     "output_type": "execute_result"
    },
    {
     "data": {
      "text/plain": "<Figure size 640x480 with 1 Axes>",
      "image/png": "[encoded data removed]"
     },
     "metadata": {},
     "output_type": "display_data"
    }
   ],
   "source": [
    "x = np.linspace(1,10,10)\n",
    "y = 2**x-x\n",
    "plt.plot(x,y)"
   ],
   "metadata": {
    "collapsed": false,
    "ExecuteTime": {
     "end_time": "2023-05-03T20:25:55.935774219Z",
     "start_time": "2023-05-03T20:25:55.683917082Z"
    }
   }
  },
  {
   "cell_type": "markdown",
   "source": [
    "**последовательность $\\{b_n\\}^{\\infty}_{n=2} = \\frac{1}{1-n}$**\n",
    "- Монотонно возрастает\n",
    "- Ограничена\n",
    "- $\\frac{1}{1-6} = \\frac{1}{-5} = -0.2$"
   ],
   "metadata": {
    "collapsed": false
   }
  },
  {
   "cell_type": "code",
   "execution_count": 57,
   "outputs": [
    {
     "data": {
      "text/plain": "[<matplotlib.lines.Line2D at 0x7f678894e0a0>]"
     },
     "execution_count": 57,
     "metadata": {},
     "output_type": "execute_result"
    },
    {
     "data": {
      "text/plain": "<Figure size 640x480 with 1 Axes>",
      "image/png": "[encoded data removed]"
     },
     "metadata": {},
     "output_type": "display_data"
    }
   ],
   "source": [
    "x = np.linspace(2,25,25)\n",
    "y = 1/(1-x)\n",
    "plt.plot(x,y)"
   ],
   "metadata": {
    "collapsed": false,
    "ExecuteTime": {
     "end_time": "2023-05-03T20:26:38.466130110Z",
     "start_time": "2023-05-03T20:26:38.319184829Z"
    }
   }
  },
  {
   "cell_type": "markdown",
   "source": [
    "**последовательность $\\{c_n\\}^{\\infty}_{n=1} = -1^n + \\sqrt{2n}$**\n",
    "- Монотонно возрастает\n",
    "- Неограниченна\n",
    "- $-1^5 + \\sqrt(2*5) = -1 + 3.1622 = 2.1622$"
   ],
   "metadata": {
    "collapsed": false
   }
  },
  {
   "cell_type": "code",
   "execution_count": 58,
   "outputs": [
    {
     "data": {
      "text/plain": "[<matplotlib.lines.Line2D at 0x7f6788924d90>]"
     },
     "execution_count": 58,
     "metadata": {},
     "output_type": "execute_result"
    },
    {
     "data": {
      "text/plain": "<Figure size 640x480 with 1 Axes>",
      "image/png": "[encoded data removed]"
     },
     "metadata": {},
     "output_type": "display_data"
    }
   ],
   "source": [
    "x = np.linspace(1,25,25)\n",
    "y = -1**x + np.sqrt(2*x)\n",
    "plt.plot(x,y)"
   ],
   "metadata": {
    "collapsed": false,
    "ExecuteTime": {
     "end_time": "2023-05-03T20:27:09.238576859Z",
     "start_time": "2023-05-03T20:27:09.102011001Z"
    }
   }
  },
  {
   "cell_type": "markdown",
   "source": [
    "**последовательность $\\{d_n\\}^{\\infty}_{n=1} = (-1)^{2n} + \\frac{1}{n^2}$**\n",
    "- Монотонно убывает\n",
    "- Ограничена\n",
    "- $(-1)^{2*5} + \\frac{1}{5^2} = 1 + \\frac{1}{25} = 1.04$"
   ],
   "metadata": {
    "collapsed": false
   }
  },
  {
   "cell_type": "code",
   "execution_count": 60,
   "outputs": [
    {
     "data": {
      "text/plain": "[<matplotlib.lines.Line2D at 0x7f6788864fa0>]"
     },
     "execution_count": 60,
     "metadata": {},
     "output_type": "execute_result"
    },
    {
     "data": {
      "text/plain": "<Figure size 640x480 with 1 Axes>",
      "image/png": "[encoded data removed]"
     },
     "metadata": {},
     "output_type": "display_data"
    }
   ],
   "source": [
    "x = np.linspace(1,25,25)\n",
    "y = (-1)**(2*x) + 1/(x**2)\n",
    "plt.plot(x,y)"
   ],
   "metadata": {
    "collapsed": false,
    "ExecuteTime": {
     "end_time": "2023-05-03T20:28:06.123605083Z",
     "start_time": "2023-05-03T20:28:05.949890463Z"
    }
   }
  },
  {
   "cell_type": "markdown",
   "source": [
    "#### Найти 12-й член заданной неявно последовательности\n",
    "$$ a_1 = 128, a_{n+1} - a_n = 6 $$"
   ],
   "metadata": {
    "collapsed": false
   }
  },
  {
   "cell_type": "markdown",
   "source": [
    "$$ a_{n+1} - a_n = 6 => a_{n+1} = a_n + 6$$\n",
    "$$ a_{n+1} = a_1 + 6(n-1)$$\n",
    "$$ a_{12} = 128 + 6*11 = 128 + 66 = 194 $$\n"
   ],
   "metadata": {
    "collapsed": false
   }
  },
  {
   "cell_type": "markdown",
   "source": [
    "#### *На языке Python предложить алгоритм вычисляющий численно предел с точностью $\\epsilon = 10^{-7}$"
   ],
   "metadata": {
    "collapsed": false
   }
  },
  {
   "cell_type": "markdown",
   "source": [],
   "metadata": {
    "collapsed": false
   }
  }
 ],
 "metadata": {
  "kernelspec": {
   "display_name": "Python 3",
   "language": "python",
   "name": "python3"
  },
  "language_info": {
   "codemirror_mode": {
    "name": "ipython",
    "version": 2
   },
   "file_extension": ".py",
   "mimetype": "text/x-python",
   "name": "python",
   "nbconvert_exporter": "python",
   "pygments_lexer": "ipython2",
   "version": "2.7.6"
  }
 },
 "nbformat": 4,
 "nbformat_minor": 0
}
