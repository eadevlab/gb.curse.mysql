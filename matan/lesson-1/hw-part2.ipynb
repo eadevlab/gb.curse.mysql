{
 "cells": [
  {
   "cell_type": "markdown",
   "source": [
    "## Введение в математический анализ"
   ],
   "metadata": {
    "collapsed": false
   }
  },
  {
   "cell_type": "markdown",
   "source": [
    "#### Урок 2. Множество. Последовательность. Часть 1"
   ],
   "metadata": {
    "collapsed": false
   }
  },
  {
   "cell_type": "markdown",
   "source": [
    "#### Представьте в виде несократимой рациональной дроби:\n",
    "а) 0.(216);\n",
    "б) 1.0(01)."
   ],
   "metadata": {
    "collapsed": false
   }
  },
  {
   "cell_type": "markdown",
   "source": [
    "#### 2. Проверьте любым способом, являются ли данные логические формулы тавтологией:\n",
    "а) (A || B) &#8594; (B || A̅)\n",
    "б) A &#8594; (A || (¬B && A))"
   ],
   "metadata": {
    "collapsed": false
   }
  },
  {
   "cell_type": "markdown",
   "source": [
    "Т.к формулы достаточно простые можно построить таблицы истинности"
   ],
   "metadata": {
    "collapsed": false
   }
  },
  {
   "cell_type": "markdown",
   "source": [
    "а) (A || B) &#8594; (B || A̅)"
   ],
   "metadata": {
    "collapsed": false
   }
  },
  {
   "cell_type": "markdown",
   "source": [
    "|       |   |   | |  |\n",
    "|-------|---|---|---|---|\n",
    "| A     | 0 | 0 | 1 | 1 |\n",
    "| B     | 0 | 1 | 0 | 1 |\n",
    "| A v B | 0 | 1 | 1 | 1 |\n",
    "| B v A̅ | 1 | 1 | 0 | 1 |\n",
    "\n",
    "Как видим выражение не является тождественно истинным."
   ],
   "metadata": {
    "collapsed": false
   }
  },
  {
   "cell_type": "markdown",
   "source": [
    "#### 3. Сформулируйте словесно высказывания:\n",
    "а) (AA̅∨ BB) → CC̅\n",
    "б) CC → (AA ∨ BB�)\n",
    "где А: сегодня светит солнце; В: сегодня сыро; С: я поеду на дачу."
   ],
   "metadata": {
    "collapsed": false
   }
  }
 ],
 "metadata": {
  "kernelspec": {
   "display_name": "Python 3",
   "language": "python",
   "name": "python3"
  },
  "language_info": {
   "codemirror_mode": {
    "name": "ipython",
    "version": 2
   },
   "file_extension": ".py",
   "mimetype": "text/x-python",
   "name": "python",
   "nbconvert_exporter": "python",
   "pygments_lexer": "ipython2",
   "version": "2.7.6"
  }
 },
 "nbformat": 4,
 "nbformat_minor": 0
}
