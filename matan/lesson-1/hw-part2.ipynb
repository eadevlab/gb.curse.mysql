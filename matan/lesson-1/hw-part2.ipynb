{
 "cells": [
  {
   "cell_type": "markdown",
   "source": [
    "## Введение в математический анализ"
   ],
   "metadata": {
    "collapsed": false
   }
  },
  {
   "cell_type": "markdown",
   "source": [
    "#### Урок 2. Множество. Последовательность. Часть 1"
   ],
   "metadata": {
    "collapsed": false
   }
  },
  {
   "cell_type": "markdown",
   "source": [
    "#### Представьте в виде несократимой рациональной дроби:\n",
    "а) 0.(216);<br>\n",
    "б) 1.0(01)."
   ],
   "metadata": {
    "collapsed": false
   }
  },
  {
   "cell_type": "markdown",
   "source": [
    "__а) 0.(216)__\n",
    "$$x = 0.(216)$$\n",
    "$$ 1000x = 216.(216) $$\n",
    "$$ 1000x - x = 216.(216) - 0.(216) $$\n",
    "$$ 999x = 216 $$\n",
    "$$ x = \\frac{216}{999} = \\frac{8}{27} $$\n",
    "\n",
    "##### Ответ: $\\frac{8}{27}$"
   ],
   "metadata": {
    "collapsed": false
   }
  },
  {
   "cell_type": "markdown",
   "source": [
    "__б) 1.0(01)__\n",
    "$$ x = 1.0(01) $$\n",
    "$$ 1000x = 1001.(01) $$\n",
    "$$ 1000x - 10x = 1001.(01) - 10.(01) $$\n",
    "$$ 990x = 991 $$\n",
    "$$ x = \\frac{991}{990} = 1\\frac{1}{990} $$\n",
    "\n",
    "##### Ответ: $1\\frac{1}{990}$"
   ],
   "metadata": {
    "collapsed": false
   }
  },
  {
   "cell_type": "markdown",
   "source": [
    "#### 2. Проверьте любым способом, являются ли данные логические формулы тавтологией:\n",
    "а) (A || B) &#8594; (B || A̅)<br>\n",
    "б) A &#8594; (A || (¬B && A))"
   ],
   "metadata": {
    "collapsed": false
   }
  },
  {
   "cell_type": "markdown",
   "source": [
    "Т.к формулы достаточно простые можно построить таблицы истинности"
   ],
   "metadata": {
    "collapsed": false
   }
  },
  {
   "cell_type": "markdown",
   "source": [
    "__а) (A || B) &#8594; (B || A̅)__"
   ],
   "metadata": {
    "collapsed": false
   }
  },
  {
   "cell_type": "markdown",
   "source": [
    "|       |   |   | |  |\n",
    "|-------|---|---|---|---|\n",
    "| A     | 0 | 0 | 1 | 1 |\n",
    "| B     | 0 | 1 | 0 | 1 |\n",
    "| A v B | 0 | 1 | 1 | 1 |\n",
    "| B v A̅ | 1 | 1 | 0 | 1 |\n",
    "\n",
    "Как видим выражение не является тавтологией."
   ],
   "metadata": {
    "collapsed": false
   }
  },
  {
   "cell_type": "markdown",
   "source": [
    "__б) A &#8594; (A || (¬B && A))__\n",
    "\n",
    "|                 |       |       |       |       |\n",
    "|-----------------|-------|-------|-------|-------|\n",
    "| A               | __0__ | __0__ | __1__ | __1__ |\n",
    "| B               | 0     | 1     | 0     | 1     |\n",
    "| (¬B && A)       | 0     | 0     | 1     | 0     |\n",
    "| (A v (¬B && A)) | __0__ | __0__ | __1__ | __1__ |\n",
    "\n",
    "Данная формуля является тавтологией"
   ],
   "metadata": {
    "collapsed": false
   }
  },
  {
   "cell_type": "markdown",
   "source": [
    "#### 3. Сформулируйте словесно высказывания:\n",
    "а) (Ā ∨ B) → C̅\n",
    "б) C → (A ∨ ¬B)\n",
    "где А: сегодня светит солнце; В: сегодня сыро; С: я поеду на дачу.\n",
    "\n",
    "##### Ответ:\n",
    "а) Если сегодня не светит солнце или сегодня сыро, то я не поеду на дачу<br>\n",
    "б) Если я поеду на дачу, то сегодня светит солнце или сегодня сухо"
   ],
   "metadata": {
    "collapsed": false
   }
  }
 ],
 "metadata": {
  "kernelspec": {
   "display_name": "Python 3",
   "language": "python",
   "name": "python3"
  },
  "language_info": {
   "codemirror_mode": {
    "name": "ipython",
    "version": 2
   },
   "file_extension": ".py",
   "mimetype": "text/x-python",
   "name": "python",
   "nbconvert_exporter": "python",
   "pygments_lexer": "ipython2",
   "version": "2.7.6"
  }
 },
 "nbformat": 4,
 "nbformat_minor": 0
}
