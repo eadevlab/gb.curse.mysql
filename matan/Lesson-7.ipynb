{
 "cells": [
  {
   "cell_type": "markdown",
   "id": "ee3770d6",
   "metadata": {},
   "source": [
    "## Введение в математический анализ"
   ]
  },
  {
   "cell_type": "markdown",
   "id": "5b32dbaa",
   "metadata": {},
   "source": [
    "### Урок 7. Производная функции одной переменной. Часть 2"
   ]
  },
  {
   "cell_type": "code",
   "execution_count": 1,
   "id": "e62f02ee",
   "metadata": {},
   "outputs": [],
   "source": [
    "import matplotlib.pyplot as plt\n",
    "import numpy as np"
   ]
  },
  {
   "cell_type": "markdown",
   "id": "07a93179",
   "metadata": {},
   "source": [
    "#### Задание 1\n",
    "Найти интервалы возрастания и убывания функций:\n",
    "1. $f(x) = x + e^{-x}$\n",
    "2. $f(x) = x\\ln{x}$\n",
    "3. $f(x) = \\frac{1}{1-x^2}$\n",
    "#### Решение"
   ]
  },
  {
   "cell_type": "markdown",
   "id": "65cdaa39",
   "metadata": {},
   "source": [
    "**1. $f(x) = x + e^{-x}$**\n",
    "Найдём производную\n",
    "$$f\\acute{}(x) = (x + e^{-x})\\acute{} = 1 - e^{-x} = \\frac{e^x-1}{e^x}$$\n",
    "Найдём нули функции\n",
    "$$\\frac{e^x-1}{e^x} = 0$$\n",
    "$$x = 0$$\n",
    "т.е. функция убывает в интервале $(-\\infty; 0)$ и возрастает в интервале $(0; \\infty)$"
   ]
  },
  {
   "cell_type": "markdown",
   "id": "7e366a82",
   "metadata": {},
   "source": [
    "**2. $f(x) = x\\ln{x}$**\n",
    "$$f\\acute{}(x) = (x\\ln{x})\\acute{} = x\\acute{}\\cdot x\\ln(x)\\acute{} = ln(x) + 1$$\n",
    "Решим неравенство\n",
    "$$\\ln(x) + 1 > 0$$\n",
    "$$\\ln(x) > -1$$\n",
    "$$x > e^-1$$\n",
    "$$x > \\frac{1}{e}$$\n",
    "т.е. функция убывает в интервале $(-\\infty; \\frac{1}{e})$ и возрастает в интервале $(\\frac{1}{e}; \\infty)$"
   ]
  },
  {
   "cell_type": "markdown",
   "id": "9c05f869",
   "metadata": {},
   "source": [
    "**3. $f(x) = \\frac{1}{1-x^2}$**\n",
    "В точках x=1 и x=-1 наблюдается разрыв\n",
    "$$f\\acute{}(x) = (\\frac{1}{1-x^2})\\acute{} = \\frac{1\\acute{} \\cdot (1-x^2) - 1 \\cdot (1-x^2)\\acute{}}{(1-x^2)^2} = \\frac{2x}{(1-x^2)^2}$$\n",
    "Решим неравенство\n",
    "$$\\frac{2x}{(1-x^2)^2} > 0$$\n",
    "$$x > 0$$\n",
    "Функция убывает: $(-\\infty; -1),(-1; 0)$<br>\n",
    "Функция убывает: $(0; 1), (1, +\\infty)$"
   ]
  },
  {
   "cell_type": "markdown",
   "id": "6635cb1a",
   "metadata": {},
   "source": [
    "---"
   ]
  },
  {
   "cell_type": "markdown",
   "id": "931ec3bb",
   "metadata": {},
   "source": [
    "#### Задание 2\n",
    "Найти экстремумы функций:\n",
    "1. $f(x) = x^3 - 3x + 1$\n",
    "2. $y = e^{x^2 - 4x + 5}$\n",
    "3. $y = x - arctg(x)$\n",
    "\n",
    "#### Решение\n",
    "Для находеия экстремумов функции необходимо:\n",
    "- найти производную функции\n",
    "- найти критические точки в которых $f\\acute{}(x) = 0$\n",
    "- Найти знак функции до и после крит точки\n",
    "    - Если знак меняется с - на + - это точка минимума\n",
    "    - Если знак меняется с + на - - это точка максимума"
   ]
  },
  {
   "cell_type": "markdown",
   "id": "93084956",
   "metadata": {},
   "source": [
    "**1. $f(x) = x^3 - 3x + 1$**\n",
    "$$f\\acute{}(x)  = (x^3 - 3x + 1)\\acute{} = 3x^2 - 3$$\n",
    "$$3x^2 - 3 = 0$$\n",
    "$$3x^2 = 3$$\n",
    "$$x^2 = 1$$\n",
    "$$x = \\pm 1$$"
   ]
  },
  {
   "cell_type": "markdown",
   "id": "cfc07dd5",
   "metadata": {},
   "source": [
    "На промежутке $(\\infty, -1)$ функция возрастает<br>\n",
    "На промежутке $(-1, 1)$ функция убывает<br>\n",
    "На промежутке $(1, \\infty)$ функция убывает<br>\n",
    "Значит, $x_0 = -1$ - точка максимума, а в $x_1 = 1$ - максимум."
   ]
  },
  {
   "cell_type": "markdown",
   "id": "fed9a654",
   "metadata": {},
   "source": [
    "$$f(-1) = (-1)^3 - 3(-1) + 1 = 3$$\n",
    "$$f(1) = (1)^3 - 3(1) + 1 = -1$$"
   ]
  },
  {
   "cell_type": "markdown",
   "id": "02957d25",
   "metadata": {},
   "source": [
    "**2. $y = e^{x^2 - 4x + 5}$**\n",
    "$$y\\acute{} = (e^{x^2 - 4x + 5})\\acute{} = e^{x^2-4x+5}\\cdot (2x-4)$$\n",
    "$$e^{x^2-4x+5}\\cdot (2x-4) = 0$$\n",
    "данное условие будет выполнятся только когда\n",
    "$$2x-4 = 0$$\n",
    "$$x = 2$$"
   ]
  },
  {
   "cell_type": "markdown",
   "id": "e451557a",
   "metadata": {},
   "source": [
    "Существует только одна критическая точка<br>\n",
    "На промежутке (-∞,2) функция убывает<br>\n",
    "На промежутке (2,∞) функция возрастает<br>\n",
    "Значит точка x=2 - минимум<br>\n",
    "$$y_{x=2} = e^{2^2 - 4\\cdot 2 + 5} = e^{4-8+5} = e$$"
   ]
  },
  {
   "cell_type": "markdown",
   "id": "2e49866c",
   "metadata": {},
   "source": [
    "**3. $y = x - arctg(x)$**\n",
    "$$y\\acute{} = (x - arctg(x))\\acute{} = 1 - \\frac{1}{1+x^2} = \\frac{x^2}{1+x^2}$$\n",
    "$$\\frac{x^2}{1+x^2} = 0$$\n",
    "$$x = 0$$"
   ]
  },
  {
   "cell_type": "markdown",
   "id": "1be92254",
   "metadata": {},
   "source": [
    "Существует только одна критическая точка<br>\n",
    "На промежутке (-∞,0) функция убывает<br>\n",
    "На промежутке (0,∞) функция возрастает<br>\n",
    "Значит точка x=0 - минимум<br>\n",
    "$$y_{x=0} =  x - arctg(x) = 0 - arctg(0) = 0$$"
   ]
  },
  {
   "cell_type": "markdown",
   "id": "0c600267",
   "metadata": {},
   "source": [
    "---"
   ]
  },
  {
   "cell_type": "markdown",
   "id": "ac370de9",
   "metadata": {},
   "source": [
    "#### Задание 3\n",
    "Найти интервалы выпуклости и точки перегиба функций:\n",
    "1. $f(x) = e^{-x^2}$\n",
    "2. $y = \\cos{x}$\n",
    "3. $y = x^5 -10x^2 +7x$\n",
    "#### Решение"
   ]
  },
  {
   "cell_type": "markdown",
   "id": "30e96352",
   "metadata": {},
   "source": [
    "**1. $f(x) = e^{-x^2}$**\n",
    "$$f(x)\\acute{} = (e^{-x^2})\\acute{} = -2xe^{-x^2}$$\n",
    "$$f(x)\\acute{}\\acute{} = (-2xe^{-x^2})\\acute{} = \\frac{4x^2-2}{e^{x^2}}$$\n",
    "$$\\frac{4x^2-2}{e^{x^2}} = 0$$\n",
    "$$4x^2-2 = 0$$\n",
    "$$x = \\pm \\sqrt{\\frac12}$$"
   ]
  },
  {
   "cell_type": "markdown",
   "id": "abd08356",
   "metadata": {},
   "source": [
    "- $(-\\infty; -\\sqrt{\\frac12})$ - функция вогнута\n",
    "- $(-\\sqrt{\\frac12}; \\sqrt{\\frac12})$ - функция выпукла\n",
    "- $(\\sqrt{\\frac12}; \\infty)$ - функция вогнута\n",
    "**точки перегиба**\n",
    "$$f(-\\sqrt{\\frac12}) = e^{-(-\\sqrt{\\frac12})^2} = e^{-\\frac12}$$\n",
    "$$f(\\sqrt{\\frac12}) = e^{-(\\sqrt{\\frac12})^2} = e^{-\\frac12}$$"
   ]
  },
  {
   "cell_type": "markdown",
   "id": "0198441a",
   "metadata": {},
   "source": [
    "**2. $y = \\cos{x}$**\n",
    "$$y\\acute{} = (\\cos{x})\\acute{} = -\\sin{x}$$\n",
    "$$y\\acute{}\\acute{} = (-\\sin{x})\\acute{} = -\\cos{x}$$\n",
    "$$-\\cos{x} = 0$$\n",
    "$$x = \\frac{\\pi}{2} + \\pi\\cdot n; n \\in Z$$\n",
    "Функция имеет монжество точек перегиба на промежутке $(-\\infty;\\infty)$<br>\n",
    "Рассмотрим функцию на промежутке $(\\frac{\\pi}{2};\\frac{5\\pi}{2})$<br>\n",
    "- $(\\frac{\\pi}{2};\\frac{3\\pi}{2})$ - вогнута\n",
    "- $(\\frac{3\\pi}{2};\\frac{5\\pi}{2})$ - выпукла"
   ]
  },
  {
   "cell_type": "markdown",
   "id": "5e92ca9a",
   "metadata": {},
   "source": [
    "**3. $y = x^5 -10x^2 +7x$**\n",
    "$$y\\acute{} = 5x^4 - 20x + 7$$\n",
    "$$y\\acute{}\\acute{} = 20x^3 - 20$$\n",
    "$$20x^3 - 20 = 0$$\n",
    "$$x^3 = 1$$\n",
    "$$x = 1$$"
   ]
  },
  {
   "cell_type": "markdown",
   "id": "93533b30",
   "metadata": {},
   "source": [
    "- $(-\\infty;1), y\\acute{}\\acute{} < 0$ - функция вогнута\n",
    "- $(1; \\infty), y\\acute{}\\acute{} > 0$ - функция выпукла"
   ]
  },
  {
   "cell_type": "markdown",
   "id": "ca08859d",
   "metadata": {},
   "source": [
    "**точка перелома**\n",
    "$$y_{x=1} = 1^5 -10\\cdot 1^2 +7\\cdot 1 = 1 - 10 + 7 = -2$$\n",
    "**(1,-2)**"
   ]
  },
  {
   "cell_type": "markdown",
   "id": "8cbd5386",
   "metadata": {},
   "source": [
    "---"
   ]
  },
  {
   "cell_type": "markdown",
   "id": "a7a8c438",
   "metadata": {},
   "source": [
    "#### Задание 4\n",
    "Найти асимптоты графиков функций:\n",
    "1. $y = \\frac{3x}{x+2}$\n",
    "2. $y = e^{-\\frac{1}{x}}$\n",
    "#### Решение"
   ]
  },
  {
   "cell_type": "markdown",
   "id": "b16332c1",
   "metadata": {},
   "source": [
    "**1. $y = \\frac{3x}{x+2}$**\n",
    "Наблюдается разрыв при x=-2. Найдём одностороние пределы.\n",
    "$$\\lim\\limits_{x\\to-2-0} \\frac{3(-2-0)}{(-2-0)+2} = \\lim\\limits_{x\\to-2-0} \\frac{-6}{-0} = - \\infty$$\n",
    "$$\\lim\\limits_{x\\to-2+0} \\frac{3(-2+0)}{(-2+0)+2} = \\lim\\limits_{x\\to-2+0} \\frac{-6}{+0} = - \\infty$$\n",
    "Пределы бесконечны, значит прямая x = -2 вертикальная асимптома"
   ]
  },
  {
   "cell_type": "markdown",
   "id": "8e104035",
   "metadata": {},
   "source": [
    "Найдём наклонные ассимптомы.\n",
    "$$y = kx + b$$\n",
    "$$k = \\lim\\limits_{x\\to\\infty} \\frac{f(x)}{x}$$\n",
    "$$b = \\lim\\limits_{x\\to\\infty}(f(x) - kx)$$"
   ]
  },
  {
   "cell_type": "markdown",
   "id": "b91ed452",
   "metadata": {},
   "source": [
    "$$k = \\lim\\limits_{x\\to\\infty} \\frac{3x}{x+2}\\cdot \\frac{1}{x} = \\lim\\limits_{x\\to\\infty} \\frac{3}{x+2} = 0$$"
   ]
  },
  {
   "cell_type": "markdown",
   "id": "8dd49bed",
   "metadata": {},
   "source": [
    "$$b = \\lim\\limits_{x\\to\\infty} \\frac{3x}{x+2} - 0x = 3\\cdot \\lim\\limits_{x\\to\\infty} \\frac{x}{x+2} = 3\\cdot \\lim\\limits_{x\\to\\infty}\\frac{1}{1+\\frac{2}{x}} = 3 \\cdot \\lim\\limits_{x\\to\\infty} \\frac11 = 3$$"
   ]
  },
  {
   "cell_type": "markdown",
   "id": "70a20c48",
   "metadata": {},
   "source": [
    "$$ y = kx + b = 0x + 3 = 3$$\n",
    "$$y = 3$$\n",
    "y = 3 - горизонтальная асимптома."
   ]
  },
  {
   "cell_type": "markdown",
   "id": "a16a53ca",
   "metadata": {},
   "source": [
    "**2. $y = e^{-\\frac{1}{x}}$**<br>\n",
    "Найдём наклонные ассимптомы при $x \\to \\infty$\n",
    "$$ k = \\lim\\limits_{x\\to\\infty} \\frac{1}{\\sqrt[x]{e}} \\cdot \\frac{1}{x} = \\lim\\limits_{x\\to\\infty} \\frac{1}{x\\sqrt[x]{e}} = 0$$\n",
    "$$b = \\lim\\limits_{x\\to\\infty} \\frac{1}{\\sqrt[x]{e}} = 1$$\n",
    "$$y = kx + b = 1$$"
   ]
  },
  {
   "cell_type": "markdown",
   "id": "8cca8bfa",
   "metadata": {},
   "source": [
    "Найдём наклонные ассимптомы при $x \\to -\\infty$\n",
    "$$ k = \\lim\\limits_{x\\to-\\infty} \\frac{1}{\\sqrt[x]{e}} \\cdot \\frac{1}{x} = \\lim\\limits_{x\\to-\\infty} \\frac{1}{x\\sqrt[x]{e}} = 0$$\n",
    "$$b = \\lim\\limits_{x\\to-\\infty} \\frac{1}{\\sqrt[x]{e}} = 1$$\n",
    "$$y = kx + b = 1$$"
   ]
  },
  {
   "cell_type": "markdown",
   "id": "d2d4cdfa",
   "metadata": {},
   "source": [
    "прямая y = 3 - горизонтальная асимптома"
   ]
  }
 ],
 "metadata": {
  "kernelspec": {
   "display_name": "Python 3 (ipykernel)",
   "language": "python",
   "name": "python3"
  },
  "language_info": {
   "codemirror_mode": {
    "name": "ipython",
    "version": 3
   },
   "file_extension": ".py",
   "mimetype": "text/x-python",
   "name": "python",
   "nbconvert_exporter": "python",
   "pygments_lexer": "ipython3",
   "version": "3.10.6"
  }
 },
 "nbformat": 4,
 "nbformat_minor": 5
}
