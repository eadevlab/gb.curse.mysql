{
 "cells": [
  {
   "cell_type": "markdown",
   "id": "a74160cc",
   "metadata": {},
   "source": [
    "## Введение в математический анализ"
   ]
  },
  {
   "cell_type": "markdown",
   "id": "c3208186",
   "metadata": {},
   "source": [
    "### Урок 8. Производная функции нескольких переменных. Часть 1"
   ]
  },
  {
   "cell_type": "markdown",
   "id": "c849dcf5",
   "metadata": {},
   "source": [
    "#### Задание 1\n",
    "Найти область определения функции.<br>\n",
    "$z = \\sqrt{1-x^3} + \\ln(y^2 - 1)$\n",
    "#### Решение"
   ]
  },
  {
   "cell_type": "markdown",
   "id": "38ecbe99",
   "metadata": {},
   "source": [
    "$$\\begin{cases}1 - x^3 \\geq 0 \\\\ y^2 - 1 > 0\\end{cases} \\to \\begin{cases}x^3 \\geq 1 \\\\ y^2 > 1\\end{cases} \\to \\begin{cases}1 - x \\geq 1 \\\\ y > 1 \\cup y < -1\\end{cases}$$"
   ]
  },
  {
   "cell_type": "markdown",
   "id": "1f1c9d7f",
   "metadata": {},
   "source": [
    "#### Задание 2\n",
    "Найти производные 1-го порядка функции.<br>\n",
    "$z = (1 + \\frac{\\ln{x}}{\\ln{y}})^3$\n",
    "#### Решение"
   ]
  },
  {
   "cell_type": "markdown",
   "id": "7f2a6048",
   "metadata": {},
   "source": [
    "$z_x\\acute{} = ((1 + \\frac{\\ln{x}}{\\ln{y}})^3)\\acute{} = 3(1 + \\frac{\\ln{x}}{\\ln{y}})^2\\cdot (1 + \\frac{\\ln{x}}{\\ln{y}})_x\\acute{} = 3(1 + \\frac{\\ln{x}}{\\ln{y}})^2 \\cdot \\frac{1}{x\\cdot \\ln{y}} = \\frac{3}{x\\cdot \\ln{y}}\\cdot (1 + \\frac{\\ln{x}}{\\ln{y}})^2$"
   ]
  },
  {
   "cell_type": "markdown",
   "id": "0ddb5fc3",
   "metadata": {},
   "source": [
    "$z_y\\acute{} = 3(1 + \\frac{\\ln{x}}{\\ln{y}})^2\\cdot (1 + \\frac{\\ln{x}}{\\ln{y}})_y\\acute{} = \\frac{3\\ln{x}}{y\\ln^2{y}}\\cdot (1 + \\frac{\\ln{x}}{\\ln{y}})^2$"
   ]
  },
  {
   "cell_type": "markdown",
   "id": "83eed9b3",
   "metadata": {},
   "source": [
    "#### Задание 3\n",
    "Найти полный дифференциал функции в точке (1;1).<br>\n",
    "$z = \\sqrt{2xy + \\cos{\\frac{x}{y}}}$\n",
    "#### Решение"
   ]
  },
  {
   "cell_type": "markdown",
   "id": "b4775606",
   "metadata": {},
   "source": [
    "Для начала необходимо найти частные производные по x и y. "
   ]
  },
  {
   "cell_type": "markdown",
   "id": "8cc7366c",
   "metadata": {},
   "source": [
    "$$z_x\\acute{} = \\frac12 \\cdot \\frac{1}{\\sqrt{2xy + \\cos{\\frac{x}{y}}}} \\cdot (2xy + \\cos{\\frac{x}{y}})_x\\acute{} = \\frac12 \\cdot \\frac{1}{\\sqrt{2xy + \\cos{\\frac{x}{y}}}} \\cdot (2y + (-\\sin{\\frac{x}{y}})\\cdot (\\frac{x}{y})\\acute{}) =$$\n",
    "$$ = \\frac{2y-\\frac{1}{y}\\sin{\\frac{x}{y}}}{2\\sqrt{2xy+\\cos{\\frac{x}{y}}}}$$"
   ]
  },
  {
   "cell_type": "markdown",
   "id": "810e9827",
   "metadata": {},
   "source": [
    "$$z_y\\acute{} = \\frac12 \\cdot \\frac{1}{\\sqrt{2xy + \\cos{\\frac{x}{y}}}} \\cdot (2xy + \\cos{\\frac{x}{y}})_y\\acute{} = \\frac{2x+\\frac{x}{y^2}\\sin{\\frac{x}{y}}}{2\\sqrt{2xy+\\cos{\\frac{x}{y}}}}$$"
   ]
  },
  {
   "cell_type": "markdown",
   "id": "38face70",
   "metadata": {},
   "source": [
    "$$z_x\\acute{}(1;1) = \\frac{2-\\sin(1)}{2\\sqrt{2+\\cos(1)}}$$\n",
    "$$z_y\\acute{}(1;1) = \\frac{2+\\sin(1)}{2\\sqrt{2+\\cos(1)}}$$\n",
    "$$dz = z_x\\acute{}dx + z_y\\acute{}dy$$\n",
    "$$dz = \\frac{2-\\sin(1)}{2\\sqrt{2+\\cos(1)}}dx + \\frac{2+\\sin(1)}{2\\sqrt{2+\\cos(1)}}dx \\approx  \\frac{2}{\\sqrt{2+\\cos(1)}}$$"
   ]
  },
  {
   "cell_type": "markdown",
   "id": "67efe8ee",
   "metadata": {},
   "source": [
    "#### Задание 4\n",
    "Исследовать на экстремум функцию<br>\n",
    "$z = x^2+xy+y^2-6x-9y$\n",
    "#### Решение"
   ]
  },
  {
   "cell_type": "markdown",
   "id": "dd4d467b",
   "metadata": {},
   "source": [
    "$$z_x\\acute{} = 2x + y - 6$$"
   ]
  },
  {
   "cell_type": "markdown",
   "id": "663676d5",
   "metadata": {},
   "source": [
    "$$z_y\\acute{} = x + 2y - 9$$"
   ]
  },
  {
   "cell_type": "markdown",
   "id": "9b26e592",
   "metadata": {},
   "source": [
    "$$\\begin{cases} 2x + y - 6 = 0 \\\\ x + 2y - 9 = 0\\end{cases} \\to \\begin{cases} 2x + y = 6 \\\\ x + 2y = 9\\end{cases} \\to \\begin{cases} y= 6 - 2x \\\\ x + 12 - 4x = 9\\end{cases} \\to \\begin{cases} x = 1 \\\\ y = 4\\end{cases}$$"
   ]
  },
  {
   "cell_type": "markdown",
   "id": "6393326a",
   "metadata": {},
   "source": [
    "$\\Delta = \\begin{bmatrix} 2&1 \\\\ 1&2\\end{bmatrix} = 3$<br>\n",
    "$\\Delta > 0 - экстремум существует$"
   ]
  },
  {
   "cell_type": "markdown",
   "id": "031bb1e6",
   "metadata": {},
   "source": [
    "$z_x\\acute{}\\acute{} = 2 > 0$, значит найденный экстремум  "
   ]
  }
 ],
 "metadata": {
  "kernelspec": {
   "display_name": "Python 3 (ipykernel)",
   "language": "python",
   "name": "python3"
  },
  "language_info": {
   "codemirror_mode": {
    "name": "ipython",
    "version": 3
   },
   "file_extension": ".py",
   "mimetype": "text/x-python",
   "name": "python",
   "nbconvert_exporter": "python",
   "pygments_lexer": "ipython3",
   "version": "3.10.6"
  }
 },
 "nbformat": 4,
 "nbformat_minor": 5
}
