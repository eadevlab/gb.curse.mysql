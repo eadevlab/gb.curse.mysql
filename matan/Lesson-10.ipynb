{
 "cells": [
  {
   "cell_type": "markdown",
   "id": "06139352",
   "metadata": {},
   "source": [
    "## Введение в математический анализ"
   ]
  },
  {
   "cell_type": "markdown",
   "id": "a9a32268",
   "metadata": {},
   "source": [
    "### Урок 10. Интеграл. Ряды. Часть 1\n"
   ]
  },
  {
   "cell_type": "markdown",
   "id": "69062fdd",
   "metadata": {},
   "source": [
    "### Тема 7 “Ряды”"
   ]
  },
  {
   "cell_type": "markdown",
   "id": "a906d8a2",
   "metadata": {},
   "source": [
    "#### Задание 1\n",
    "Исследовать ряд на сходимость, используя признак д’Аламбера:<br>\n",
    "$\\sum_{k=1}^\\infty \\frac{n^n}{(n!)^2}$\n",
    "#### Решение"
   ]
  },
  {
   "cell_type": "markdown",
   "id": "f05c9777",
   "metadata": {},
   "source": [
    "Если существует предел $\\lim\\limits_{n\\to\\infty} \\frac{a_{n+1}}{a_n} = D$\n",
    "- D < 1 - ряд сходится, в частности при D = 0\n",
    "- D > 1 - ряд расходится, в частности при D = $\\infty$\n",
    "- D = 1 - признак не даёт ответа"
   ]
  },
  {
   "cell_type": "markdown",
   "id": "f8f732ee",
   "metadata": {},
   "source": [
    "$$\\lim\\limits_{n\\to\\infty} \\frac{a_{n+1}}{a_n} = \\lim\\limits_{n\\to\\infty} \\frac{\\frac{(n+1)^{n+1}}{((n+1)!)^2}}{\\frac{n^n}{(n!)^2}} = \\lim\\limits_{n\\to\\infty} \\frac{(n+1)^{n+1}\\cdot (n!)^2}{((n+1)!)^2\\cdot n^n} = [\\frac{\\infty}{\\infty}]$$"
   ]
  },
  {
   "cell_type": "markdown",
   "id": "62350c77",
   "metadata": {},
   "source": [
    "$$\\frac{(n+1)^{n+1}\\cdot (n!)^2}{((n+1)!)^2\\cdot n^n} = \\frac{(n+1)^n(n+1)n!n!}{(n+1)!(n+1)!n^n} = \\frac{(n+1)^n(n+1)\\cdot 1\\cdot 2 \\cdot \\dots \\cdot n \\cdot 1\\cdot 2 \\cdot \\dots \\cdot n}{1\\cdot 2 \\cdot \\dots \\cdot n \\cdot (n+1)\\cdot 1\\cdot 2 \\cdot \\dots \\cdot n \\cdot (n+1) n^n} = $$\n",
    "$$= \\frac{(n+1)^n}{(n+1)n^n} = \\frac{1}{n+1} \\cdot (\\frac{n+1}{n})^n$$"
   ]
  },
  {
   "cell_type": "markdown",
   "id": "5601f625",
   "metadata": {},
   "source": [
    "$$ \\lim\\limits_{n\\to\\infty} \\frac{1}{n+1} \\cdot (\\frac{n+1}{n})^n = \\lim\\limits_{n\\to\\infty} \\frac{1}{n+1} \\cdot \\lim\\limits_{n\\to\\infty} (\\frac{n+1}{n})^n = 0$$"
   ]
  },
  {
   "cell_type": "markdown",
   "id": "7ab8fca1",
   "metadata": {},
   "source": [
    "#### Ответ: D=0, значит ряд сходится"
   ]
  },
  {
   "cell_type": "markdown",
   "id": "5ca577a9",
   "metadata": {},
   "source": [
    "---"
   ]
  },
  {
   "cell_type": "markdown",
   "id": "beaaa25b",
   "metadata": {},
   "source": [
    "#### Задание 2\n",
    "Исследовать ряд на сходимость, используя радикальный признак Коши:<br>\n",
    "$\\sum_{k=1}^\\infty \\frac{n}{2^n}$\n",
    "#### Решение"
   ]
  },
  {
   "cell_type": "markdown",
   "id": "f5c24da6",
   "metadata": {},
   "source": [
    "Если существует предел $\\lim\\limits_{n\\to\\infty} \\sqrt[n]a_n = D$, то\n",
    "- если D < 1 - ряд сходится, в частности при D = 0\n",
    "- если D > 1 - ряд расходится, в частности при D = $\\infty$\n",
    "- если D = 1 - признак не даёт ответа"
   ]
  },
  {
   "cell_type": "markdown",
   "id": "2541dfd7",
   "metadata": {},
   "source": [
    "$$\\lim\\limits_{n\\to\\infty} \\sqrt[n]\\frac{n}{2^n} = \\lim\\limits_{n\\to\\infty} \\frac{\\sqrt[n]n}{\\sqrt[n]2^n} = \\frac{1}{2}$$"
   ]
  },
  {
   "cell_type": "markdown",
   "id": "77acc400",
   "metadata": {},
   "source": [
    "#### Ответ: $D=\\frac12 < 1$, значит ряд сходится"
   ]
  },
  {
   "cell_type": "markdown",
   "id": "2a9928fc",
   "metadata": {},
   "source": [
    "---"
   ]
  },
  {
   "cell_type": "markdown",
   "id": "33f46eb6",
   "metadata": {},
   "source": [
    "#### Задание 3\n",
    "Исследовать ряд на сходимость, используя признак Лейбница:<br>\n",
    "$\\sum_{k=1}^\\infty \\frac{(-1)^n}{n+\\ln{n}}$\n",
    "#### Решение"
   ]
  },
  {
   "cell_type": "markdown",
   "id": "9f11434b",
   "metadata": {},
   "source": [
    "Если члены знакочередующегося ряда монотонно убывают по модулю, то ряд сходится, т.е. $\\lim\\limits_{n\\to\\infty} |a_n| = 0$"
   ]
  },
  {
   "cell_type": "markdown",
   "id": "e5826130",
   "metadata": {},
   "source": [
    "$$\\lim\\limits_{n\\to\\infty} |\\frac{(-1)^n}{n+\\ln{n}}| = \\lim\\limits_{n\\to\\infty} \\frac{1}{|n+\\ln{n}|} = \\frac{1}{\\infty} = 0$$"
   ]
  },
  {
   "cell_type": "markdown",
   "id": "99b1712c",
   "metadata": {},
   "source": [
    "#### Ответ: ряд сходится"
   ]
  },
  {
   "cell_type": "markdown",
   "id": "dcfb29c7",
   "metadata": {},
   "source": [
    "---"
   ]
  },
  {
   "cell_type": "markdown",
   "id": "a12cc3fe",
   "metadata": {},
   "source": [
    "#### Задание 4\n",
    "Исследовать ряд на сходимость, используя признак Раабе:<br>\n",
    "$\\sum_{k=1}^\\infty \\frac{3^n}{2^n}$\n",
    "#### Решение"
   ]
  },
  {
   "cell_type": "markdown",
   "id": "501d26ad",
   "metadata": {},
   "source": [
    "Если существует предел $\\lim\\limits_{n\\to\\infty} (n\\cdot (\\frac{a_n}{a_{n+1}}-1)) = D$, то\n",
    "- при D<1 - ряд расходится\n",
    "- при D>1 - ряд сходится\n",
    "- при D=1 - признак не даёт ответа"
   ]
  },
  {
   "cell_type": "markdown",
   "id": "fda69fa5",
   "metadata": {},
   "source": [
    "$$\\lim\\limits_{n\\to\\infty} (n\\cdot (\\frac{\\frac{3^n}{2^n}}{\\frac{3^{n+1}}{2^{n+1}}}-1)) = \\lim\\limits_{n\\to\\infty} (n\\cdot \\frac{3^n\\cdot 2^n \\cdot 2}{3^n\\cdot 3\\cdot 2^n} - 1) = \\lim\\limits_{n\\to\\infty} (n\\cdot (-\\frac13)) = -\\frac13\\cdot \\lim\\limits_{n\\to\\infty} n = -\\infty$$"
   ]
  },
  {
   "cell_type": "markdown",
   "id": "ccb7f70b",
   "metadata": {},
   "source": [
    "#### Ответ: $D=-\\infty<1$ - ряд расходится"
   ]
  },
  {
   "cell_type": "markdown",
   "id": "21a19267",
   "metadata": {},
   "source": [
    "---"
   ]
  },
  {
   "cell_type": "markdown",
   "id": "200ca3fd",
   "metadata": {},
   "source": [
    "#### Задание 5\n",
    "Разложить функцию по Тейлору в единице:<br>\n",
    "$f(x)=ln(16x^2)$\n",
    "#### Решение\n"
   ]
  },
  {
   "cell_type": "markdown",
   "id": "7fb1e555",
   "metadata": {},
   "source": [
    "Ряд Тейлора:<br>\n",
    "$f(x) = f(a) + \\frac{f\\acute{}(a)}{1!}(x-a) + \\dots + \\frac{f^{(n)}(a)}{n!}(x-a)^n$"
   ]
  },
  {
   "cell_type": "markdown",
   "id": "52920e66",
   "metadata": {},
   "source": [
    "$f(x)=\\ln(16) + \\ln(x^2), a = 1$<br>\n",
    "$f\\acute{}(x) = \\frac{2}{x}$<br>\n",
    "$f\\acute{}\\acute{}(x) = -\\frac{2}{x^2}$<br>\n",
    "$f^{(3)}(x) = \\frac{4}{x^3}$<br>\n",
    "$f^{(4)}(x) = -\\frac{12}{x^4}$<br>"
   ]
  },
  {
   "cell_type": "markdown",
   "id": "ebe70623",
   "metadata": {},
   "source": [
    "$$f(x) = \\ln(16) + 2(x-1) + \\frac{(-2)}{2!}(x-1)^2+\\frac{4}{3!}(x-1)^3 \\dots$$"
   ]
  },
  {
   "cell_type": "markdown",
   "id": "8e7b4d30",
   "metadata": {},
   "source": [
    "$$f(x) = \\ln(16) + 2\\sum_{n=1}^\\infty (-1)^{n+1}\\cdot \\frac{1}{n}(x-1)$$"
   ]
  },
  {
   "cell_type": "markdown",
   "id": "94841ab7",
   "metadata": {},
   "source": [
    "---"
   ]
  },
  {
   "cell_type": "markdown",
   "id": "11fd3322",
   "metadata": {},
   "source": [
    "#### Задание 6\n",
    "Дана функция $f(x)=x^2$<br>\n",
    "- Разложить функцию в ряд Фурье по косинусам на отрезке $x \\in [-2;0]$\n",
    "- Построить график функции и ее разложения.\n",
    "#### Решение\n"
   ]
  },
  {
   "cell_type": "markdown",
   "id": "ee5eab35",
   "metadata": {},
   "source": [
    "$$f(x) = \\frac{a_0}{L} + \\sum_{n=1}^\\infty a_n\\cdot \\cos(\\frac{2nx\\pi}{L})$$\n",
    "$$L = 0 - (-2) = 2$$"
   ]
  },
  {
   "cell_type": "markdown",
   "id": "4df75c8a",
   "metadata": {},
   "source": [
    "$$a_0 = \\frac{2}{L}\\int_a^bf(x)dx = \\frac22\\int_{-2}^0 x^2dx = F(x)|_{-2}^0 = F(0) - F(-2)$$\n",
    "$$F(x) = \\frac{x^3}{3}$$\n",
    "$$a_0 = \\frac{0^3}{3} - \\frac{(-2)^3}{3} = \\frac83$$"
   ]
  },
  {
   "cell_type": "markdown",
   "id": "e6db45d9",
   "metadata": {},
   "source": [
    "$a_n = \\int_{-2}^0f(x)\\cos(\\frac{2nx\\pi}{2})dx = F(x)|_{-2}^0$<br>\n",
    "$F(x) = \\frac{x^2\\sin(nx\\pi)}{n\\pi} - \\frac{2\\sin(nx\\pi)}{\\pi^3n^3}+\\frac{2x\\cos(nx\\pi)}{\\pi^2n^2}$<br>\n",
    "$F(0) = 0$<br>\n",
    "$F(-2) = \\frac{(-2)^2\\sin(n(-2)\\pi)}{n\\pi} - \\frac{2\\sin(n(-2)\\pi)}{\\pi^3n^3}+\\frac{2(-2)\\cos(n(-2)\\pi)}{\\pi^2n^2} = -\\frac{4}{\\pi^2n^2}$<br>\n",
    "$a_n = 0 - (-\\frac{4}{\\pi^2n^2}) = \\frac{4}{\\pi^2n^2}$<br>"
   ]
  },
  {
   "cell_type": "markdown",
   "id": "3c0b9d2b",
   "metadata": {},
   "source": [
    "$$f(x) = \\frac{2}{3} + \\sum_{n=1}^\\infty \\frac{4}{\\pi^2n^2}\\cdot \\cos(xn\\pi)$$"
   ]
  },
  {
   "cell_type": "code",
   "execution_count": 1,
   "id": "b4dcf20e",
   "metadata": {},
   "outputs": [],
   "source": [
    "import numpy as np\n",
    "import matplotlib.pyplot as plt\n",
    "%matplotlib inline"
   ]
  },
  {
   "cell_type": "code",
   "execution_count": 2,
   "id": "216d1876",
   "metadata": {},
   "outputs": [],
   "source": [
    "def f(x, n=100):\n",
    "    result = 2/3\n",
    "    for i in range(1, n+1):\n",
    "        result += 4/(np.pi**2*i**2)*np.cos(x*i*np.pi)\n",
    "    return result"
   ]
  },
  {
   "cell_type": "code",
   "execution_count": 3,
   "id": "3441f70f",
   "metadata": {},
   "outputs": [],
   "source": [
    "x = np.arange(-2, 0, 0.01)\n",
    "y = x**2\n",
    "y_fur = list(map(lambda v: f(v), x))"
   ]
  },
  {
   "cell_type": "code",
   "execution_count": 4,
   "id": "c626f22a",
   "metadata": {},
   "outputs": [
    {
     "data": {
      "image/png": "[encoded data removed]",
      "text/plain": [
       "<Figure size 432x288 with 1 Axes>"
      ]
     },
     "metadata": {
      "needs_background": "light"
     },
     "output_type": "display_data"
    }
   ],
   "source": [
    "plt.plot(x, y);\n",
    "plt.plot(x, y_fur);"
   ]
  },
  {
   "cell_type": "markdown",
   "id": "583ba5e9",
   "metadata": {},
   "source": [
    "---"
   ]
  },
  {
   "cell_type": "markdown",
   "id": "cb636bdb",
   "metadata": {},
   "source": [
    "### Тема 8 “Понятие об интеграле”"
   ]
  },
  {
   "cell_type": "markdown",
   "id": "f3346e27",
   "metadata": {},
   "source": [
    "#### Задание 1\n",
    "Найти неопределенный интеграл:<br>\n",
    "$\\int(2x^2-2x-1+\\sin{x}-\\cos{x}+\\ln{x}+e^x)dx$\n",
    "#### Решение\n"
   ]
  },
  {
   "cell_type": "markdown",
   "id": "85f775ad",
   "metadata": {},
   "source": [
    "$$\\int(2x^2-2x-1+\\sin{x}-\\cos{x}+\\ln{x}+e^x)dx = $$\n",
    "$$= 2\\int(x^2)dx -2\\int{x}dx - \\int{1}dx + \\int{\\sin{x}}dx - \\int{\\cos{x}}dx + \\int\\ln{x}dx + \\int{e^x}dx = $$\n",
    "$$=2\\frac{x^3}{3}-2\\frac{x^2}{2}-x+(-\\cos{x})-\\sin{x}+(x\\ln{x}-x)+e^x=$$\n",
    "$$= 2\\frac{x^3}{3}-2\\frac{x^2}{2}-2x-\\cos{x} - \\sin{x} + x\\ln{x} +e^x + C$$"
   ]
  },
  {
   "cell_type": "markdown",
   "id": "6af19cbc",
   "metadata": {},
   "source": [
    "---"
   ]
  },
  {
   "cell_type": "markdown",
   "id": "2331ac48",
   "metadata": {},
   "source": [
    "#### Задание 2\n",
    "Найти неопределенный интеграл:<br>\n",
    "$\\int(2x+6xz^2-5x^2y-3\\ln{z})dx$\n",
    "#### Решение"
   ]
  },
  {
   "cell_type": "markdown",
   "id": "0bccec23",
   "metadata": {},
   "source": [
    "$$\\int(2x+6xz^2-5x^2y-3\\ln{z})dx = 2\\int{x}+6z^2\\int{x}-5y\\int{x^2}-3\\ln{z}\\int{x} = $$\n",
    "$$= 2\\frac{x^2}{2} + 6z^2\\frac{x^2}{2}-5y\\frac{x^3}{3}-3\\ln{z}\\frac{x^2}{2}=$$\n",
    "$$= x^2 + 3z^2x^2-\\frac53x^3y-\\frac32x^2\\ln{z}+C$$"
   ]
  },
  {
   "cell_type": "markdown",
   "id": "e512eb8a",
   "metadata": {},
   "source": [
    "---"
   ]
  },
  {
   "cell_type": "markdown",
   "id": "366c5953",
   "metadata": {},
   "source": [
    "#### Задание 3\n",
    "Вычислить определенный интеграл:<br>\n",
    "$\\int_0^\\pi(3x^2\\sin(2x))dx$\n",
    "#### Решение"
   ]
  },
  {
   "cell_type": "markdown",
   "id": "2e4a983d",
   "metadata": {},
   "source": [
    "$$\\int_0^\\pi(3x^2\\sin(2x))dx = F(x)|^\\pi_0=F(\\pi)-F(0)$$\n",
    "F - первообразная\n",
    "$$F(x) = \\int(3x^2\\sin(2x))dx$$\n",
    "$$\\int{uv\\acute{}} = uv - \\int{u\\acute{}v}$$"
   ]
  },
  {
   "cell_type": "markdown",
   "id": "36056207",
   "metadata": {},
   "source": [
    "$$u = x^2; u\\acute{} = 2x$$\n",
    "$$v\\acute{} = \\sin{2x}; v = -\\frac{\\cos{2x}}{2}$$"
   ]
  },
  {
   "cell_type": "markdown",
   "id": "0e684acf",
   "metadata": {},
   "source": [
    "$$3(-\\frac{x^2\\cos{2x}}{2} + \\int{x\\cos{2x}}dx)$$"
   ]
  },
  {
   "cell_type": "markdown",
   "id": "4766fbf0",
   "metadata": {},
   "source": [
    "$$\\int{x\\cos{2x}}dx = \\int{uv\\acute{}} = uv - \\int{u\\acute{}v}$$\n",
    "$$u = x; u\\acute{} = 1$$\n",
    "$$v\\acute{} = \\cos{2x}; v = \\frac{\\sin{2x}}{2}$$\n",
    "$$\\int{x\\cos{2x}}dx = \\frac{x\\sin{2x}}{2} - \\int{\\frac{\\sin{2x}}{2}}dx = \\frac{x\\sin{2x}}{2} + \\frac{\\cos{2x}}{4}$$"
   ]
  },
  {
   "cell_type": "markdown",
   "id": "1f0bdf7d",
   "metadata": {},
   "source": [
    "$$F(x) = \\int(3x^2\\sin(2x))dx = 3(-\\frac{x^2\\cos{2x}}{2} + \\frac{x\\sin{2x}}{2} + \\frac{\\cos{2x}}{4})$$"
   ]
  },
  {
   "cell_type": "markdown",
   "id": "237d1dd0",
   "metadata": {},
   "source": [
    "$$F(\\pi) = 3(-\\frac{\\pi^2\\cos{2\\pi}}{2} + \\frac{\\pi\\sin{2\\pi}}{2} + \\frac{\\cos{2\\pi}}{4}) = 3(-\\frac{\\pi^2}{2}+\\frac14) = \\frac34-\\frac{3\\pi^2}{2}$$"
   ]
  },
  {
   "cell_type": "markdown",
   "id": "b3352637",
   "metadata": {},
   "source": [
    "$$F(0) = 3(-\\frac{0^2\\cos{2\\cdot 0}}{2} + \\frac{0\\cdot \\sin{2\\cdot 0}}{2} + \\frac{\\cos{2\\cdot 0}}{4}) = \\frac34$$"
   ]
  },
  {
   "cell_type": "markdown",
   "id": "c176362b",
   "metadata": {},
   "source": [
    "$$\\int_0^\\pi(3x^2\\sin(2x))dx = F(x)|^\\pi_0=F(\\pi)-F(0) = \\frac34-\\frac{3\\pi^2}{2} - \\frac34 = -\\frac{3\\pi^2}{2} $$"
   ]
  },
  {
   "cell_type": "markdown",
   "id": "2d413f7b",
   "metadata": {},
   "source": [
    "$$\\int_0^\\pi(3x^2\\sin(2x))dx = -\\frac{3\\pi^2}{2} $$"
   ]
  },
  {
   "cell_type": "markdown",
   "id": "4b38ca70",
   "metadata": {},
   "source": [
    "---"
   ]
  },
  {
   "cell_type": "markdown",
   "id": "0a2e53b2",
   "metadata": {},
   "source": [
    "#### Задание 4\n",
    "Найти неопределенный интеграл:<br>\n",
    "$\\int\\frac{1}{\\sqrt{x+1}}dx$\n",
    "#### Решение"
   ]
  },
  {
   "cell_type": "markdown",
   "id": "9a0a5ff3",
   "metadata": {},
   "source": [
    "Заменим $x+1=t$<br>\n",
    "$$\\int \\frac{1}{\\sqrt{t}}dt = \\int t^{-\\frac12}dt = 2\\sqrt{t} + C = 2\\sqrt{x+1}+C$$"
   ]
  },
  {
   "cell_type": "markdown",
   "id": "e4f874fc",
   "metadata": {},
   "source": [
    "---"
   ]
  }
 ],
 "metadata": {
  "kernelspec": {
   "display_name": "Python 3 (ipykernel)",
   "language": "python",
   "name": "python3"
  },
  "language_info": {
   "codemirror_mode": {
    "name": "ipython",
    "version": 3
   },
   "file_extension": ".py",
   "mimetype": "text/x-python",
   "name": "python",
   "nbconvert_exporter": "python",
   "pygments_lexer": "ipython3",
   "version": "3.10.6"
  }
 },
 "nbformat": 4,
 "nbformat_minor": 5
}
