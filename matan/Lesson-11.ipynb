{
 "cells": [
  {
   "cell_type": "markdown",
   "id": "4c13a0d9",
   "metadata": {},
   "source": [
    "## Введение в математический анализ"
   ]
  },
  {
   "cell_type": "markdown",
   "id": "39d91543",
   "metadata": {},
   "source": [
    "### Урок 11. Интеграл. Ряды. Часть 2"
   ]
  },
  {
   "cell_type": "markdown",
   "id": "2f7c97d7",
   "metadata": {},
   "source": [
    "#### Задание 1\n",
    "Решить уравнения:\n",
    "1. $y\\acute{}-y=2x-3$\n",
    "2. $x^2y\\acute{} + xy + 1= 0$\n",
    "#### Решение"
   ]
  },
  {
   "cell_type": "markdown",
   "id": "464b30c4",
   "metadata": {},
   "source": [
    "**1. $y\\acute{}-y=2x-3$**<br>\n",
    "Произведем замену\n",
    "$$u = y+2x-3; u\\acute{} = y\\acute{}+2$$\n",
    "$$y = u-2x+3; y\\acute{} = u\\acute{} - 2$$"
   ]
  },
  {
   "cell_type": "markdown",
   "id": "f2afaba5",
   "metadata": {},
   "source": [
    "$$u\\acute{}-2 = u$$\n",
    "$$u\\acute{} = u+2$$\n",
    "$$\\frac{du}{dx} = u + 2$$\n",
    "$$du = (u+2)dx$$\n",
    "$$\\frac{du}{u+2} = dx$$\n",
    "$$\\int \\frac{1}{u+2}dx = \\int 1 dx$$"
   ]
  },
  {
   "cell_type": "markdown",
   "id": "d0f9abf6",
   "metadata": {},
   "source": [
    "$$\\ln(u+2) = x+C$$\n",
    "$$u+2 = e^{x+C}$$\n",
    "$$y+2x-3+2=e^{x+C}$$\n",
    "$$y=e^{x+C}-2x+1$$"
   ]
  },
  {
   "cell_type": "markdown",
   "id": "97e0a37c",
   "metadata": {},
   "source": [
    "**2. $x^2y\\acute{} + xy + 1= 0$**<br>\n",
    "$$\\frac{x^2dy}{dx}+xy+1=0$$\n",
    "Произведем замену\n",
    "$$y = \\frac{1}{t}$$\n",
    "$$dy = -\\frac{dt}{t^2}$$\n",
    "$$-\\frac{x^2dt}{t^2dx}+\\frac{x}{t}+1=0$$\n",
    "$$-\\frac{x^2dt}{t^2}+(\\frac{x}{t}+1)dx = 0$$\n",
    "Заменим $\\frac{t}{x} = u; t=ux; dt = udx+xdu$\n",
    "$$(\\frac{1}{u}+1)dx=\\frac{udx+xdu}{u^2}$$\n",
    "$$\\frac{dx}{u}+dx-\\frac{udx+xdu}{u^2} = 0$$\n",
    "$$dx = \\frac{xdu}{u^2}$$\n",
    "$$\\frac{du}{u^2} = \\frac{dx}{x}$$\n",
    "$$\\int \\frac{1}{u^2}du=\\int \\frac{1}{x}dx$$\n",
    "$$\\frac{1}{u}=C-\\ln(x)$$"
   ]
  },
  {
   "cell_type": "markdown",
   "id": "60a918bb",
   "metadata": {},
   "source": [
    "Обратные замены\n",
    "$$\\frac{x}{t} = C - \\ln{x}$$\n",
    "$$xy = C-\\ln{x}$$\n",
    "$$y = \\frac{C-\\ln{x}}{x}$$"
   ]
  },
  {
   "cell_type": "markdown",
   "id": "66d62738",
   "metadata": {},
   "source": [
    "---"
   ]
  },
  {
   "cell_type": "markdown",
   "id": "e7588c57",
   "metadata": {},
   "source": [
    "#### Задание 2\n",
    "Исследовать ряд на сходимость:\n",
    "1. $\\sum_{n=1}^\\infty \\frac{n+2}{n^2+n+1}$\n",
    "2. $\\sum_{n=1}^\\infty \\frac{n^n}{n!}$\n",
    "3. $\\sum_{n=1}^\\infty n\\cdot (1-\\frac{1}{n})^{n^2}$\n",
    "4. $\\sum_{n=1}^\\infty \\frac{(-1)^{n+1}}{2n-\\ln{n}}$\n",
    "5. $\\sum_{n=1}^\\infty \\frac{(x-2)^{n+1}}{3^n(n+2)}$\n",
    "#### Решение"
   ]
  },
  {
   "cell_type": "markdown",
   "id": "3f3c96a9",
   "metadata": {},
   "source": [
    "**1. $\\sum_{n=1}^\\infty \\frac{n+2}{n^2+n+1}$**<br>\n",
    "Используем предельный признак. Сравним с расходящимся рядом $\\sum_{n=1}^\\infty \\frac{1}{n}$\n",
    "$$\\lim\\limits_{n\\to\\infty} \\frac{\\frac{n+2}{n^2+n+1}}{n} = \\lim\\limits_{n\\to\\infty} \\frac{n(n+2)}{n^2+n+1} = [\\frac{\\infty}{\\infty}] = \\lim\\limits_{n\\to\\infty} \\frac{n^2+2n}{n^2+n+1} = \\lim\\limits_{n\\to\\infty} \\frac{1+\\frac{2}{n}}{1+\\frac{1}{n}+\\frac{1}{n^2}} = 1$$\n",
    "Получили положительное число отличное от нуля, **следовательно ряд $\\sum_{n=1}^\\infty \\frac{n+2}{n^2+n+1}$ расходится**"
   ]
  },
  {
   "cell_type": "markdown",
   "id": "34fd27a7",
   "metadata": {},
   "source": [
    "**2. $\\sum_{n=1}^\\infty \\frac{n^n}{n!}$**<br>\n",
    "$\\lim\\limits_{n\\to\\infty} \\frac{n^n}{n!} = \\infty$ - **ряд расходится**"
   ]
  },
  {
   "cell_type": "markdown",
   "id": "bf23a686",
   "metadata": {},
   "source": [
    "**3. $\\sum_{n=1}^\\infty n\\cdot (1-\\frac{1}{n})^{n^2}$**<br>\n",
    "Для решения воспользуемся признаком Коши."
   ]
  },
  {
   "cell_type": "markdown",
   "id": "06e8533d",
   "metadata": {},
   "source": [
    "Если существует предел $\\lim\\limits_{n\\to\\infty} \\sqrt[n]a_n = D$, то\n",
    "- если D < 1 - ряд сходится, в частности при D = 0\n",
    "- если D > 1 - ряд расходится, в частности при D = $\\infty$\n",
    "- если D = 1 - признак не даёт ответа"
   ]
  },
  {
   "cell_type": "markdown",
   "id": "6f37fd12",
   "metadata": {},
   "source": [
    "$$\\lim\\limits_{n\\to\\infty} \\sqrt[n]{n(1-\\frac{1}{n})^{n^2}} = \\lim\\limits_{n\\to\\infty} (1-\\frac{1}{n})^n = e^{-1}$$\n",
    "$D=e^{-1} < 1$ -ряд сходится.\n",
    "\n",
    "\n"
   ]
  },
  {
   "cell_type": "markdown",
   "id": "9d21c5bb",
   "metadata": {},
   "source": [
    "4. $\\sum_{n=1}^\\infty \\frac{(-1)^{n+1}}{2n-\\ln{n}}$<br>\n",
    "\n",
    "Воспользуемся признаком Лейбница.\n",
    "Если члены знакочередующегося ряда монотонно убывают по модулю, то ряд сходится, т.е. $\\lim\\limits_{n\\to\\infty} |a_n| = 0$"
   ]
  },
  {
   "cell_type": "markdown",
   "id": "afb071e8",
   "metadata": {},
   "source": [
    "$$\\lim\\limits_{n\\to\\infty} |\\frac{(-1)^{n+1}}{2n-\\ln{n}}| = \\lim\\limits_{n\\to\\infty} \\frac{1}{|2n-\\ln{n}|} = \\frac{1}{\\infty} = 0$$"
   ]
  },
  {
   "cell_type": "markdown",
   "id": "285611bf",
   "metadata": {},
   "source": [
    "**Ответ: $D=0 < 1$ - ряд сходится**"
   ]
  }
 ],
 "metadata": {
  "kernelspec": {
   "display_name": "Python 3 (ipykernel)",
   "language": "python",
   "name": "python3"
  },
  "language_info": {
   "codemirror_mode": {
    "name": "ipython",
    "version": 3
   },
   "file_extension": ".py",
   "mimetype": "text/x-python",
   "name": "python",
   "nbconvert_exporter": "python",
   "pygments_lexer": "ipython3",
   "version": "3.10.6"
  }
 },
 "nbformat": 4,
 "nbformat_minor": 5
}
