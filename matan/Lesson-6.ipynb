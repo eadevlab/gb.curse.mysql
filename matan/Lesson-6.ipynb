{
 "cells": [
  {
   "cell_type": "markdown",
   "id": "751b5243",
   "metadata": {},
   "source": [
    "## Введение в математический анализ"
   ]
  },
  {
   "cell_type": "markdown",
   "id": "adaa2135",
   "metadata": {},
   "source": [
    "### Урок 6. Производная функции одной переменной. Часть 1"
   ]
  },
  {
   "cell_type": "markdown",
   "id": "286467de",
   "metadata": {},
   "source": [
    "#### Задание 1\n",
    "Найти производную выражения:\n",
    "1. $\\sin{x}\\cdot \\cos{x}$\n",
    "2. $\\ln{(2x+1)^3}$\n",
    "3. $\\sqrt{\\sin^2{(\\ln(x^3))}}$\n",
    "4. $\\frac{x^4}{\\ln(x)}$\n",
    "#### Решение"
   ]
  },
  {
   "cell_type": "markdown",
   "id": "18df8e42",
   "metadata": {},
   "source": [
    "**1. $\\sin{x}\\cdot \\cos{x}$**\n",
    "$$(\\sin{x}\\cdot \\cos{x})\\acute{} = \\acute{\\sin(x)} \\cdot \\cos(x) + \\sin(x) \\cdot \\acute{\\cos(x)} = \\cos(x) \\cdot \\cos(x) + \\sin(x)\\cdot (-\\sin(x)) = $$\n",
    "$$= \\cos^2(x) - \\sin^2(x)$$"
   ]
  },
  {
   "cell_type": "markdown",
   "id": "cc4900bf",
   "metadata": {},
   "source": [
    "**2. $\\ln{(2x+1)^3}$**\n",
    "$$(\\ln{(2x+1)^3})\\acute{} = 3(\\ln{(2x+1)})\\acute{} = 3 \\cdot \\frac{1}{2x+1} \\cdot (2x+1)\\acute{} =  \\frac{6}{2x+1}$$\n"
   ]
  },
  {
   "cell_type": "markdown",
   "id": "356d0d34",
   "metadata": {},
   "source": [
    "**3. $\\sqrt{\\sin^2{(\\ln(x^3))}}$**\n",
    "$$\\sqrt{\\sin^2{(\\ln(x^3))}}\\acute{} = |\\sin{3\\ln(x)}|\\acute{} = \\frac{\\sin(3\\ln(x))}{|\\sin(3\\ln(x))|} \\cdot (\\sin(3\\ln(x)))\\acute{} = \\frac{\\sin(3\\ln(x))}{|\\sin(3\\ln(x))|} \\cdot \\cos(3\\ln(x)) \\cdot (3\\ln(x))\\acute{} = \\frac{3\\cdot \\sin(3\\ln(x)) \\cos(3\\ln(x))}{x \\cdot |\\sin(3\\ln(x))|}$$\n",
    "$$\\frac{3\\cdot \\sin(3\\ln(x)) \\cos(3\\ln(x))}{x \\cdot |\\sin(3\\ln(x))|} = \\frac{3\\cdot \\sin(6\\ln(x))}{2x \\cdot |\\sin(3\\ln(x))|}$$"
   ]
  },
  {
   "cell_type": "markdown",
   "id": "add8be41",
   "metadata": {},
   "source": [
    "**4. $\\frac{x^4}{\\ln(x)}$**\n",
    "$$(\\frac{x^4}{\\ln(x)})\\acute{} = \\frac{(x^4)\\acute{} \\cdot \\ln(x) - x^4 \\cdot (ln(x))\\acute{}}{\\ln^2(x)} = \\frac{4x^3 \\cdot \\ln(x) - x^4 \\cdot \\frac{1}{x}}{\\ln^2(x)} = \\frac{x^3 \\cdot (4\\ln(x) -1)}{\\ln^2(x)}$$"
   ]
  },
  {
   "cell_type": "markdown",
   "id": "d9345568",
   "metadata": {},
   "source": [
    "---"
   ]
  },
  {
   "cell_type": "markdown",
   "id": "deb5ae04",
   "metadata": {},
   "source": [
    "#### Задание 2\n",
    "Найти выражение производной функции и ее значение в точке:\n",
    "$$f(x) = \\cos(x^2+3x), x_0 = \\sqrt{\\pi}$$\n",
    "#### Решение"
   ]
  },
  {
   "cell_type": "markdown",
   "id": "a07b05ca",
   "metadata": {},
   "source": [
    "$$f\\acute{}(x) = (\\cos(x^2+3x))\\acute{} = -\\sin(x^2+3x)*(2x+3)$$\n",
    "$$f\\acute{}(x_0) = -\\sin(\\pi + 3\\pi) \\cdot (2\\pi + 3)$$"
   ]
  },
  {
   "cell_type": "markdown",
   "id": "207f428c",
   "metadata": {},
   "source": [
    "---"
   ]
  },
  {
   "cell_type": "markdown",
   "id": "a496265c",
   "metadata": {},
   "source": [
    "#### Задание 3\n",
    "Найти значение производной функции в точке:\n",
    "$$f(x) = \\frac{x^3-x^2-x-1}{1+2x+3x^2-4x^3}, x_0 = 0$$\n",
    "#### Решение"
   ]
  },
  {
   "cell_type": "markdown",
   "id": "583a78eb",
   "metadata": {},
   "source": [
    "$$f\\acute{}(x) = (\\frac{x^3-x^2-x-1}{1+2x+3x^2-4x^3})\\acute{} = $$\n",
    "$$= \\frac{(x^3-x^2-1)\\acute{}\\cdot (1+2x+3x^2-4x^3) - (x^3-x^2-1)\\cdot (1+2x+3x^2-4x^3)\\acute{}}{(1+2x+3x^2-4x^3)^2}$$\n",
    "$$= \\frac{(3x^2-2x)\\cdot (1+2x+3x^2-4x^3) - (x^3-x^2-1)\\cdot (2+6x-12x^2)}{(1+2x+3x^2-4x^3)^2}$$\n",
    "$$= \\frac{-5x^4-4x^3-8x^2+4x+1}{(1+2x+3x^2-4x^3)^2}$$"
   ]
  },
  {
   "cell_type": "markdown",
   "id": "9132373c",
   "metadata": {},
   "source": [
    "$$f(x_0) = \\frac{-5\\cdot 0^4-4\\cdot 0^3-8\\cdot 0^2+4\\cdot 0+1}{(1+2\\cdot 0+3\\cdot 0^2-4\\cdot 0^3)^2} = \\frac{1}{1^2} = 1$$"
   ]
  },
  {
   "cell_type": "markdown",
   "id": "956596a7",
   "metadata": {},
   "source": [
    "---"
   ]
  },
  {
   "cell_type": "markdown",
   "id": "104aa954",
   "metadata": {},
   "source": [
    "#### Задание 4\n",
    "Найти угол наклона касательной к графику функции в точке:\n",
    "$$f(x) = \\sqrt{3x}\\cdot \\ln(x), x_0 = 1$$\n",
    "#### Решение"
   ]
  },
  {
   "cell_type": "markdown",
   "id": "83edbc69",
   "metadata": {},
   "source": [
    "$$tg(\\alpha) = f\\acute(x)$$\n",
    "$$\\alpha = arctg(f\\acute(x))$$"
   ]
  },
  {
   "cell_type": "markdown",
   "id": "1db4e79e",
   "metadata": {},
   "source": [
    "$$f\\acute{}(x) = (\\sqrt{3x}\\cdot \\ln(x))\\acute{} = \\sqrt{3}\\cdot ((\\sqrt{x}\\acute{})\\cdot \\ln(x) + \\sqrt{x}\\cdot \\ln\\acute{}(x)) = \\sqrt{3}\\cdot ( \\frac{\\ln(x)}{2\\sqrt{x}} + \\frac{\\sqrt{x}}{x} ) = \\frac{\\sqrt{3}(\\ln(x)+2)}{2\\sqrt{x}}$$"
   ]
  },
  {
   "cell_type": "markdown",
   "id": "88648111",
   "metadata": {},
   "source": [
    "$$f\\acute(x_0) = \\frac{\\sqrt{3}(\\ln(1)+2)}{2\\sqrt{1}} = \\sqrt{3}$$"
   ]
  },
  {
   "cell_type": "code",
   "execution_count": null,
   "id": "ca11a4c7",
   "metadata": {},
   "outputs": [],
   "source": []
  }
 ],
 "metadata": {
  "kernelspec": {
   "display_name": "Python 3 (ipykernel)",
   "language": "python",
   "name": "python3"
  },
  "language_info": {
   "codemirror_mode": {
    "name": "ipython",
    "version": 3
   },
   "file_extension": ".py",
   "mimetype": "text/x-python",
   "name": "python",
   "nbconvert_exporter": "python",
   "pygments_lexer": "ipython3",
   "version": "3.10.6"
  }
 },
 "nbformat": 4,
 "nbformat_minor": 5
}
