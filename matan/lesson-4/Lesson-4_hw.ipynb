{
 "cells": [
  {
   "cell_type": "markdown",
   "id": "483c7b64",
   "metadata": {},
   "source": [
    "## Введение в математический анализ"
   ]
  },
  {
   "cell_type": "markdown",
   "id": "2c255b56",
   "metadata": {},
   "source": [
    "### Урок 4. Предел функции. Часть 1"
   ]
  },
  {
   "cell_type": "code",
   "execution_count": 1,
   "id": "7afba2e8",
   "metadata": {},
   "outputs": [],
   "source": [
    "import matplotlib.pyplot as plt\n",
    "import numpy as np"
   ]
  },
  {
   "cell_type": "markdown",
   "id": "273f1115",
   "metadata": {},
   "source": [
    "#### Тема “Предел функции”"
   ]
  },
  {
   "cell_type": "markdown",
   "id": "502fa5a7",
   "metadata": {},
   "source": [
    "##### Задание 1\n",
    "Предложить пример функции, не имеющей предела в нуле и в бесконечностях."
   ]
  },
  {
   "cell_type": "markdown",
   "id": "295f4577",
   "metadata": {},
   "source": [
    "##### Решение\n"
   ]
  },
  {
   "cell_type": "markdown",
   "id": "7c0b448c",
   "metadata": {},
   "source": [
    "##### Задание 2\n",
    "Привести пример функции, не имеющей предела в точке, но определенной в ней.\n",
    "##### Решение\n"
   ]
  },
  {
   "cell_type": "markdown",
   "id": "3377c8eb",
   "metadata": {},
   "source": [
    "##### Задание 3\n",
    "Исследовать функцию $f(x) = x^3 - x^2$ по плану:\n",
    "- Область задания и область значений.\n",
    "- Нули функции и их кратность.\n",
    "- Отрезки знакопостоянства.\n",
    "- Интервалы монотонности.\n",
    "- Четность функции.\n",
    "- Ограниченность.\n",
    "- Периодичность.\n",
    "\n",
    "##### Решение"
   ]
  },
  {
   "cell_type": "markdown",
   "id": "de25bd80",
   "metadata": {},
   "source": [
    "Для начала лучше всего построить график функции"
   ]
  },
  {
   "cell_type": "code",
   "execution_count": 2,
   "id": "c4c877d4",
   "metadata": {},
   "outputs": [
    {
     "data": {
      "text/plain": [
       "<matplotlib.lines.Line2D at 0x7f5ba70c46d0>"
      ]
     },
     "execution_count": 2,
     "metadata": {},
     "output_type": "execute_result"
    },
    {
     "data": {
      "image/png": "[encoded data removed]",
      "text/plain": [
       "<Figure size 1152x1152 with 1 Axes>"
      ]
     },
     "metadata": {
      "needs_background": "light"
     },
     "output_type": "display_data"
    }
   ],
   "source": [
    "def f(x):\n",
    "    return x**3 - x**2\n",
    "\n",
    "x = np.arange(-1, 2, 0.1)\n",
    "plt.figure(figsize=(16,16))\n",
    "plt.plot(x,f(x))\n",
    "ax = plt.gca()\n",
    "ax.axhline(y=0, color='k')\n",
    "ax.axvline(x=0, color='k')"
   ]
  },
  {
   "cell_type": "markdown",
   "id": "d84398dc",
   "metadata": {},
   "source": [
    "**Область задания и область значений**: $x \\epsilon R, f(x) \\epsilon R$<br>\n",
    "**Нули функции и их кратность** \n",
    "- $x_1 = 0$, кратность 2\n",
    "- $x_2 = 1$, кратность 1\n",
    "**Отрезки знакопостоянства**:\n",
    "- x < 0, $x \\epsilon (-\\infty; 0)\\bigcup(0;1)$\n",
    "- x > 0, $x \\epsilon (1;+\\infty)$\n",
    "**Интервалы монотонности**:\n",
    "- $(-\\infty; 0)$ - монотонно возрастает\n",
    "- $(0; \\frac23)$ - монотонно убывает\n",
    "- $(\\frac23; +\\infty)$ - монотонно возрастает\n",
    "**Четность функции**: данная функция является функцией общего вида<br>\n",
    "**Ограниченность**: функция не ограничена<br>\n",
    "**Периодичность**: функция не переодична<br>"
   ]
  },
  {
   "cell_type": "markdown",
   "id": "eb9dc915",
   "metadata": {},
   "source": [
    "##### Задание 4\n",
    "Найти предел:<br>\n",
    "a. $\\lim\\limits_{x\\to0} \\frac{3x^3-2x^2}{4x^2}$<br>\n",
    "b. $\\lim\\limits_{x\\to0} \\frac{\\sqrt{1+x}-1}{\\sqrt[3]{1+x}-1}$<br>\n",
    "c. $\\lim\\limits_{x\\to\\infty} (\\frac{x+3}{x})^{4x+1}$<br>\n",
    "##### Решение"
   ]
  },
  {
   "cell_type": "markdown",
   "id": "4dc222ad",
   "metadata": {},
   "source": [
    "a. $$\\lim\\limits_{x\\to0} \\frac{3x^3-2x^2}{4x^2} = \\frac{x^2(3x-2)}{4x^2} = \\frac{3x-2}{4} = \\frac34 \\cdot x - \\frac24 = -\\frac12$$"
   ]
  },
  {
   "cell_type": "markdown",
   "id": "90256ad7",
   "metadata": {},
   "source": [
    "b. $$\\lim\\limits_{x\\to0} \\frac{\\sqrt{1+x}-1}{\\sqrt[3]{1+x}-1}$$\n",
    "Найдём предел с помощью подстановки\n",
    "$$a = \\sqrt[6]{1+x}$$\n",
    "$$x = a^6 - 1$$\n",
    "при $x ⟶ 0, a ⟶ 1$"
   ]
  },
  {
   "cell_type": "code",
   "execution_count": null,
   "id": "dbc90b5d",
   "metadata": {},
   "outputs": [],
   "source": []
  },
  {
   "cell_type": "markdown",
   "id": "d9e5a595",
   "metadata": {},
   "source": [
    "$$\\frac{\\sqrt{1+a^6-1}-1}{\\sqrt[3]{1+a^6-1}-1} = \\frac{\\sqrt{a^6}-1}{\\sqrt[3]{a^6}-1} = \\frac{a^3-1}{a^2-1} = \\frac{(a-1)\\cdot (a^2 + a + 1)}{(a-1)\\cdot (a + 1)} = \\frac{a^2 + a + 1}{a+1}$$"
   ]
  },
  {
   "cell_type": "markdown",
   "id": "98ca1572",
   "metadata": {},
   "source": [
    "$$\\lim\\limits_{a\\to1} \\frac{a^2 + a + 1}{a+1} = \\lim\\limits_{a\\to1} \\frac{1^2 + 1 + 1}{1+1} = \\frac32$$"
   ]
  },
  {
   "cell_type": "markdown",
   "id": "2dd591b3",
   "metadata": {},
   "source": [
    "**c. $\\lim\\limits_{x\\to\\infty} (\\frac{x+3}{x})^{4x+1}$**"
   ]
  },
  {
   "cell_type": "markdown",
   "id": "47717dd5",
   "metadata": {},
   "source": [
    "$$(\\frac{x+3}{x})^{4x+1} = (1 + \\frac{3}{x})^{4x+1} = (1+\\frac{3}{x})^{12\\frac{x}{3}+1}$$"
   ]
  },
  {
   "cell_type": "markdown",
   "id": "16bab4e7",
   "metadata": {},
   "source": [
    "а это уже напоминает второй замечательный предел\n",
    "$$\\lim\\limits_{x\\to\\infty} (1+\\frac{1}{x})^x = e$$"
   ]
  },
  {
   "cell_type": "markdown",
   "id": "7086d2d4",
   "metadata": {},
   "source": [
    "$$\\lim\\limits_{x\\to\\infty} (1+\\frac{3}{x})^{12\\frac{x}{3}+1} = \\lim\\limits_{x\\to\\infty} (1+\\frac{3}{x})^{12\\frac{x}{3}}\\cdot \\lim\\limits_{x\\to\\infty} (1+\\frac{3}{x}) = e^{12}$$"
   ]
  },
  {
   "cell_type": "markdown",
   "id": "ab6e8ba7",
   "metadata": {},
   "source": [
    "#### Тема “Теоремы о пределах”"
   ]
  },
  {
   "cell_type": "markdown",
   "id": "7e656b88",
   "metadata": {},
   "source": [
    "##### Задание 1\n",
    "Найти предел<br>\n",
    "a. $\\lim\\limits_{x\\to0} \\frac{\\sin(2x)}{4x}$<br>\n",
    "b. $\\lim\\limits_{x\\to0} \\frac{x}{\\sin(x)}$<br>\n",
    "c. $\\lim\\limits_{x\\to0} \\frac{x}{\\arcsin(x)}$<br>\n",
    "d. $\\lim\\limits_{x\\to\\infty} (\\frac{4x+3}{4x-3})^{6x}$<br>\n",
    "e. $\\lim\\limits_{x\\to\\infty} \\frac{\\sin(x) + \\ln(x)}{x}$<br>\n",
    "f. $\\lim\\limits_{x\\to0} \\frac{\\sin(x) + \\ln(x)}{x}$<br>\n",
    "##### Решение"
   ]
  },
  {
   "cell_type": "markdown",
   "id": "30f63cda",
   "metadata": {},
   "source": [
    "**a. $\\lim\\limits_{x\\to0} \\frac{\\sin(2x)}{4x}$**\n",
    "$$\\lim\\limits_{x\\to0} \\frac{\\sin(2x)}{4x} = \\frac12 \\cdot \\lim\\limits_{x\\to0} \\frac{\\sin(2x)}{2x}$$\n",
    "Это первый замечательный предел, т.к. x ⟶ 0, то и 2x ⟶ 0. $\\lim\\limits_{x\\to0} \\frac{\\sin(x)}{x} = 1$\n",
    "$$\\frac12 \\cdot \\lim\\limits_{x\\to0} \\frac{\\sin(2x)}{2x} = \\frac12 \\cdot 1 = \\frac12$$"
   ]
  },
  {
   "cell_type": "markdown",
   "id": "37ba8db0",
   "metadata": {},
   "source": [
    "**b. $\\lim\\limits_{x\\to0} \\frac{x}{\\sin(x)}$**<br>\n",
    "Первый замечательный предел.\n",
    "$$\\lim\\limits_{x\\to0} \\frac{x}{\\sin(x)} = $\\lim\\limits_{x\\to0} (\\frac{\\sin(x)}{x})^{-1} = 1$$"
   ]
  },
  {
   "cell_type": "markdown",
   "id": "0513a8b3",
   "metadata": {},
   "source": [
    "**c. $\\lim\\limits_{x\\to0} \\frac{x}{\\arcsin(x)}$**\n",
    "Первый замечательный предел.\n",
    "Действия те же что и в пункте **b**\n",
    "Результат: 1"
   ]
  },
  {
   "cell_type": "markdown",
   "id": "27d3b5ee",
   "metadata": {},
   "source": [
    "**d. $\\lim\\limits_{x\\to\\infty} (\\frac{4x+3}{4x-3})^{6x}$**\n",
    "$$(\\frac{4x+3}{4x-3})^{6x} = (\\frac{4x+(6-3)}{4x-3})^{6x} = (\\frac{4x-3}{4x-3} + \\frac{6}{4x-3})^{6x} = (1 + \\frac{6}{4x-3})^{6x}$$\n",
    "становится похоже на второй замечательный предел $\\lim\\limits_{x\\to\\infty} (1+\\frac{1}{x})^x = e$"
   ]
  },
  {
   "cell_type": "markdown",
   "id": "5d85f658",
   "metadata": {},
   "source": [
    "пусть $t = \\frac{4x-3}{6}, t ⟶ \\infty$, тогда $x = \\frac{6t+3}{4}$\n",
    "$$(1 + \\frac{1}{t})^{6\\cdot \\frac{6t+3}{4} } = (1 + \\frac{1}{t})^{\\frac{36t}{4} + \\frac{18}{4} } = (1 + \\frac{1}{t})^{9t + \\frac{9}{2} }$$\n",
    "$$\\lim\\limits_{x\\to\\infty} (1 + \\frac{1}{t})^{9t + \\frac{9}{2} } = \\lim\\limits_{x\\to\\infty} (1 + \\frac{1}{t})^{9t} \\cdot \\lim\\limits_{x\\to\\infty} (1 + \\frac{1}{t})^{\\frac{9}{2} } = e^9\\cdot 1 = e^9$$\n",
    "**Ответ: $e^9$**"
   ]
  },
  {
   "cell_type": "markdown",
   "id": "5382be15",
   "metadata": {},
   "source": [
    "**f. $\\lim\\limits_{x\\to0} \\frac{\\sin(x) + \\ln(x)}{x}$**"
   ]
  },
  {
   "cell_type": "markdown",
   "id": "91609e4d",
   "metadata": {},
   "source": [
    "**предела не существует**"
   ]
  }
 ],
 "metadata": {
  "kernelspec": {
   "display_name": "Python 3 (ipykernel)",
   "language": "python",
   "name": "python3"
  },
  "language_info": {
   "codemirror_mode": {
    "name": "ipython",
    "version": 3
   },
   "file_extension": ".py",
   "mimetype": "text/x-python",
   "name": "python",
   "nbconvert_exporter": "python",
   "pygments_lexer": "ipython3",
   "version": "3.10.6"
  }
 },
 "nbformat": 4,
 "nbformat_minor": 5
}
