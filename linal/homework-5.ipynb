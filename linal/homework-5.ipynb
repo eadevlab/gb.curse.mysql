{
 "cells": [
  {
   "cell_type": "markdown",
   "source": [
    "## Практическая работа №4 Линейная алгебра"
   ],
   "metadata": {
    "collapsed": false
   }
  },
  {
   "cell_type": "markdown",
   "source": [
    "#### 1. Найти с помощью NumPy SVD для матрицы\n",
    "\n",
    "$$\\begin{pmatrix}\n",
    "1 & 2 & 0\\\\\n",
    "0 & 0 & 5\\\\\n",
    "3 & -4 & 2\\\\\n",
    "1 & 6 & 5\\\\\n",
    "0 & 1 & 0\n",
    "\\end{pmatrix}.$$"
   ],
   "metadata": {
    "collapsed": false
   }
  },
  {
   "cell_type": "code",
   "execution_count": 1,
   "outputs": [],
   "source": [
    "import numpy as np\n",
    "np.set_printoptions(precision=2, suppress=True)"
   ],
   "metadata": {
    "collapsed": false
   }
  },
  {
   "cell_type": "code",
   "execution_count": 2,
   "outputs": [
    {
     "data": {
      "text/plain": "array([[ 1,  2,  0],\n       [ 0,  0,  5],\n       [ 3, -4,  2],\n       [ 1,  6,  5],\n       [ 0,  1,  0]])"
     },
     "execution_count": 2,
     "metadata": {},
     "output_type": "execute_result"
    }
   ],
   "source": [
    "A = np.array([[1,2,0],[0,0,5],[3,-4,2],[1,6,5],[0,1,0]])\n",
    "A"
   ],
   "metadata": {
    "collapsed": false
   }
  },
  {
   "cell_type": "code",
   "execution_count": 3,
   "outputs": [
    {
     "name": "stdout",
     "output_type": "stream",
     "text": [
      "U:\n",
      "[[ 0.17  0.16 -0.53 -0.8  -0.16]\n",
      " [ 0.39 -0.53  0.61 -0.43  0.03]\n",
      " [-0.14 -0.82 -0.52  0.14  0.07]\n",
      " [ 0.89  0.06 -0.25  0.38 -0.06]\n",
      " [ 0.08  0.11 -0.08 -0.11  0.98]]\n",
      "D:\n",
      "[[8.82 0.   0.  ]\n",
      " [0.   6.14 0.  ]\n",
      " [0.   0.   2.53]\n",
      " [0.   0.   0.  ]\n",
      " [0.   0.   0.  ]]\n",
      "V:\n",
      "[[ 0.07 -0.37 -0.93]\n",
      " [ 0.72  0.67 -0.21]\n",
      " [ 0.69 -0.65  0.31]]\n"
     ]
    }
   ],
   "source": [
    "U, s, W = np.linalg.svd(A)\n",
    "V = W.T\n",
    "D = np.zeros_like(A, dtype=float)\n",
    "D[np.diag_indices(min(A.shape))] = s\n",
    "\n",
    "print('U:', U, sep=\"\\n\")\n",
    "print('D:', D, sep=\"\\n\")\n",
    "print('V:', V, sep=\"\\n\")"
   ],
   "metadata": {
    "collapsed": false
   }
  },
  {
   "cell_type": "code",
   "execution_count": 7,
   "outputs": [
    {
     "name": "stdout",
     "output_type": "stream",
     "text": [
      "[[ 1.  2.  0.]\n",
      " [ 0. -0.  5.]\n",
      " [ 3. -4.  2.]\n",
      " [ 1.  6.  5.]\n",
      " [-0.  1. -0.]]\n"
     ]
    }
   ],
   "source": [
    "print(U@D@W)  # Проверим"
   ],
   "metadata": {
    "collapsed": false
   }
  },
  {
   "cell_type": "markdown",
   "source": [],
   "metadata": {
    "collapsed": false
   }
  },
  {
   "cell_type": "markdown",
   "source": [
    "#### 2. Для матрицы из предыдущего задания найти:\n",
    "\n",
    "    а) евклидову норму;\n",
    "    б) норму Фробениуса."
   ],
   "metadata": {
    "collapsed": false
   }
  },
  {
   "cell_type": "code",
   "execution_count": 9,
   "outputs": [
    {
     "name": "stdout",
     "output_type": "stream",
     "text": [
      "Евклидова норма:  8.824868854820444\n"
     ]
    }
   ],
   "source": [
    "print('Евклидова норма: ', np.linalg.norm(A, ord=2))"
   ],
   "metadata": {
    "collapsed": false
   }
  },
  {
   "cell_type": "markdown",
   "source": [
    "евклидова норма матрицы равна евклидовой норме диагональной матрицы из ее сингулярных чисел $D$. Максимальное значение полученного отношения будет равно максимальному сингулярному числу $\\mu_{max}$, и, принимая во внимание факт сортировки по убыванию сингулярных чисел, получим\n",
    "\n",
    "$$\\left \\| A \\right \\|_{E}=\\mu_{1}.$$"
   ],
   "metadata": {
    "collapsed": false
   }
  },
  {
   "cell_type": "markdown",
   "source": [
    "$$\\mu_{1} = 8.82$$\n",
    "$$\\left \\| A \\right \\|_{E}=8.82$$"
   ],
   "metadata": {
    "collapsed": false
   }
  },
  {
   "cell_type": "markdown",
   "source": [
    "_норма Фробениуса_, определяется как\n",
    "\n",
    "$$\\left \\| A \\right \\|_{F}=\\sqrt{\\sum_{i=1}^{m}\\sum_{j=1}^{n}a_{ij}^{2}}.$$\n",
    "В случае, когда известно сингулярное разложение матрицы, ее норма Фробениуса вычисляется как\n",
    "\n",
    "$$\\left \\| A \\right \\|_{F}=\\sqrt{\\sum_{k=1}^{r}\\mu_{k}^{2}}.$$"
   ],
   "metadata": {
    "collapsed": false
   }
  },
  {
   "cell_type": "code",
   "execution_count": 14,
   "outputs": [
    {
     "data": {
      "text/plain": "11.045361017187261"
     },
     "execution_count": 14,
     "metadata": {},
     "output_type": "execute_result"
    }
   ],
   "source": [
    "np_fro_norm = np.linalg.norm(A, ord='fro')\n",
    "np_fro_norm # для проверки"
   ],
   "metadata": {
    "collapsed": false
   }
  },
  {
   "cell_type": "code",
   "execution_count": 30,
   "outputs": [
    {
     "name": "stdout",
     "output_type": "stream",
     "text": [
      "норма Фробениуса(Версия 1):  11.045361017187261\n",
      "норма Фробениуса(Версия 2):  11.045361017187263\n"
     ]
    }
   ],
   "source": [
    "from functools import reduce\n",
    "\n",
    "fro_norm_v1 = np.sqrt(reduce(lambda x,y: x + y**2, A.flat))\n",
    "fro_norm_v2 = np.sqrt(np.sum(s**2))\n",
    "\n",
    "print('норма Фробениуса(Версия 1): ', fro_norm_v1)\n",
    "print('норма Фробениуса(Версия 2): ', fro_norm_v2)\n",
    "\n",
    "assert np_fro_norm == fro_norm_v1\n",
    "assert round(np_fro_norm, 5) == round(fro_norm_v2, 5)"
   ],
   "metadata": {
    "collapsed": false
   }
  },
  {
   "cell_type": "markdown",
   "source": [],
   "metadata": {
    "collapsed": false
   }
  }
 ],
 "metadata": {
  "kernelspec": {
   "display_name": "Python 3",
   "language": "python",
   "name": "python3"
  },
  "language_info": {
   "codemirror_mode": {
    "name": "ipython",
    "version": 2
   },
   "file_extension": ".py",
   "mimetype": "text/x-python",
   "name": "python",
   "nbconvert_exporter": "python",
   "pygments_lexer": "ipython2",
   "version": "2.7.6"
  }
 },
 "nbformat": 4,
 "nbformat_minor": 0
}
