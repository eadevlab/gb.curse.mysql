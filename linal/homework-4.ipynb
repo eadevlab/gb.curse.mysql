{
 "cells": [
  {
   "cell_type": "markdown",
   "source": [
    "## Практическая работа №4 Линейная алгебра"
   ],
   "metadata": {
    "collapsed": false
   }
  },
  {
   "cell_type": "code",
   "execution_count": 2,
   "outputs": [],
   "source": [
    "import numpy as np"
   ],
   "metadata": {
    "collapsed": false
   }
  },
  {
   "cell_type": "markdown",
   "source": [
    "## Часть 1"
   ],
   "metadata": {
    "collapsed": false
   }
  },
  {
   "cell_type": "markdown",
   "source": [
    "#### __1.__ Решить систему уравнений методом Гаусса:\n",
    "\n",
    "$$\\begin{cases}\n",
    "x_{1}+x_{2}-x_{3}-2x_{4}=0, \\\\\n",
    "2x_{1}+x_{2}-x_{3}+x_{4}=-2, \\\\\n",
    "x_{1}+x_{2}-3x_{3}+x_{4}=4.\n",
    "\\end{cases}$$\n",
    "\n",
    "### Решение"
   ],
   "metadata": {
    "collapsed": false
   }
  },
  {
   "cell_type": "markdown",
   "source": [
    "Запишем систему уравнений в виде матрицы\n",
    "$\\begin{pmatrix}\n",
    "    \\left.\\begin{matrix}\n",
    "    1 & 1 & -1 & -2\\\\\n",
    "    2 & 1 & -1 & 1 \\\\\n",
    "    1 & 1 & -3 & 1\n",
    "    \\end{matrix}\\right|\n",
    "    \\begin{matrix}\n",
    "    0\\\\\n",
    "    -2 \\\\\n",
    "    4\n",
    "    \\end{matrix}\n",
    "    \\end{pmatrix}$<br>\n",
    "Произведём простые операции над матрицей, для приведения её к ступенчатому виду.\n",
    "Система является недоопределенной, т.к. количество уравнений меньше числа неизвестных\n"
   ],
   "metadata": {
    "collapsed": false
   }
  },
  {
   "cell_type": "markdown",
   "source": [
    "Вычтем из второй строки первую*2<br>\n",
    "$\\begin{pmatrix}\n",
    "    \\left.\\begin{matrix}\n",
    "    1 & 1 & -1 & -2\\\\\n",
    "    0 & -1 & 1 & 5 \\\\\n",
    "    1 & 1 & -3 & 1\n",
    "    \\end{matrix}\\right|\n",
    "    \\begin{matrix}\n",
    "    0\\\\\n",
    "    -2 \\\\\n",
    "    4\n",
    "    \\end{matrix}\n",
    "    \\end{pmatrix}$<br>\n",
    "Вычтем из 3й строки 1ю<br>\n",
    "$\\begin{pmatrix}\n",
    "    \\left.\\begin{matrix}\n",
    "    1 & 1 & -1 & -2\\\\\n",
    "    0 & -1 & 1 & 5 \\\\\n",
    "    0 & 0 & -2 & 3\n",
    "    \\end{matrix}\\right|\n",
    "    \\begin{matrix}\n",
    "    0\\\\\n",
    "    -2 \\\\\n",
    "    4\n",
    "    \\end{matrix}\n",
    "    \\end{pmatrix}$<br>\n",
    "Прибавим к 1 2<br>\n",
    "$\\begin{pmatrix}\n",
    "    \\left.\\begin{matrix}\n",
    "    1 & 0 & 0 & 3\\\\\n",
    "    0 & -1 & 1 & 5 \\\\\n",
    "    0 & 0 & -2 & 3\n",
    "    \\end{matrix}\\right|\n",
    "    \\begin{matrix}\n",
    "    -2\\\\\n",
    "    -2 \\\\\n",
    "    4\n",
    "    \\end{matrix}\n",
    "    \\end{pmatrix}$<br>\n",
    "В полученном ступенчатом виде мы имеем ступеньки из двух чисел, а не из одного, как это требуется. В таком случае система имеет _бесконечное количество решений._"
   ],
   "metadata": {
    "collapsed": false
   }
  },
  {
   "cell_type": "markdown",
   "source": [
    "Пусть $x_{4} = c$, тогда\n",
    "$-2x_{3} + 3c = 4 => x_{3} = \\frac{4-3c}{-2} => x_{3} = -2 + \\frac{3}{2}c$<br>\n",
    "Подставим $x_{3} и x_{4}$ в второе уранвнение<br>\n",
    "$-x_{2} + (-2 + \\frac{3}{2}c) + 5c = -2 => x_{2} = \\frac{13}{2}c$<br>\n",
    "подставим всё в первое уравнение<br>\n",
    "$x_{1} + 0*(\\frac{13}{2}c) + 0*(-2 + \\frac{3}{2}c) + 3c = -2 => x_{1} = -2-3c$\n",
    "##### Итого:\n",
    "$$x_{1} = -2-3c $$\n",
    "$$x_{2} = 6\\frac{1}{2}c $$\n",
    "$$x_{3} = -2 + \\frac{3}{2}c $$\n",
    "$$x_{4} = c $$"
   ],
   "metadata": {
    "collapsed": false
   }
  },
  {
   "cell_type": "markdown",
   "source": [
    "Найдём частное решение при $с=0$, тогда<br>\n",
    "$x_{1} = -2$\n",
    "$x_{2} = 0$\n",
    "$x_{3} = -2$\n",
    "$x_{0} = -2$"
   ],
   "metadata": {
    "collapsed": false
   }
  },
  {
   "cell_type": "markdown",
   "source": [
    "#### __2.__ Проверить на совместность и выяснить, сколько решений будет иметь система линейных уравнений:\n",
    "\n",
    "   а) $\\begin{cases}\n",
    "3x_{1}-x_{2}+x_{3}=4, \\\\\n",
    "2x_{1}-5x_{2}-3x_{3}=-17, \\\\\n",
    "x_{1}+x_{2}-x_{3}=0;\n",
    "\\end{cases}$\n",
    "\n",
    "   б) $\\begin{cases}\n",
    "2x_{1}-4x_{2}+6x_{3}=1, \\\\\n",
    "x_{1}-2x_{2}+3x_{3}=-2, \\\\\n",
    "3x_{1}-6x_{2}+9x_{3}=5;\n",
    "\\end{cases}$\n",
    "\n",
    "   в) $\\begin{cases}\n",
    "x_{1}+2x_{2}+5x_{3}=4, \\\\\n",
    "3x_{1}+x_{2}-8x_{3}=-2.\n",
    "\\end{cases}$\n",
    "\n",
    "\n",
    "### Решение"
   ],
   "metadata": {
    "collapsed": false
   }
  },
  {
   "cell_type": "markdown",
   "source": [
    "Необходимым и достаточным условием совместности системы из $m$ уравнений с $n$ неизвестными является равенство между собой рангов матрицы коэффициентов $A$ и расширенной матрицы $\\tilde A$\n"
   ],
   "metadata": {
    "collapsed": false
   }
  },
  {
   "cell_type": "markdown",
   "source": [
    "а) $\\begin{cases}\n",
    "3x_{1}-x_{2}+x_{3}=4, \\\\\n",
    "2x_{1}-5x_{2}-3x_{3}=-17, \\\\\n",
    "x_{1}+x_{2}-x_{3}=0;\n",
    "\\end{cases}$\n",
    "\n",
    "$\\tilde{A}=\\begin{pmatrix}\n",
    "\\left.\\begin{matrix}\n",
    "3 & -1 & 1\\\\\n",
    "2 & -5 & -3 \\\\\n",
    "1 & 1 & -1\n",
    "\\end{matrix}\\right|\n",
    "\\begin{matrix}\n",
    "4\\\\\n",
    "-17\\\\\n",
    "0\n",
    "\\end{matrix}\n",
    "\\end{pmatrix}.$\n",
    "\n",
    "Найдём ранги матриц\n",
    "$rankA = 3$<br>\n",
    "$rank\\tilde A = 3$<br>\n",
    "$rankA=rank \\tilde A=n$, где $n$ — число неизвестных, то система определена, т. е. имеет единственное решение;<br>"
   ],
   "metadata": {
    "collapsed": false
   }
  },
  {
   "cell_type": "markdown",
   "source": [
    "   б) $\\begin{cases}\n",
    "2x_{1}-4x_{2}+6x_{3}=1, \\\\\n",
    "x_{1}-2x_{2}+3x_{3}=-2, \\\\\n",
    "3x_{1}-6x_{2}+9x_{3}=5;\n",
    "\\end{cases}$\n",
    "\n",
    "$\\tilde{A}=\\begin{pmatrix}\n",
    "\\left.\\begin{matrix}\n",
    "2 & -4 & 6\\\\\n",
    "1 & -2 & 3 \\\\\n",
    "3 & -6 & 9\n",
    "\\end{matrix}\\right|\n",
    "\\begin{matrix}\n",
    "1\\\\\n",
    "-2\\\\\n",
    "5\n",
    "\\end{matrix}\n",
    "\\end{pmatrix}.$\n",
    "\n",
    "$rankA = 1$<br>\n",
    "$rank\\tilde A = 2$<br>\n",
    "$rankA<rank \\tilde A$, то система несовместна и не имеет решений\n"
   ],
   "metadata": {
    "collapsed": false
   }
  },
  {
   "cell_type": "markdown",
   "source": [
    "   в) $\\begin{cases}\n",
    "x_{1}+2x_{2}+5x_{3}=4, \\\\\n",
    "3x_{1}+x_{2}-8x_{3}=-2.\n",
    "\\end{cases}$\n",
    "\n",
    "$\\tilde{A}=\\begin{pmatrix}\n",
    "\\left.\\begin{matrix}\n",
    "1 & 2 & 5\\\\\n",
    "3 & 1 & -8\n",
    "\\end{matrix}\\right|\n",
    "\\begin{matrix}\n",
    "4\\\\\n",
    "2\n",
    "\\end{matrix}\n",
    "\\end{pmatrix}$\n",
    "\n",
    "Посколько количество неизвестных больше количества уравнений система недоопределена, значит имеет или множество решений, или не имеет их вообще<br>\n",
    "$rankA = 2$<br>\n",
    "$rank\\tilde A = 2$<br>\n",
    "\n",
    "т.к. $rankA=rank \\tilde A$, система имеет множество решений<br>"
   ],
   "metadata": {
    "collapsed": false
   }
  },
  {
   "cell_type": "markdown",
   "source": [
    "__3.__ Проверить на совместность и выяснить, сколько решений будет иметь система линейных уравнений, заданная расширенной матрицей\n",
    "\n",
    "$$\\tilde{A}=\\begin{pmatrix}\n",
    "\\left.\\begin{matrix}\n",
    "1 & 3 & -2 & 4\\\\\n",
    "0 & 5 & 0 & 1\\\\\n",
    "0 & 0 & 3 & 0\\\\\n",
    "0 & 0 & 0 & 2\n",
    "\\end{matrix}\\right|\n",
    "\\begin{matrix}\n",
    "3\\\\\n",
    "2\\\\\n",
    "4\\\\\n",
    "1\n",
    "\\end{matrix}\n",
    "\\end{pmatrix}.$$\n",
    "\n",
    "\n",
    "### Решение"
   ],
   "metadata": {
    "collapsed": false
   }
  },
  {
   "cell_type": "markdown",
   "source": [
    "Матрица уже имеет ступенчатый вид и не нуждается в дальнейших преобразованиях<br>\n",
    "Найдём ранги матриц<br>\n",
    "$rankA = 3$<br>\n",
    "$rank\\tilde A = 3$<br>\n",
    "$rankA=rank \\tilde A=n$, где $n$ — число неизвестных, то система определена, т. е. имеет единственное решение;<br>"
   ],
   "metadata": {
    "collapsed": false
   }
  },
  {
   "cell_type": "markdown",
   "source": [
    "#### __4.__ Дана система линейных уравнений, заданная расширенной матрицей\n",
    "\n",
    "$$\\tilde{A}=\\begin{pmatrix}\n",
    "\\left.\\begin{matrix}\n",
    "1 & 2 & 3\\\\\n",
    "4 & 5 & 6\\\\\n",
    "7 & 8 & 9\n",
    "\\end{matrix}\\right|\n",
    "\\begin{matrix}\n",
    "a\\\\\n",
    "b\\\\\n",
    "c\n",
    "\\end{matrix}\n",
    "\\end{pmatrix}.$$\n",
    "\n",
    "Найти соотношение между параметрами $a$, $b$ и $c$, при которых система является несовместной.\n",
    "\n",
    "### Решение"
   ],
   "metadata": {
    "collapsed": false
   }
  },
  {
   "cell_type": "markdown",
   "source": [
    "Для того чтобы система была несовместима необходимо чтоб выполнилось условие $rankA<rank \\tilde A$<br>\n",
    "Преобразуем систему к ступенчатому виду<br>\n",
    "$\n",
    "\\begin{pmatrix}\n",
    "\\left.\\begin{matrix}\n",
    "1 & 2 & 3\\\\\n",
    "4 & 5 & 6\\\\\n",
    "7 & 8 & 9\n",
    "\\end{matrix}\\right|\n",
    "\\begin{matrix}\n",
    "a\\\\\n",
    "b\\\\\n",
    "c\n",
    "\\end{matrix}\n",
    "\\end{pmatrix}\n",
    "=>\n",
    "\\begin{pmatrix}\n",
    "\\left.\\begin{matrix}\n",
    "1 & 2 & 3\\\\\n",
    "2 & 1 & 0\\\\\n",
    "7 & 8 & 9\n",
    "\\end{matrix}\\right|\n",
    "\\begin{matrix}\n",
    "a\\\\\n",
    "b-2a\\\\\n",
    "c\n",
    "\\end{matrix}\n",
    "\\end{pmatrix}\n",
    "=>\n",
    "\\begin{pmatrix}\n",
    "\\left.\\begin{matrix}\n",
    "1 & 2 & 3\\\\\n",
    "2 & 1 & 0\\\\\n",
    "4 & 2 & 0\n",
    "\\end{matrix}\\right|\n",
    "\\begin{matrix}\n",
    "a\\\\\n",
    "b-2a\\\\\n",
    "c-3a\n",
    "\\end{matrix}\n",
    "\\end{pmatrix}\n",
    "=>\n",
    "\\begin{pmatrix}\n",
    "\\left.\\begin{matrix}\n",
    "1 & 2 & 3\\\\\n",
    "2 & 1 & 0\\\\\n",
    "0 & 0 & 0\n",
    "\\end{matrix}\\right|\n",
    "\\begin{matrix}\n",
    "a\\\\\n",
    "b-2a\\\\\n",
    "c-3a - 2(b-2a)\n",
    "\\end{matrix}\n",
    "\\end{pmatrix}\n",
    "\n",
    "=>\n",
    "\\begin{pmatrix}\n",
    "\\left.\\begin{matrix}\n",
    "1 & 2 & 3\\\\\n",
    "2 & 1 & 0\\\\\n",
    "0 & 0 & 0\n",
    "\\end{matrix}\\right|\n",
    "\\begin{matrix}\n",
    "a\\\\\n",
    "b-2a\\\\\n",
    "a - 2b + c\n",
    "\\end{matrix}\n",
    "\\end{pmatrix}\n",
    "$\n",
    "$rankA = 2$, значит система будет несовместима если $rank \\tilde A > 2$, а значит третий ряд расширенной матрицы должен быть не нулевым.\n",
    "#### Ответ:\n",
    "$$a -2b + c \\neq 0$$"
   ],
   "metadata": {
    "collapsed": false
   }
  },
  {
   "cell_type": "markdown",
   "source": [
    "## Часть 2"
   ],
   "metadata": {
    "collapsed": false
   }
  },
  {
   "cell_type": "markdown",
   "source": [
    "### Задание 1\n",
    "__1.__ Решить систему уравнений методом Крамера:\n",
    "\n",
    "   а) $\\begin{cases}\n",
    "x_{1}-2x_{2}=1 \\\\\n",
    "3x_{1}-4x_{2}=7\n",
    "\\end{cases}$\n",
    "\n",
    "   б) $\\begin{cases}\n",
    "2x_{1}-x_{2}+5x_{3}=10 \\\\\n",
    "x_{1}+x_{2}-3x_{3}=-2 \\\\\n",
    "2x_{1}+4x_{2}+x_{3}=1\n",
    "\\end{cases}$\n"
   ],
   "metadata": {
    "collapsed": false
   }
  },
  {
   "cell_type": "markdown",
   "source": [
    "### Решение:\n",
    "\n",
    "a) $\\begin{cases}\n",
    "x_{1}-2x_{2}=1 \\\\\n",
    "3x_{1}-4x_{2}=7\n",
    "\\end{cases}$\n",
    "\n",
    "$A = \\begin{pmatrix}\n",
    "1 & -2 \\\\\n",
    "3 & -4\n",
    "\\end{pmatrix}$<br>\n",
    "найдём определитель матрицы<br>\n",
    "$detA = \\begin{vmatrix}\n",
    "1 & -2 \\\\\n",
    "3 & -4\n",
    "\\end{vmatrix} = 1*(-4) - 3*(-2) = 2$<br>\n",
    "определитель не равен 0, значит система совместна, можно решить методом крамера<br>\n",
    "$detA_{1} = \\begin{vmatrix}\n",
    "1 & -2 \\\\\n",
    "7 & -4\n",
    "\\end{vmatrix} = 1*(-4)- 7*(-2) = 10$\n",
    "$detA_{2} = \\begin{vmatrix}\n",
    "1 & 1 \\\\\n",
    "3 & 7\n",
    "\\end{vmatrix} = 1*7-1*3 = 4$<br>\n",
    "$x_{1} = \\frac{detA_{1}}{detA} = \\frac{10}{2} = 5$<br>\n",
    "$x_{2} = \\frac{detA_{2}}{detA} = \\frac{4}{2} = 2$<br>\n",
    "#### Ответ:\n",
    "$$x_{1} = 5, x_{2} = 2$$"
   ],
   "metadata": {
    "collapsed": false
   }
  },
  {
   "cell_type": "markdown",
   "source": [
    "   б) $\\begin{cases}\n",
    "2x_{1}-x_{2}+5x_{3}=10 \\\\\n",
    "x_{1}+x_{2}-3x_{3}=-2 \\\\\n",
    "2x_{1}+4x_{2}+x_{3}=1\n",
    "\\end{cases}$\n",
    "$A = \\begin{pmatrix}\n",
    "2 & -1 & 5 \\\\\n",
    "1 & 1 & -3 \\\\\n",
    "2 & 4 & 1\n",
    "\\end{pmatrix}$<br>\n",
    "найдём определитель матрицы<br>\n",
    "$detA = \\begin{vmatrix}\n",
    "2 & -1 & 5 \\\\\n",
    "1 & 1 & -3 \\\\\n",
    "2 & 4 & 1\n",
    "\\end{vmatrix} = 2\\cdot\\begin{vmatrix}\n",
    "1 & -3 \\\\\n",
    "4 & 1\n",
    "\\end{vmatrix} - (-1)\\cdot\\begin{vmatrix}\n",
    "1 & -3 \\\\\n",
    "2 & 1\n",
    "\\end{vmatrix} + 5\\cdot\\begin{vmatrix}\n",
    "1 & 1 \\\\\n",
    "2 & 4\n",
    "\\end{vmatrix} = 43$<br>\n",
    "определитель не равен 0, значит система совместна, можно решить методом крамера<br>\n",
    "$detA_{1} = \\begin{vmatrix}\n",
    "10 & -1 & 5 \\\\\n",
    "-2 & 1 & -3 \\\\\n",
    "1 & 4 & 1\n",
    "\\end{vmatrix} = 86$<br>\n",
    "$detA_{2} = \\begin{vmatrix}\n",
    "2 & 10 & 5 \\\\\n",
    "1 & -2 & -3 \\\\\n",
    "2 & 1 & 1\n",
    "\\end{vmatrix} = -43$<br>\n",
    "$detA_{3} = \\begin{vmatrix}\n",
    "2 & -1 & 10 \\\\\n",
    "1 & 1 & -2 \\\\\n",
    "2 & 4 & 1\n",
    "\\end{vmatrix} = 43$<br>\n",
    "\n",
    "$x_{1} = \\frac{detA_{1}}{detA} = \\frac{86}{43} = 2$<br>\n",
    "$x_{2} = \\frac{detA_{2}}{detA} = \\frac{-43}{43} = -1$<br>\n",
    "$x_{3} = \\frac{detA_{3}}{detA} = \\frac{43}{43} = 1$<br>\n",
    "\n",
    "#### Ответ:\n",
    "$$x_{1} = 2, x_{2} = -1, x_{3} = 1$$\n"
   ],
   "metadata": {
    "collapsed": false
   }
  },
  {
   "cell_type": "markdown",
   "source": [
    "## Задание 2\n",
    "#### __2*.__ Найти $L$-матрицу $LU$-разложения для матрицы коэффициентов:\n",
    "\n",
    "   а)$$\\begin{pmatrix}\n",
    "1 & 2 & 4 \\\\\n",
    "2 & 9 & 12 \\\\\n",
    "3 & 26 & 30\n",
    "\\end{pmatrix}$$\n",
    "\n",
    "   б)$$\\begin{pmatrix}\n",
    "1 & 1 & 2 & 4\\\\\n",
    "2 & 5 & 8 & 9\\\\\n",
    "3 & 18 & 29 & 18\\\\\n",
    "4 & 22 & 53 & 33\n",
    "\\end{pmatrix}$$"
   ],
   "metadata": {
    "collapsed": false
   }
  },
  {
   "cell_type": "markdown",
   "source": [
    "### Решение:\n",
    " а) $\\begin{pmatrix}\n",
    "1 & 2 & 4 \\\\\n",
    "2 & 9 & 12 \\\\\n",
    "3 & 26 & 30\n",
    "\\end{pmatrix}$"
   ],
   "metadata": {
    "collapsed": false
   }
  },
  {
   "cell_type": "markdown",
   "source": [
    "$U = \\begin{pmatrix}\n",
    "1 & 2 & 4 \\\\\n",
    "2 & 9 & 12 \\\\\n",
    "3 & 26 & 30\n",
    "\\end{pmatrix}$<br>\n",
    "$L = \\begin{pmatrix}\n",
    "1 & 0 & 0 \\\\\n",
    "0 & 1 & 0 \\\\\n",
    "0 & 0 & 1\n",
    "\\end{pmatrix}$<br>\n",
    "Вычтем из второй строки матрицы L первую умноженную на 2 и запишем этот коэффициент в в матрицу U<br>\n",
    "$U = \\begin{pmatrix}\n",
    "1 & 2 & 4 \\\\\n",
    "0 & 5 & 4 \\\\\n",
    "3 & 26 & 30\n",
    "\\end{pmatrix}$<br>\n",
    "$L = \\begin{pmatrix}\n",
    "1 & 0 & 0 \\\\\n",
    "2 & 1 & 0 \\\\\n",
    "0 & 0 & 1\n",
    "\\end{pmatrix}$<br>\n",
    "Вычтем из 3й строки матрицы L первую, умноженную на 3<br>\n",
    "$U = \\begin{pmatrix}\n",
    "1 & 2 & 4 \\\\\n",
    "0 & 5 & 4 \\\\\n",
    "0 & 20 & 18\n",
    "\\end{pmatrix}$<br>\n",
    "$L = \\begin{pmatrix}\n",
    "1 & 0 & 0 \\\\\n",
    "2 & 1 & 0 \\\\\n",
    "3 & 0 & 1\n",
    "\\end{pmatrix}$<br>\n",
    "Теперь из 3й строки матрицы L вычтем вторую умноженную на 4<br>\n",
    "$U = \\begin{pmatrix}\n",
    "1 & 2 & 4 \\\\\n",
    "0 & 5 & 4 \\\\\n",
    "0 & 0 & 2\n",
    "\\end{pmatrix}$<br>\n",
    "$L = \\begin{pmatrix}\n",
    "1 & 0 & 0 \\\\\n",
    "2 & 1 & 0 \\\\\n",
    "3 & 4 & 1\n",
    "\\end{pmatrix}$<br>\n",
    "\n",
    "Проверка результата:\n",
    "$LU = \\cdot\\begin{pmatrix}\n",
    "1 & 0 & 0 \\\\\n",
    "2 & 1 & 0 \\\\\n",
    "3 & 4 & 1\n",
    "\\end{pmatrix}\\cdot\\begin{pmatrix}\n",
    "1 & 2 & 4 \\\\\n",
    "0 & 5 & 4 \\\\\n",
    "0 & 0 & 2\n",
    "\\end{pmatrix} = \\begin{pmatrix}1 & 2 & 4 \\\\\n",
    "2 & 9 & 12 \\\\\n",
    "3 & 26 & 30\n",
    "\\end{pmatrix}\n",
    "$<br>\n",
    "Сходится\n"
   ],
   "metadata": {
    "collapsed": false
   }
  },
  {
   "cell_type": "markdown",
   "source": [
    "б)$\\begin{pmatrix}\n",
    "1 & 1 & 2 & 4\\\\\n",
    "2 & 5 & 8 & 9\\\\\n",
    "3 & 18 & 29 & 18\\\\\n",
    "4 & 22 & 53 & 33\n",
    "\\end{pmatrix}$<br>\n",
    "$U = \\begin{pmatrix}\n",
    "1 & 1 & 2 & 4\\\\\n",
    "2 & 5 & 8 & 9\\\\\n",
    "3 & 18 & 29 & 18\\\\\n",
    "4 & 22 & 53 & 33\n",
    "\\end{pmatrix}$<br>\n",
    "$L = \\begin{pmatrix}\n",
    "1 & 0 & 0 & 0\\\\\n",
    "0 & 1 & 0 & 0\\\\\n",
    "0 & 0 & 1 & 0\\\\\n",
    "0 & 0 & 0 & 1\n",
    "\\end{pmatrix}$<br>\n",
    "В матрице U отнимем первую строку от остальных умноженную на 2 3 4, перенася эти коэфициенты в L\n",
    "$U = \\begin{pmatrix}\n",
    "1 & 1 & 2 & 4\\\\\n",
    "0 & 3 & 4 & 1\\\\\n",
    "0 & 15 & 23 & 6\\\\\n",
    "0 & 18 & 45 & 17\n",
    "\\end{pmatrix}$<br>\n",
    "$L = \\begin{pmatrix}\n",
    "1 & 0 & 0 & 0\\\\\n",
    "2 & 1 & 0 & 0\\\\\n",
    "3 & 0 & 1 & 0\\\\\n",
    "4 & 0 & 0 & 1\n",
    "\\end{pmatrix}$<br>\n",
    "Из 3 и 4 вычтем 2 умноженную на 5 и 6\n",
    "$U = \\begin{pmatrix}\n",
    "1 & 1 & 2 & 4\\\\\n",
    "0 & 3 & 4 & 1\\\\\n",
    "0 & 0 & 3 & 1\\\\\n",
    "0 & 0 & 21 & 11\n",
    "\\end{pmatrix}$<br>\n",
    "$L = \\begin{pmatrix}\n",
    "1 & 0 & 0 & 0\\\\\n",
    "2 & 1 & 0 & 0\\\\\n",
    "3 & 5 & 1 & 0\\\\\n",
    "4 & 6 & 0 & 1\n",
    "\\end{pmatrix}$<br>\n",
    "Осталось из 4 вычесть 3*7\n",
    "$U = \\begin{pmatrix}\n",
    "1 & 1 & 2 & 4\\\\\n",
    "0 & 3 & 4 & 1\\\\\n",
    "0 & 0 & 3 & 1\\\\\n",
    "0 & 0 & 0 & 4\n",
    "\\end{pmatrix}$<br>\n",
    "$L = \\begin{pmatrix}\n",
    "1 & 0 & 0 & 0\\\\\n",
    "2 & 1 & 0 & 0\\\\\n",
    "3 & 5 & 1 & 0\\\\\n",
    "4 & 6 & 7 & 1\n",
    "\\end{pmatrix}$<br>\n",
    "\n",
    "$LU = \\begin{pmatrix}\n",
    "1 & 0 & 0 & 0\\\\\n",
    "2 & 1 & 0 & 0\\\\\n",
    "3 & 5 & 1 & 0\\\\\n",
    "4 & 6 & 7 & 1\n",
    "\\end{pmatrix}\\cdot\\begin{pmatrix}\n",
    "1 & 1 & 2 & 4\\\\\n",
    "0 & 3 & 4 & 1\\\\\n",
    "0 & 0 & 3 & 1\\\\\n",
    "0 & 0 & 0 & 4\n",
    "\\end{pmatrix} = \\begin{pmatrix}\n",
    "1 & 1 & 2 & 4\\\\\n",
    "2 & 5 & 8 & 9\\\\\n",
    "3 & 18 & 29 & 18\\\\\n",
    "4 & 22 & 53 & 33\n",
    "\\end{pmatrix}$"
   ],
   "metadata": {
    "collapsed": false
   }
  },
  {
   "cell_type": "markdown",
   "source": [
    "### Задание 3\n",
    "#### __3*.__ Решить систему линейных уравнений методом $LU$-разложения\n",
    "\n",
    "$$\\begin{cases}\n",
    "2x_{1}+x_{2}+3x_{3}=1 \\\\\n",
    "11x_{1}+7x_{2}+5x_{3}=-6 \\\\\n",
    "9x_{1}+8x_{2}+4x_{3}=-5\n",
    "\\end{cases}$$\n"
   ],
   "metadata": {
    "collapsed": false
   }
  },
  {
   "cell_type": "markdown",
   "source": [
    "### Решение:\n",
    "Для начала найдём U и L\n",
    "$U = \\begin{pmatrix}\n",
    "2 & 1 & 3 \\\\\n",
    "0 & 1.5 & -11.5 \\\\\n",
    "0 & 0 & 17.3\n",
    "\\end{pmatrix}$<br>\n",
    "$L = \\begin{pmatrix}\n",
    "1 & 0 & 0 \\\\\n",
    "5.5 & 1 & 0 \\\\\n",
    "4.5 & 2.3 & 1\n",
    "\\end{pmatrix}$<br>\n"
   ],
   "metadata": {
    "collapsed": false
   }
  },
  {
   "cell_type": "markdown",
   "source": [
    "$Ly = b =>\n",
    "\\begin{cases}\n",
    "y_{1}+0*y_{2}+0*y_{3}=1 \\\\\n",
    "5.5*y_{1}+y_{2}+0*y_{3}=-6 \\\\\n",
    "4.5*y_{1}+2.3*y_{2}+y_{3}=-5\n",
    "\\end{cases} => \\begin{cases}\n",
    "y_{1}=1 \\\\\n",
    "y_{2} = -11.5 \\\\\n",
    "4.5*1+2.3*(-11.5)+y_{3}=-5\n",
    "\\end{cases} =>\n",
    "\\begin{cases}\n",
    "y_{1} = 1 \\\\\n",
    "y_{2} = -11.5 \\\\\n",
    "y_{3} = 16.95\n",
    "\\end{cases}\n",
    "$"
   ],
   "metadata": {
    "collapsed": false
   }
  },
  {
   "cell_type": "markdown",
   "source": [
    "$$ Ux = y =>\n",
    "\\begin{cases}\n",
    "2x_{1}+x_{2}+3x_{3} = 1 \\\\\n",
    "0*x_{1}+1.5*x_{2}-11.5*x_{3} = -11.5 \\\\\n",
    "0*x_{1}+0*x_{2}+17.3*x_{3} = -5\n",
    "\\end{cases}\n",
    "=>\n",
    "\\begin{cases}\n",
    "2x_{1}+x_{2}+3*(-0.3) = 1 \\\\\n",
    "1.5*x_{2}-11.5*(-0.3) = -11.5 \\\\\n",
    "x_{3} = -0.3\n",
    "\\end{cases}\n",
    "=>\n",
    "\\begin{cases}\n",
    "2x_{1}+x_{2}+3*(-0.3) = 1 \\\\\n",
    "1.5*x_{2}-11.5*(-0.3) = -11.5 \\\\\n",
    "x_{3} = -0.3\n",
    "\\end{cases}\n",
    "=>\n",
    "$$\n",
    "$$\n",
    "=> \\begin{cases}\n",
    "2x_{1}+10+3*(-0.3) = 1 \\\\\n",
    "x_{2} = -10 \\\\\n",
    "x_{3} = -0.3\n",
    "\\end{cases}\n",
    "=>\n",
    "\\begin{cases}\n",
    "x_{1} = -4 \\\\\n",
    "x_{2} = -10 \\\\\n",
    "x_{3} = -0.3\n",
    "\\end{cases}\n",
    "\n",
    "$$"
   ],
   "metadata": {
    "collapsed": false
   }
  },
  {
   "cell_type": "markdown",
   "source": [
    "### Задание 4\n",
    "__4*.__ Решить систему линейных уравнений методом Холецкого\n",
    "\n",
    "$$\\begin{cases}\n",
    "81x_{1}-45x_{2}+45x_{3}=531 \\\\\n",
    "-45x_{1}+50x_{2}-15x_{3}=-460 \\\\\n",
    "45x_{1}-15x_{2}+38x_{3}=193\n",
    "\\end{cases}$$\n",
    "\n",
    "### Решение:"
   ],
   "metadata": {
    "collapsed": false
   }
  },
  {
   "cell_type": "markdown",
   "source": [
    "Найдём $L$ и $L^T$\n",
    "$$l_{11} = \\sqrt{a_{11}} = \\sqrt{81} = 9$$\n",
    "$$l_{21} = \\frac{a_{21}}{l_{11}} = -45/9 = -5$$\n",
    "$$l_{31} = \\frac{a_{31}}{l_{11}} = 45/9 = 5$$\n",
    "$$l_{22} = \\sqrt{a_{22}-l_{21}^2} = \\sqrt{50-25} = 5$$\n",
    "$$l_{32} = \\frac{1}{l_{22}}(a_{32}-l_{21}l_{31}) = \\frac{1}{5}(-15-(-5)*5) = \\frac{10}{5} = 2$$\n",
    "$$l_{33} = \\sqrt{a_{33}-l_{31}^2-l_{32}^2} = \\sqrt{38-25-4} = \\sqrt{9} = 3$$"
   ],
   "metadata": {
    "collapsed": false
   }
  },
  {
   "cell_type": "markdown",
   "source": [
    "$$\n",
    "L = \\begin{pmatrix}\n",
    "9 & 0 & 0 \\\\\n",
    "-5 & 5 & 0 \\\\\n",
    "5 & 2 & 3\n",
    "\\end{pmatrix}\n",
    "L^T = \\begin{pmatrix}\n",
    "9 & -5 & 5 \\\\\n",
    "0 & 5 & 2 \\\\\n",
    "0 & 0 & 3\n",
    "\\end{pmatrix}\n",
    "$$\n",
    "Решим систему $Ly = b$\n",
    "$$\\begin{cases}\n",
    "9y_{1}-0y_{2}+0y_{3}=531 \\\\\n",
    "-5y_{1}+5y_{2}+0*y_{3}=-460 \\\\\n",
    "5y_{1}+2y_{2}+3y_{3}=193\n",
    "\\end{cases}\n",
    "=>\n",
    "\\begin{cases}\n",
    "y_{1}=59 \\\\\n",
    "-5*59+5y_{2}=-460 \\\\\n",
    "5y_{1}+2y_{2}+3y_{3}=193\n",
    "\\end{cases}\n",
    "=>\n",
    "\\begin{cases}\n",
    "y_{1} = 59 \\\\\n",
    "y_{2} = -33 \\\\\n",
    "5*59+2*33+3y_{3}=193\n",
    "\\end{cases}\n",
    "=>\n",
    "\\begin{cases}\n",
    "y_{1} = 59 \\\\\n",
    "y_{2} = -33 \\\\\n",
    "y_{3} = -56\n",
    "\\end{cases}\n",
    "$$"
   ],
   "metadata": {
    "collapsed": false
   }
  },
  {
   "cell_type": "markdown",
   "source": [
    "Теперь необходимо решить $L^Tx=y$\n",
    "$$\n",
    "\\begin{cases}\n",
    "9x_{1}-5x_{2}+5x_{3} = 59 \\\\\n",
    "0*x_{1}+5x_{2}+2x_{3} = -33 \\\\\n",
    "0*x_{1}+0*x_{2}+3x_{3} = -56\n",
    "\\end{cases}\n",
    "=>\n",
    "\\begin{cases}\n",
    "9x_{1}-5x_{2}+5(-18.7) = 59 \\\\\n",
    "0*x_{1}+5x_{2}+2*(-18.7) = -33 \\\\\n",
    "x_{3} = -18.7\n",
    "\\end{cases}\n",
    "=>\n",
    "\\begin{cases}\n",
    "9x_{1}-5x_{2}+5(-18.7) = 59 \\\\\n",
    "x_{2} = 0.88 \\\\\n",
    "x_{3} = -18.7\n",
    "\\end{cases}\n",
    "=>\n",
    "\\begin{cases}\n",
    "x_{1} = 17.4 \\\\\n",
    "x_{2} = 0.88 \\\\\n",
    "x_{3} = -18.7\n",
    "\\end{cases}\n",
    "$$"
   ],
   "metadata": {
    "collapsed": false
   }
  },
  {
   "cell_type": "markdown",
   "source": [
    "### Задание 5\n",
    "__5*.__ Написать на Python программу с реализацией одного из изученных алгоритмов решения СЛАУ.\n",
    "\n",
    "### Решение"
   ],
   "metadata": {
    "collapsed": false
   }
  },
  {
   "cell_type": "code",
   "execution_count": 10,
   "outputs": [
    {
     "name": "stdout",
     "output_type": "stream",
     "text": [
      "Первое уравнение:  [5. 2.]\n",
      "Второе уравнение:  [ 2. -1.  1.]\n"
     ]
    }
   ],
   "source": [
    "def kramer(A: np.array, b: np.array) -> np.array:\n",
    "    \"\"\"\n",
    "    Решение системы уравнений методом Крамера\n",
    "    :param A: матрица коэфициентов\n",
    "    :param b: вектор результатов\n",
    "    :return:\n",
    "    \"\"\"\n",
    "    assert A.shape[0] == A.shape[1], 'Non square matrix'\n",
    "    assert np.linalg.det(A) != 0, 'Determinant is zero'\n",
    "    det_A = np.linalg.det(A)\n",
    "    x = np.zeros(A.shape[0])\n",
    "    for i in range(A.shape[0]):\n",
    "        # Преобразуем исходную матрицу заменив i-й стобец на b\n",
    "        A_i = np.hstack((A[:,:i],b, A[:,i+1:]))\n",
    "        x[i] = np.linalg.det(A_i) / det_A\n",
    "    return x\n",
    "\n",
    "\"\"\"\n",
    "Возьмем примеры из первого задания.\n",
    "x_1-2*x_2=1\n",
    "3*x_1-4*x_2=7\n",
    "Ответ: 5, 2\n",
    "\"\"\"\n",
    "A = np.array([[1,-2],[3,-4]])\n",
    "b = np.array([[1,7]]).T\n",
    "print('Первое уравнение: ',kramer(A, b))\n",
    "\n",
    "\"\"\"\n",
    "2*x_1-x_2+5*x_3=10\n",
    "x_1+x_2-3*x_3=-2\n",
    "2*x_1+4*x_2+x_3=1\n",
    "Ответ: 2, -1, 1\n",
    "\"\"\"\n",
    "A = np.array([[2, -1, 5],[1, 1, -3],[2, 4, 1]])\n",
    "b = np.array([[10, -2, 1]]).T\n",
    "print('Второе уравнение: ', kramer(A, b))"
   ],
   "metadata": {
    "collapsed": false
   }
  },
  {
   "cell_type": "markdown",
   "source": [],
   "metadata": {
    "collapsed": false
   }
  }
 ],
 "metadata": {
  "kernelspec": {
   "display_name": "Python 3",
   "language": "python",
   "name": "python3"
  },
  "language_info": {
   "codemirror_mode": {
    "name": "ipython",
    "version": 2
   },
   "file_extension": ".py",
   "mimetype": "text/x-python",
   "name": "python",
   "nbconvert_exporter": "python",
   "pygments_lexer": "ipython2",
   "version": "2.7.6"
  }
 },
 "nbformat": 4,
 "nbformat_minor": 0
}
