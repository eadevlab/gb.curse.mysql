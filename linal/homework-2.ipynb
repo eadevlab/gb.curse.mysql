{
 "cells": [
  {
   "cell_type": "markdown",
   "source": [
    "## Практическая работа №2 Линейная алгебра"
   ],
   "metadata": {
    "collapsed": false
   }
  },
  {
   "cell_type": "code",
   "execution_count": 24,
   "outputs": [],
   "source": [
    "import numpy as np"
   ],
   "metadata": {
    "collapsed": false
   }
  },
  {
   "cell_type": "markdown",
   "source": [
    "### Часть 1"
   ],
   "metadata": {
    "collapsed": false
   }
  },
  {
   "cell_type": "markdown",
   "source": [
    "Все задания рекомендуется делать вручную, затем проверяя полученные результаты с использованием numpy.\n",
    "\n",
    "__1.__ Установить, какие произведения матриц $AB$ и $BA$ определены, и найти размерности полученных матриц:\n",
    "\n",
    "   а) $A$ — матрица $4\\times 2$, $B$ — матрица $4\\times 2$;\n",
    "\n",
    "   б) $A$ — матрица $2\\times 5$, $B$ — матрица $5\\times 3$;\n",
    "\n",
    "   в) $A$ — матрица $8\\times 3$, $B$ — матрица $3\\times 8$;\n",
    "\n",
    "   г) $A$ — квадратная матрица $4\\times 4$, $B$ — квадратная матрица $4\\times 4$.\n"
   ],
   "metadata": {
    "collapsed": false
   }
  },
  {
   "cell_type": "markdown",
   "source": [
    "#### Решение\n",
    "\n",
    "а) AB - перемножить нельзя. BA - перемножить нельзя\n",
    "б) AB - 2x3. BA - перемножить нельзя\n",
    "в) AB - 8x8. BA - 3x3\n",
    "г) AB - 4x4. BA - 4x4"
   ],
   "metadata": {
    "collapsed": false
   }
  },
  {
   "cell_type": "markdown",
   "source": [],
   "metadata": {
    "collapsed": false
   }
  },
  {
   "cell_type": "markdown",
   "source": [
    "__2.__ Найти сумму и произведение матриц $A=\\begin{pmatrix}\n",
    "1 & -2\\\\\n",
    "3 & 0\n",
    "\\end{pmatrix}$ и $B=\\begin{pmatrix}\n",
    "4 & -1\\\\\n",
    "0 & 5\n",
    "\\end{pmatrix}.$"
   ],
   "metadata": {
    "collapsed": false
   }
  },
  {
   "cell_type": "markdown",
   "source": [
    "### Решение"
   ],
   "metadata": {
    "collapsed": false
   }
  },
  {
   "cell_type": "markdown",
   "source": [
    "$A+B = \\begin{pmatrix}\n",
    "1 & -2\\\\\n",
    "3 & 0\n",
    "\\end{pmatrix} + \\begin{pmatrix}\n",
    "4 & -1\\\\\n",
    "0 & 5\n",
    "\\end{pmatrix} = \\begin{pmatrix}\n",
    "5 & -3\\\\\n",
    "3 & 5\n",
    "\\end{pmatrix}$"
   ],
   "metadata": {
    "collapsed": false
   }
  },
  {
   "cell_type": "markdown",
   "source": [
    "$A+B = \\begin{pmatrix}\n",
    "1 & -2\\\\\n",
    "3 & 0\n",
    "\\end{pmatrix} * \\begin{pmatrix}\n",
    "4 & -1\\\\\n",
    "0 & 5\n",
    "\\end{pmatrix} = \\begin{pmatrix}\n",
    "4 & -11\\\\\n",
    "12 & -3\n",
    "\\end{pmatrix}$"
   ],
   "metadata": {
    "collapsed": false
   }
  },
  {
   "cell_type": "code",
   "execution_count": 25,
   "outputs": [
    {
     "name": "stdout",
     "output_type": "stream",
     "text": [
      "A+B= [[ 5 -1]\n",
      " [ 3  5]]\n",
      "AB= [[ 4 -9]\n",
      " [12  3]]\n"
     ]
    }
   ],
   "source": [
    "# проверяем\n",
    "A = np.array([[1,-2],[3,0]])\n",
    "B = np.array([[4,1],[0,5]])\n",
    "print('A+B=',A+B)\n",
    "print('AB=',A.dot(B))"
   ],
   "metadata": {
    "collapsed": false
   }
  },
  {
   "cell_type": "markdown",
   "source": [
    "__3.__ Из закономерностей сложения и умножения матриц на число можно сделать вывод, что матрицы одного размера образуют линейное пространство. Вычислить линейную комбинацию $3A-2B+4C$ для матриц $A=\\begin{pmatrix}\n",
    "1 & 7\\\\\n",
    "3 & -6\n",
    "\\end{pmatrix}$, $B=\\begin{pmatrix}\n",
    "0 & 5\\\\\n",
    "2 & -1\n",
    "\\end{pmatrix}$, $C=\\begin{pmatrix}\n",
    "2 & -4\\\\\n",
    "1 & 1\n",
    "\\end{pmatrix}.$"
   ],
   "metadata": {
    "collapsed": false
   }
  },
  {
   "cell_type": "markdown",
   "source": [
    "#### Решение\n",
    "\n",
    "$3*\\begin{pmatrix}\n",
    "1 & 7\\\\\n",
    "3 & -6\n",
    "\\end{pmatrix} - 2*\\begin{pmatrix}\n",
    "0 & 5\\\\\n",
    "2 & -1\n",
    "\\end{pmatrix} + 4*\\begin{pmatrix}\n",
    "2 & -4\\\\\n",
    "1 & 1\n",
    "\\end{pmatrix} = \\begin{pmatrix}\n",
    "3 & 21\\\\\n",
    "9 & -18\n",
    "\\end{pmatrix} + \\begin{pmatrix}\n",
    "0 & -10\\\\\n",
    "-4 & 2\n",
    "\\end{pmatrix} + \\begin{pmatrix}\n",
    "8 & -16\\\\\n",
    "4 & 4\n",
    "\\end{pmatrix} =  \\begin{pmatrix}\n",
    "3+0+8 & 21-10-16\\\\\n",
    "9-4+4 & -18+2+4\n",
    "\\end{pmatrix} = \\begin{pmatrix}\n",
    "11 & -5\\\\\n",
    "9 & -12\n",
    "\\end{pmatrix}$"
   ],
   "metadata": {
    "collapsed": false
   }
  },
  {
   "cell_type": "code",
   "execution_count": 26,
   "outputs": [
    {
     "data": {
      "text/plain": "array([[ 11,  -5],\n       [  9, -12]])"
     },
     "execution_count": 26,
     "metadata": {},
     "output_type": "execute_result"
    }
   ],
   "source": [
    "# Проверка\n",
    "A = np.array([[1,7],[3,-6]])\n",
    "B = np.array([[0,5],[2,-1]])\n",
    "C = np.array([[2,-4],[1,1]])\n",
    "3*A-2*B+4*C"
   ],
   "metadata": {
    "collapsed": false
   }
  },
  {
   "cell_type": "markdown",
   "source": [
    "__4.__ Дана матрица $A=\\begin{pmatrix}\n",
    "4 & 1\\\\\n",
    "5 & -2\\\\\n",
    "2 & 3\n",
    "\\end{pmatrix}$.\n",
    "Вычислить $AA^{T}$ и $A^{T}A$."
   ],
   "metadata": {
    "collapsed": false
   }
  },
  {
   "cell_type": "markdown",
   "source": [
    "#### Решение\n",
    "$A^{T} = \\begin{pmatrix}\n",
    "4 & 5 & 2\\\\\n",
    "1 & -2 & 3\n",
    "\\end{pmatrix}$\n",
    "<br>\n",
    "$AA^{T} = \\begin{pmatrix}\n",
    "4 & 1\\\\\n",
    "5 & -2\\\\\n",
    "2 & 3\n",
    "\\end{pmatrix}*\\begin{pmatrix}\n",
    "4 & 5 & 2\\\\\n",
    "1 & -2 & 3\n",
    "\\end{pmatrix} = \\begin{pmatrix}\n",
    "17 & 18 & 11\\\\\n",
    "18 & 29 & 4\\\\\n",
    "11 & 4 & 13\n",
    "\\end{pmatrix}$\n",
    "<br>\n",
    "$A^{T}A = \\begin{pmatrix}\n",
    "4 & 5 & 2\\\\\n",
    "1 & -2 & 3\n",
    "\\end{pmatrix}*\\begin{pmatrix}\n",
    "4 & 1\\\\\n",
    "5 & -2\\\\\n",
    "2 & 3\n",
    "\\end{pmatrix} = \\begin{pmatrix}\n",
    "45 & 0\\\\\n",
    "0 & 14\n",
    "\\end{pmatrix}$"
   ],
   "metadata": {
    "collapsed": false
   }
  },
  {
   "cell_type": "code",
   "execution_count": 27,
   "outputs": [
    {
     "data": {
      "text/plain": "array([[ 4,  5,  2],\n       [ 1, -2,  3]])"
     },
     "execution_count": 27,
     "metadata": {},
     "output_type": "execute_result"
    }
   ],
   "source": [
    "A = np.array([[4,1],[5,-2],[2,3]])\n",
    "A.T"
   ],
   "metadata": {
    "collapsed": false
   }
  },
  {
   "cell_type": "code",
   "execution_count": 28,
   "outputs": [
    {
     "data": {
      "text/plain": "array([[17, 18, 11],\n       [18, 29,  4],\n       [11,  4, 13]])"
     },
     "execution_count": 28,
     "metadata": {},
     "output_type": "execute_result"
    }
   ],
   "source": [
    "A.dot(A.T)"
   ],
   "metadata": {
    "collapsed": false
   }
  },
  {
   "cell_type": "code",
   "execution_count": 29,
   "outputs": [
    {
     "data": {
      "text/plain": "array([[45,  0],\n       [ 0, 14]])"
     },
     "execution_count": 29,
     "metadata": {},
     "output_type": "execute_result"
    }
   ],
   "source": [
    "A.T.dot(A)"
   ],
   "metadata": {
    "collapsed": false
   }
  },
  {
   "cell_type": "markdown",
   "source": [
    "__5*.__ Написать на Python функцию для перемножения двух произвольных матриц, не используя NumPy."
   ],
   "metadata": {
    "collapsed": false
   }
  },
  {
   "cell_type": "markdown",
   "source": [
    "#### Решение"
   ],
   "metadata": {
    "collapsed": false
   }
  },
  {
   "cell_type": "code",
   "execution_count": 30,
   "outputs": [
    {
     "name": "stdout",
     "output_type": "stream",
     "text": [
      "A= 28 2 84\n",
      "6 52 56\n",
      "16 95 72\n",
      "B= 35 86 19\n",
      "74 47 99\n",
      "1 35 30\n",
      "AB\n",
      "1212 5442 3250\n",
      "4114 4920 6942\n",
      "7662 8361 11869\n"
     ]
    }
   ],
   "source": [
    "import random\n",
    "\n",
    "class MatrixException(Exception):\n",
    "    pass\n",
    "\n",
    "\n",
    "class Matrix:\n",
    "    \"\"\"Класс матрицы.\"\"\"\n",
    "    def __init__(self, matrix):\n",
    "        self.matrix = matrix\n",
    "        self.rows = len(matrix)\n",
    "        self.cols = len(matrix[0])\n",
    "\n",
    "    def __str__(self):\n",
    "        \"\"\"\n",
    "        Вывод матрицы\n",
    "        :return:\n",
    "        \"\"\"\n",
    "        return \"\\n\".join([' '.join(map(str, tmp)) for tmp in self.matrix])\n",
    "\n",
    "    def __add__(self, other):\n",
    "        \"\"\"\n",
    "        Сложение матриц\n",
    "        :param other: Другая матрица\n",
    "        :return: Matrix\n",
    "        \"\"\"\n",
    "        if self.rows != other.rows or self.cols != other.cols:\n",
    "            raise MatrixException('Matrices has different size')\n",
    "        # res = [map(sum, zip(*tmp)) for tmp in zip(self.matrix, other.matrix)]\n",
    "        res = generate_matrix(self.rows, self.cols, nulls=True)\n",
    "        for i in range(self.rows):\n",
    "            for j in range(self.cols):\n",
    "                res[i][j] = self.matrix[i][j] + other.matrix[i][j]\n",
    "        return Matrix(res)\n",
    "\n",
    "    def __mul__(self, other):\n",
    "        \"\"\"\n",
    "        Умножение матриц\n",
    "        :param other:\n",
    "        :return: Matrix\n",
    "        \"\"\"\n",
    "        res = []\n",
    "        if self.cols !=  other.rows:\n",
    "            raise MatrixException('Size error')\n",
    "        for row in self.matrix:\n",
    "            row_res = []\n",
    "            for i in range(other.rows):\n",
    "                res_val = 0\n",
    "                for idx, v in enumerate(row):\n",
    "                    res_val += v*other.matrix[idx][i]\n",
    "                row_res.append(res_val)\n",
    "            res.append(row_res  )\n",
    "        return Matrix(res)\n",
    "\n",
    "\n",
    "def generate_matrix(rows: int, cols: int, *, nulls: bool = False) -> list:\n",
    "    \"\"\"\n",
    "    Генерация матриц\n",
    "    :param rows: Строк\n",
    "    :param cols: Столбцов\n",
    "    :param nulls: Заполнить нулями\n",
    "    :return: [[]]\n",
    "    \"\"\"\n",
    "    matrix = []\n",
    "    for i in range(rows):\n",
    "        matrix.append([random.randint(0, 100) if not nulls else 0 for j in range(cols)])\n",
    "    return matrix\n",
    "\n",
    "\n",
    "A = Matrix(generate_matrix(3,3))\n",
    "B = Matrix(generate_matrix(3,3))\n",
    "print('A=',A)\n",
    "print('B=',B)\n",
    "print('AB')\n",
    "print(A*B)"
   ],
   "metadata": {
    "collapsed": false
   }
  },
  {
   "cell_type": "markdown",
   "source": [
    "### Часть 2"
   ],
   "metadata": {
    "collapsed": false
   }
  },
  {
   "cell_type": "markdown",
   "source": [
    "Все задания рекомендуется выполнять вручную, затем проверяя полученные результаты с использованием Numpy.\n",
    "\n",
    "__1.__ Вычислить определитель:\n",
    "\n",
    "   a)\n",
    "\n",
    "$$\\begin{vmatrix}\n",
    "sinx & -cosx\\\\\n",
    "cosx & sinx\n",
    "\\end{vmatrix};$$\n",
    "\n",
    "   б)\n",
    "\n",
    "$$\\begin{vmatrix}\n",
    "4 & 2 & 3\\\\\n",
    "0 & 5 & 1\\\\\n",
    "0 & 0 & 9\n",
    "\\end{vmatrix};$$\n",
    "\n",
    "   в)\n",
    "\n",
    "$$\\begin{vmatrix}\n",
    "1 & 2 & 3\\\\\n",
    "4 & 5 & 6\\\\\n",
    "7 & 8 & 9\n",
    "\\end{vmatrix}.$$\n"
   ],
   "metadata": {
    "collapsed": false
   }
  },
  {
   "cell_type": "markdown",
   "source": [
    "#### Решение\n",
    "\n",
    "а) $\\begin{vmatrix}\n",
    "sinx & -cosx\\\\\n",
    "cosx & sinx\n",
    "\\end{vmatrix} = sin^2x+cos^2x = 1$\n",
    "<br>\n",
    "б) $\\begin{vmatrix}\n",
    "4 & 2 & 3\\\\\n",
    "0 & 5 & 1\\\\\n",
    "0 & 0 & 9\n",
    "\\end{vmatrix} = 4*(5*9-1*0)-2*(0*9-0*1)+3*(0*0-0*5) = 180$\n",
    "в) $\\begin{vmatrix}\n",
    "1 & 2 & 3\\\\\n",
    "4 & 5 & 6\\\\\n",
    "7 & 8 & 9\n",
    "\\end{vmatrix} = 1*(5*9-8*6) - 2*(4*9-7*6) + 3*(4*8-7*5) = 0$"
   ],
   "metadata": {
    "collapsed": false
   }
  },
  {
   "cell_type": "code",
   "execution_count": 31,
   "outputs": [
    {
     "name": "stdout",
     "output_type": "stream",
     "text": [
      "б) 180.0\n",
      "в) 0.0\n"
     ]
    }
   ],
   "source": [
    "print('б)', np.linalg.det(np.array([[4,2,3],[0,5,1],[0,0,9]])))\n",
    "print('в)', np.linalg.det(np.array([[1,2,3],[4,5,6],[7,8,9]])))"
   ],
   "metadata": {
    "collapsed": false
   }
  },
  {
   "cell_type": "markdown",
   "source": [
    "__2.__ Определитель матрицы $A$ равен $4$. Найти:\n",
    "\n",
    "   а) $det(A^{2})$;\n",
    "\n",
    "   б) $det(A^{T})$;\n",
    "\n",
    "   в) $det(2A)$."
   ],
   "metadata": {
    "collapsed": false
   }
  },
  {
   "cell_type": "markdown",
   "source": [
    "#### Решение\n",
    "   а) $det(A^{2}) = det(A)*det(A) = 4*4 = 16$;\n",
    "\n",
    "   б) $det(A^{T}) = det(A) = 4$;\n",
    "\n",
    "   в) $det(2A) = 2^n*det(A) = 2^n+2^2 = 2^{n+2}$."
   ],
   "metadata": {
    "collapsed": false
   }
  },
  {
   "cell_type": "markdown",
   "source": [
    "__3.__  Доказать, что матрица\n",
    "\n",
    "$$\\begin{pmatrix}\n",
    "-2 & 7 & -3\\\\\n",
    "4 & -14 & 6\\\\\n",
    "-3 & 7 & 13\n",
    "\\end{pmatrix}$$\n",
    "\n",
    "вырожденная."
   ],
   "metadata": {
    "collapsed": false
   },
   "outputs": [
    {
     "ename": "SyntaxError",
     "evalue": "invalid syntax (4255409548.py, line 1)",
     "output_type": "error",
     "traceback": [
      "\u001B[0;36m  Cell \u001B[0;32mIn[1], line 1\u001B[0;36m\u001B[0m\n\u001B[0;31m    __3.__  Доказать, что матрица\u001B[0m\n\u001B[0m            ^\u001B[0m\n\u001B[0;31mSyntaxError\u001B[0m\u001B[0;31m:\u001B[0m invalid syntax\n"
     ]
    }
   ],
   "execution_count": 1
  },
  {
   "cell_type": "markdown",
   "source": [
    "#### Решение\n",
    "Матрица является вырожденной если ее определитель равен нулю\n",
    "$det\\begin{pmatrix}\n",
    "-2 & 7 & -3\\\\\n",
    "4 & -14 & 6\\\\\n",
    "-3 & 7 & 13\n",
    "\\end{pmatrix} = -2(-14*13 - 7*6) - 7*(4*13 - 6*-3) + -3*(4*7-(-3)*(-14)) = 448 - 490 + 42 = 0$\n",
    "доказали"
   ],
   "metadata": {
    "collapsed": false
   }
  },
  {
   "cell_type": "markdown",
   "source": [
    "__4.__ Найти ранг матрицы:\n",
    "\n",
    "   а) $\\begin{pmatrix}\n",
    "1 & 2 & 3\\\\\n",
    "1 & 1 & 1\\\\\n",
    "2 & 3 & 4\n",
    "\\end{pmatrix};$\n",
    "\n",
    "   б) $\\begin{pmatrix}\n",
    "0 & 0 & 2 & 1\\\\\n",
    "0 & 0 & 2 & 2\\\\\n",
    "0 & 0 & 4 & 3\\\\\n",
    "2 & 3 & 5 & 6\n",
    "\\end{pmatrix}.$"
   ],
   "metadata": {
    "collapsed": false
   }
  },
  {
   "cell_type": "markdown",
   "source": [
    "### Решение\n",
    "Будем использовать матод Гаусса для получения ступенчатой матрицы\n",
    "\n",
    "а) $\\begin{pmatrix}\n",
    "1 & 2 & 3\\\\\n",
    "1 & 1 & 1\\\\\n",
    "2 & 3 & 4\n",
    "\\end{pmatrix};$\n",
    "Отнимем от 3й строки первую\n",
    "$\\begin{pmatrix}\n",
    "1 & 2 & 3\\\\\n",
    "1 & 1 & 1\\\\\n",
    "1 & 1 & 1\n",
    "\\end{pmatrix};$\n",
    "Строки 2 и 3 одинаковы можно выкинуть одну и поменяем местами строки 1 и 2\n",
    "$\\begin{pmatrix}\n",
    "1 & 1 & 1\\\\\n",
    "1 & 2 & 3\n",
    "\\end{pmatrix};$\n",
    "Отнимем от второй строки первую\n",
    "$\\begin{pmatrix}\n",
    "1 & 1 & 1\\\\\n",
    "0 & 1 & 2\n",
    "\\end{pmatrix};$\n",
    "типа того, ранг матрицы равен 2\n",
    "\n",
    "#### Ответ: 2\n",
    "\n",
    "б) $\\begin{pmatrix}\n",
    "0 & 0 & 2 & 1\\\\\n",
    "0 & 0 & 2 & 2\\\\\n",
    "0 & 0 & 4 & 3\\\\\n",
    "2 & 3 & 5 & 6\n",
    "\\end{pmatrix}$\n",
    "Переместим первую строку наверх\n",
    "$\\begin{pmatrix}\n",
    "2 & 3 & 5 & 6\\\\\n",
    "0 & 0 & 2 & 1\\\\\n",
    "0 & 0 & 2 & 2\\\\\n",
    "0 & 0 & 4 & 3\n",
    "\\end{pmatrix}.$\n",
    "От второй строки отнимем четвертую\n",
    "$\\begin{pmatrix}\n",
    "2 & 3 & 5 & 6\\\\\n",
    "0 & 0 & 2 & 1\\\\\n",
    "0 & 0 & 2 & 2\\\\\n",
    "0 & 0 & 2 & 2\n",
    "\\end{pmatrix}.$\n",
    "Удалим дубль\n",
    "$\\begin{pmatrix}\n",
    "2 & 3 & 5 & 6\\\\\n",
    "0 & 0 & 2 & 1\\\\\n",
    "0 & 0 & 2 & 2\\\\\n",
    "\\end{pmatrix}.$\n",
    "Отнимем от 2 3\n",
    "$\\begin{pmatrix}\n",
    "2 & 3 & 5 & 6\\\\\n",
    "0 & 0 & 2 & 1\\\\\n",
    "0 & 0 & 0 & 1\\\\\n",
    "\\end{pmatrix}.$\n",
    "\n",
    "#### Ответ: 3"
   ],
   "metadata": {
    "collapsed": false
   }
  },
  {
   "cell_type": "code",
   "execution_count": 32,
   "outputs": [
    {
     "name": "stdout",
     "output_type": "stream",
     "text": [
      "а) 2\n",
      "б) 3\n"
     ]
    }
   ],
   "source": [
    "print('а)', np.linalg.matrix_rank(np.array([\n",
    "    [1, 2, 3],[1, 1, 1],[2, 3, 4]\n",
    "])))\n",
    "print('б)', np.linalg.matrix_rank(np.array([\n",
    "[0, 0, 2, 1],\n",
    "[0, 0, 2, 2],\n",
    "[0, 0, 4, 3],\n",
    "[2, 3, 5, 6]\n",
    "])))"
   ],
   "metadata": {
    "collapsed": false
   }
  }
 ],
 "metadata": {
  "kernelspec": {
   "display_name": "Python 3",
   "language": "python",
   "name": "python3"
  },
  "language_info": {
   "codemirror_mode": {
    "name": "ipython",
    "version": 2
   },
   "file_extension": ".py",
   "mimetype": "text/x-python",
   "name": "python",
   "nbconvert_exporter": "python",
   "pygments_lexer": "ipython2",
   "version": "2.7.6"
  }
 },
 "nbformat": 4,
 "nbformat_minor": 0
}
