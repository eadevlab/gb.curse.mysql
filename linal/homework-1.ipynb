{
 "cells": [
  {
   "cell_type": "markdown",
   "source": [
    "## Практическая работа №1 Линейная алгебра"
   ],
   "metadata": {
    "collapsed": false
   }
  },
  {
   "cell_type": "markdown",
   "source": [
    "### Часть 1"
   ],
   "metadata": {
    "collapsed": false
   }
  },
  {
   "cell_type": "markdown",
   "source": [
    "### __1.__ Исследовать на линейную зависимость:\n",
    "\n",
    "$$f_{1}(x)=e^{x}, f_{2}(x)=1, f_{3}(x)=x+1, f_{4}(x)=x-e^{x}.$$\n"
   ],
   "metadata": {
    "collapsed": false
   }
  },
  {
   "cell_type": "markdown",
   "source": [
    "В данном случае можно выразить $f_{4}(x) = f_{3}(x) - f_{2}(x) - f_{1}(x)$\n",
    "т.е. $f_{4}(x)$ - линейная комбинация веркторов $f_{3}(x),f_{2}(x),f_{1}(x)$\n",
    "значит, они линейно зависимы"
   ],
   "metadata": {
    "collapsed": false
   }
  },
  {
   "cell_type": "markdown",
   "source": [
    "### __2.__ Исследовать на линейную зависимость:\n",
    "$$f_{1}(x)=2, f_{2}(x)=x, f_{3}(x)=x^{2}, f_{4}(x)=(x+1)^{2}$$"
   ],
   "metadata": {
    "collapsed": false
   }
  },
  {
   "cell_type": "markdown",
   "source": [
    "если сделать так,\n",
    "$$f_{4}(x)=(x+1)^{2} = x^2 + 2*x + 1/2*2$$\n",
    "то можно построить линейную зависимость\n",
    "$$f_{4}(x)=f_{3}(x)+2*f_{2}(x)+1/2*f_{1}(x)$$\n",
    "значит, вектора линейно зависимы"
   ],
   "metadata": {
    "collapsed": false
   }
  },
  {
   "cell_type": "markdown",
   "source": [
    "### __3.__ Найти координаты вектора $x = (2, 3, 5)\\in \\mathbb{R}^{3}$ в базисе $b_{1}=(0, 0, 10)$, $b_{2}=(2, 0, 0)$, $b_{3}=(0, 1, 0)$.\n"
   ],
   "metadata": {
    "collapsed": false
   }
  },
  {
   "cell_type": "markdown",
   "source": [
    "$$x = (2,3,5) = \\frac{1}{2}(0,0,10) + 1*(2,0,0)+3*(0,1,0)$$\n",
    "Ответ: x =(0.5, 1, 3)"
   ],
   "metadata": {
    "collapsed": false
   }
  },
  {
   "cell_type": "markdown",
   "source": [
    "### __4.__ Найти координаты вектора $3x^{2}-2x+2\\in\\mathbb{R}^{3}[x]$:\n",
    "\n",
    "а) в базисе $1$, $x$, $x^{2}$;\n",
    "\n",
    "б) в базисе $x^{2}$, $x-1$, $1$."
   ],
   "metadata": {
    "collapsed": false
   }
  },
  {
   "cell_type": "markdown",
   "source": [
    "#### Решение\n",
    "a) Разложим вектор $3x^{2}-2x+2$ по базису $1$, $x$, $x^{2}$:\n",
    "$$2*(1)-2*(x)+3*(x^2)$$\n",
    "Ответ: (2,-2,3)\n",
    "\n",
    "б) в базисе $x^{2}$, $x-1$, $1$.\n",
    "$$3x^2-2(x-1)+0$$\n",
    "Ответ: (3,-2,0)"
   ],
   "metadata": {
    "collapsed": false
   }
  },
  {
   "cell_type": "markdown",
   "source": [
    "#### __5.__ Установить, является ли линейным подпространством:\n",
    "\n",
    "а) совокупность всех векторов трехмерного пространства, у которых по крайней мере одна из первых двух координат равна нулю;\n",
    "\n",
    "б) все векторы, являющиеся линейными комбинациями данных векторов $\\{u_{1}, u_{2}, \\ldots, u_{n}\\}$."
   ],
   "metadata": {
    "collapsed": false
   }
  },
  {
   "cell_type": "markdown",
   "source": [
    "#### Решение:\n",
    "а) Данная зависимость не считается подпространством, т.к. при сложении двух любых векторов нарушается условие что одна из первых координат равна 0\n",
    "б) данные векторы являются линейным подпространством\n"
   ],
   "metadata": {
    "collapsed": false
   }
  },
  {
   "cell_type": "markdown",
   "source": [
    "## Часть 2"
   ],
   "metadata": {
    "collapsed": false
   }
  },
  {
   "cell_type": "markdown",
   "source": [
    "__1.__ Найти скалярное произведение векторов $x, y \\in \\mathbb{R}$:<br>\n",
    "а) $x=(0,-3, 6),~y=(-4, 7, 9);$<br>\n",
    "б) $x=(7, -4, 0, 1),~y=(-3, 1, 11, 2).$"
   ],
   "metadata": {
    "collapsed": false
   }
  },
  {
   "cell_type": "markdown",
   "source": [
    "#### Решение:\n",
    "а) $(x,y) = 0*(-4)+(-3)*7+6*9 = 33$\n",
    "б) $(x,y) = 7*(-3)+(-4)*1+0*11+1*2 = -23$"
   ],
   "metadata": {
    "collapsed": false
   }
  },
  {
   "cell_type": "code",
   "execution_count": 2,
   "outputs": [
    {
     "name": "stdout",
     "output_type": "stream",
     "text": [
      "a) (x,y) =  33\n",
      "б) (x,y) =  -23\n"
     ]
    }
   ],
   "source": [
    "import numpy as np\n",
    "print('a) (x,y) = ', np.dot(np.array([0,-3,6]),np.array([-4,7,9])))\n",
    "print('б) (x,y) = ', np.dot(np.array([7,-4,0,1]),np.array([-3,1,11, 2])))\n"
   ],
   "metadata": {
    "collapsed": false
   }
  },
  {
   "cell_type": "markdown",
   "source": [
    "#### __2.__ Найти нормы векторов $(4, 2, 4)$ и $(12, 3, 4)$ и угол между ними."
   ],
   "metadata": {
    "collapsed": false
   }
  },
  {
   "cell_type": "markdown",
   "source": [
    "Норма $x = \\sqrt{(4*4+2*2+4+4)} = 6$\n",
    "Норма $y = \\sqrt{(12*12+3*3+4*4)} = 13$\n",
    "$(x,y) = 4*12+2*3+4*4 = 70$\n",
    "$\\cos(\\alpha) = \\frac{(x,y)}{norm_x*norm_y} = \\frac{70}{6*13} = 0.8974$"
   ],
   "metadata": {
    "collapsed": false
   }
  },
  {
   "cell_type": "code",
   "execution_count": 6,
   "outputs": [
    {
     "name": "stdout",
     "output_type": "stream",
     "text": [
      "Норма x:  6.0\n",
      "Норма y:  13.0\n",
      "Угол:  0.8974358974358975\n"
     ]
    }
   ],
   "source": [
    "x = np.array([4,2,4])\n",
    "y = np.array([12,3,4])\n",
    "norm_x = np.sqrt(np.dot(x,x))\n",
    "norm_y = np.sqrt(np.dot(y,y))\n",
    "cos_a = np.dot(x,y)/(norm_x*norm_y)\n",
    "print('Норма x: ', norm_x)\n",
    "print('Норма y: ', norm_y)\n",
    "print('Угол: ', cos_a)"
   ],
   "metadata": {
    "collapsed": false
   }
  },
  {
   "cell_type": "markdown",
   "source": [
    "#### __3.__ Будет ли линейное пространство евклидовым, если за скалярное произведение принять:<br>\n",
    "а) произведение длин векторов;<br>\n",
    "б) утроенное обычное скалярное произведение векторов?<br>\n"
   ],
   "metadata": {
    "collapsed": false
   }
  },
  {
   "cell_type": "markdown",
   "source": [
    "Для того чтоб линейное пространство было евклидовым должны выполнятся следующие аксиомы\n",
    "1) $(x,y) = (y,x)$\n",
    "2) $(\\alpha*x,y) = \\alpha*(x,y)$\n",
    "3) $(x_1+x_2, y) = (x_1,y)+x_2$\n",
    "4) $(x,x) >=0, (x,x) = 0$  при $x = 0$"
   ],
   "metadata": {
    "collapsed": false
   }
  },
  {
   "cell_type": "markdown",
   "source": [
    "Допустим есть 2 верктора\n",
    "x = (1,2,3)\n",
    "y = (4,5,6)\n",
    "Проверим аксиомы для варианта а\n",
    "$x_{len} = \\sqrt{1^2+2^2+3^2} = 3.74$\n",
    "$y_{len} = \\sqrt{4^2+5^2+6^2} = 8.8$\n",
    "1) выполнится\n",
    "2) не выполнится\n",
    "3) не выполнится\n",
    "4) выполнится"
   ],
   "metadata": {
    "collapsed": false
   }
  },
  {
   "cell_type": "markdown",
   "source": [],
   "metadata": {
    "collapsed": false
   }
  },
  {
   "cell_type": "markdown",
   "source": [
    "Вариант б\n",
    "Тут можно даже не проверять т.к. умножается на константу и особого влияния на подпространство это иметь не будет"
   ],
   "metadata": {
    "collapsed": false
   }
  },
  {
   "cell_type": "code",
   "execution_count": 9,
   "outputs": [
    {
     "name": "stdout",
     "output_type": "stream",
     "text": [
      "a)  False\n",
      "б)  True\n"
     ]
    }
   ],
   "source": [
    "# Проверим кодом\n",
    "\n",
    "def scalar_a(x,y):\n",
    "    \"\"\"\n",
    "    Скалярное произведение как произведение длин векторов\n",
    "    :param x:\n",
    "    :param y:\n",
    "    :return:\n",
    "    \"\"\"\n",
    "    return np.linalg.norm(x)*np.linalg.norm(y)\n",
    "\n",
    "def scalar_b(x, y):\n",
    "    \"\"\"\n",
    "    Утроенное скалярное произведение\n",
    "    :param x:\n",
    "    :param y:\n",
    "    :return:\n",
    "    \"\"\"\n",
    "    return 3*x.dot(y)\n",
    "\n",
    "def check(scalar_func):\n",
    "    \"\"\"\n",
    "    Проверка аксиом\n",
    "    :param scalar_func: функция скалярного произведения\n",
    "    :return: list\n",
    "    \"\"\"\n",
    "    x = np.array([1, 2, 3])\n",
    "    y = np.array([4, 5, 6])\n",
    "    x_1 = np.array([6, 5, 4])\n",
    "    x_2 = np.array([3, 2, 1])\n",
    "    zeros = np.array([0,0,0])\n",
    "    alpha = 2\n",
    "    axioms = [\n",
    "        scalar_func(x,y) == scalar_func(y,x),\n",
    "        scalar_func(alpha*x,y) == alpha*scalar_func(x,y),\n",
    "        scalar_func(x_1+x_2,y) == (scalar_func(x_1, y)+scalar_func(x_2,y)),\n",
    "        scalar_func(x,x) >= 0 and scalar_func(zeros, zeros) == 0\n",
    "    ]\n",
    "    return len(axioms) == sum(axioms)\n",
    "\n",
    "print('a) ', check(scalar_a))\n",
    "print('б) ', check(scalar_b))"
   ],
   "metadata": {
    "collapsed": false
   }
  },
  {
   "cell_type": "markdown",
   "source": [
    "Всё сходится :)"
   ],
   "metadata": {
    "collapsed": false
   }
  },
  {
   "cell_type": "markdown",
   "source": [
    "#### __4.__ Какие из нижеперечисленных векторов образуют ортонормированный базис в линейном пространстве $\\mathbb{R}^{3}$:<br>\n",
    "а) $(1,0,0),(0,0,1);$ <br>\n",
    "б) $(1/\\sqrt{2},-1/\\sqrt{2},0),(1/\\sqrt{2},1/\\sqrt{2},0), (0,0,1);$<br>\n",
    "в) $(1/2, -1/2, 0), (0, 1/2, 1/2), (0,0,1);$<br>\n",
    "г) $(1,0,0),(0,1,0),(0,0,1)?$\n"
   ],
   "metadata": {
    "collapsed": false
   }
  },
  {
   "cell_type": "markdown",
   "source": [
    "Для ортонормированных векторов верно 2 утверждания:\n",
    "1) Попарное скалярное произведение векторов должно быть равно 0\n",
    "2) Норма каждого вектора должна быть равна 1"
   ],
   "metadata": {
    "collapsed": false
   }
  },
  {
   "cell_type": "code",
   "execution_count": 27,
   "outputs": [
    {
     "name": "stdout",
     "output_type": "stream",
     "text": [
      "a)  True\n",
      "б)  True\n",
      "в)  False\n",
      "г)  True\n"
     ]
    }
   ],
   "source": [
    "from numpy.linalg import norm\n",
    "\n",
    "def check_onb(*vectors):\n",
    "    \"\"\"\n",
    "    Проверка ортонормированности векторов\n",
    "    :param vectors:\n",
    "    :return:\n",
    "    \"\"\"\n",
    "    i = 0\n",
    "    res = []\n",
    "    while i < len(vectors):\n",
    "        for j,v in enumerate(vectors):\n",
    "            if j!=i:\n",
    "                res.append(vectors[i].dot(v) == 0)\n",
    "        res.append(round(norm(vectors[i])) == 1)\n",
    "        i+=1\n",
    "\n",
    "    return len(res) == sum(res)\n",
    "\n",
    "val = 1/np.sqrt(2) # сократим код\n",
    "print('a) ', check_onb(\n",
    "    np.array([1,0,0]),\n",
    "    np.array([0,0,1])\n",
    "))\n",
    "print('б) ', check_onb(\n",
    "    np.array([val,-val,0]),\n",
    "    np.array([val,val,0]),\n",
    "    np.array([0,0,1]),\n",
    "))\n",
    "print('в) ', check_onb(\n",
    "    np.array([0.5,-0.5,0]),\n",
    "    np.array([0,0.5,0.5]),\n",
    "    np.array([0,0,1]),\n",
    "))\n",
    "print('г) ', check_onb(\n",
    "    np.array([1,0,0]),\n",
    "    np.array([0,1,0]),\n",
    "    np.array([0,0,1]),\n",
    "))"
   ],
   "metadata": {
    "collapsed": false
   }
  },
  {
   "cell_type": "markdown",
   "source": [
    "Случай а) хоть и подходит, но не хватает одного вектора для трёхмерного базиза.\n",
    "Случай г) вообще стандартный\n",
    "б) ортонормирован\n",
    "в) не ортонормирован"
   ],
   "metadata": {
    "collapsed": false
   }
  }
 ],
 "metadata": {
  "kernelspec": {
   "display_name": "Python 3",
   "language": "python",
   "name": "python3"
  },
  "language_info": {
   "codemirror_mode": {
    "name": "ipython",
    "version": 2
   },
   "file_extension": ".py",
   "mimetype": "text/x-python",
   "name": "python",
   "nbconvert_exporter": "python",
   "pygments_lexer": "ipython2",
   "version": "2.7.6"
  }
 },
 "nbformat": 4,
 "nbformat_minor": 0
}
