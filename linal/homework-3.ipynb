{
 "cells": [
  {
   "cell_type": "markdown",
   "source": [
    "## Практическая работа №3 Линейная алгебра"
   ],
   "metadata": {
    "collapsed": false
   }
  },
  {
   "cell_type": "code",
   "execution_count": 10,
   "outputs": [],
   "source": [
    "import numpy as np"
   ],
   "metadata": {
    "collapsed": false
   }
  },
  {
   "cell_type": "markdown",
   "source": [
    "### Заание 1\n",
    "__1.__ Найти собственные векторы и собственные значения для линейного оператора, заданного матрицей\n",
    "\n",
    "$$A=\\begin{pmatrix}\n",
    "-1 & -6\\\\\n",
    "2 & 6\n",
    "\\end{pmatrix}.$$\n"
   ],
   "metadata": {
    "collapsed": false
   }
  },
  {
   "cell_type": "markdown",
   "source": [
    "### Решение:\n",
    "$A\\vec{x} = \\lambda\\vec{x}$<br>\n",
    "$\\vec{x}$ - собственный вектор<br>\n",
    "$\\lambda$ - собственное значение<br>\n",
    "$$ \\begin{pmatrix}\n",
    "-1 & -6\\\\\n",
    "2 & 6\n",
    "\\end{pmatrix} \\begin{pmatrix}\n",
    "x_{1} \\\\\n",
    "x_{2}\n",
    "\\end{pmatrix} = \\lambda\\begin{pmatrix}\n",
    "x_{1} \\\\\n",
    "x_{2}\n",
    "\\end{pmatrix}$$\n",
    "\n",
    "$$\\begin{cases}\n",
    "-x_{1}-6x_{2}= \\lambda*x_{1}, \\\\\n",
    "2x_{1} + 6x_{2}= \\lambda*x_{2}\n",
    "\\end{cases} =\n",
    "\\begin{cases}\n",
    "x_{1}(-1-\\lambda)-6x_{2} = 0, \\\\\n",
    "2x_{1} + x_{2}(6-\\lambda)= 0\n",
    "\\end{cases}\n",
    "$$\n",
    "\n"
   ],
   "metadata": {
    "collapsed": false
   }
  },
  {
   "cell_type": "markdown",
   "source": [
    "$|\\begin{pmatrix}\n",
    "-1-\\lambda & -6\\\\\n",
    "2 & 6-\\lambda\n",
    "\\end{pmatrix}| = 0$<br>\n",
    "$(-1-\\lambda)(6-\\lambda) - 2*(-6) = 0$<br>\n",
    "$\\lambda^2 - 5\\lambda - 6 + 12 = 0$<br>\n",
    "$\\lambda^2 - 5\\lambda +6 = 0$<br>\n",
    "$D = 5^2 - 4*1*6 = 25 - 24 = 1$<br>\n",
    "$\\sqrt{D} = \\sqrt{1} = 1$\n",
    "$\\lambda_{1} = (5-1)/2 = 2$\n",
    "$\\lambda_{2} = (5+1)/2 = 3$\n",
    "Получилось 2 собственных числа 2 и 3. Найдём собственный вектор решив систему уравнений\n",
    "$\\lambda = 2$\n",
    "$$ \\vec{x_{1}} =\n",
    "\\begin{cases}\n",
    "x_{1}(-1-2)-6x_{2} = 0, \\\\\n",
    "2x_{1} + x_{2}(6-2)= 0\n",
    "\\end{cases} = \\begin{cases}\n",
    "-3x_{1}-6x_{2} = 0, \\\\\n",
    "2x_{1} + 4x_{2}= 0\n",
    "\\end{cases} = \\begin{cases}\n",
    "x_{1} = -2x_{2}, \\\\\n",
    "2(-2x_{2}) + 4x_{2}= 0\n",
    "\\end{cases}\n",
    "$$\n",
    "в результате получаем что $x_{1} = -2x_{2}$, таким образом имеем бесконечное множество векторов, подберем красивый вектор, без дробных частей\n",
    "$\\vec{x_{1}} = \\begin{pmatrix}\n",
    "2\\\\\n",
    "-1\n",
    "\\end{pmatrix}$\n",
    "$\\lambda = 3$\n",
    "$$ \\begin{cases}\n",
    "x_{1}(-1-3)-6x_{2} = 0, \\\\\n",
    "2x_{1} + x_{2}(6-3)= 0\n",
    "\\end{cases} = \\begin{cases}\n",
    "-4x_{1}-6x_{2} = 0, \\\\\n",
    "2x_{1} + 3x_{2}= 0\n",
    "\\end{cases}; x_{1} = -\\dfrac{3}{2}x_{2}\n",
    " $$\n",
    " $\\vec{x_{2}} = \\begin{pmatrix}\n",
    "3\\\\\n",
    "-2\n",
    "\\end{pmatrix}$\n",
    "\n",
    "### Ответ:\n",
    "собственные числа\n",
    "$\\lambda_{1} = 2, \\lambda_{2} = 3$\n",
    "собственные векторы\n",
    "$ \\begin{pmatrix}\n",
    "2\\\\\n",
    "-1\n",
    "\\end{pmatrix}, \\begin{pmatrix}\n",
    "3\\\\\n",
    "-2\n",
    "\\end{pmatrix}$"
   ],
   "metadata": {
    "collapsed": false
   }
  },
  {
   "cell_type": "code",
   "execution_count": 11,
   "outputs": [
    {
     "name": "stdout",
     "output_type": "stream",
     "text": [
      "Собственные числа: 2.0 3.0\n",
      "Собственные векторы: [-0.89442719  0.83205029] [ 0.4472136 -0.5547002]\n"
     ]
    }
   ],
   "source": [
    "# проверим\n",
    "A = np.array([[-1, -6],[2,6]])\n",
    "nums, vectors = np.linalg.eig(A)\n",
    "print('Собственные числа:', *nums)\n",
    "print('Собственные векторы:', *vectors)"
   ],
   "metadata": {
    "collapsed": false
   }
  },
  {
   "cell_type": "markdown",
   "source": [
    "### Задание 2\n",
    "__2.__ Дан оператор поворота на 180 градусов, задаваемый матрицей\n",
    "\n",
    "$$A=\\begin{pmatrix}\n",
    "-1 & 0\\\\\n",
    "0 & -1\n",
    "\\end{pmatrix}.$$\n",
    "\n",
    "Показать, что __любой__ вектор является для него собственным.\n"
   ],
   "metadata": {
    "collapsed": false
   }
  },
  {
   "cell_type": "markdown",
   "source": [
    "### Решение:\n",
    "$\\begin{pmatrix}\n",
    "-1 & 0\\\\\n",
    "0 & -1\n",
    "\\end{pmatrix}\\begin{pmatrix}\n",
    "x_{1}\\\\\n",
    "x_{2}\n",
    "\\end{pmatrix} = \\lambda\\begin{pmatrix}\n",
    "x_{1}\\\\\n",
    "x_{2}\n",
    "\\end{pmatrix}$<br>\n",
    "\n",
    "$\\begin{pmatrix}\n",
    "-x_{1}\\\\\n",
    "-x_{2}\n",
    "\\end{pmatrix} = \\begin{pmatrix}\n",
    "\\lambda*x_{1}\\\\\n",
    "\\lambda*x_{2}\n",
    "\\end{pmatrix}$\n",
    "\n",
    "$$ \\begin{cases}\n",
    "-x_{1} = \\lambda*x_{1}, \\\\\n",
    "-x_{2} = \\lambda*x_{2}\n",
    "\\end{cases}; \\lambda = -1\n",
    "$$\n",
    "Решение не зависит от $x_{1}$ и $x_{2}$, значит для данного оператора поворота любой вектор собственный"
   ],
   "metadata": {
    "collapsed": false
   }
  },
  {
   "cell_type": "markdown",
   "source": [
    "### Задание 3\n",
    "__3.__ Пусть линейный оператор задан матрицей\n",
    "\n",
    "$$A=\\begin{pmatrix}\n",
    "1 & 1\\\\\n",
    "-1 & 3\n",
    "\\end{pmatrix}.$$\n",
    "\n",
    "Установить, является ли вектор $x=(1,1)$ собственным вектором этого линейного оператора.\n"
   ],
   "metadata": {
    "collapsed": false
   }
  },
  {
   "cell_type": "markdown",
   "source": [
    "### Решение:\n",
    "Допустим $x = (1,1)$ является собственным вектором, тогда<br>\n",
    "$\\begin{pmatrix}\n",
    "1 & 1\\\\\n",
    "-1 & 3\n",
    "\\end{pmatrix}\\begin{pmatrix}\n",
    "1\\\\\n",
    "1\n",
    "\\end{pmatrix} = \\lambda\\begin{pmatrix}\n",
    "1\\\\\n",
    "1\n",
    "\\end{pmatrix}\n",
    "$<br>\n",
    "$ \\begin{cases}\n",
    "1 + 1 = \\lambda, \\\\\n",
    "-1 + 3 = \\lambda\n",
    "\\end{cases}; \\lambda = 2\n",
    "$<br>\n",
    "Значит, вектор $x = (1,1)$ является собственным вектором оператора А с собственным числом $\\lambda = 2$"
   ],
   "metadata": {
    "collapsed": false
   }
  },
  {
   "cell_type": "markdown",
   "source": [
    "### Задание 4\n",
    "__4.__ Пусть линейный оператор задан матрицей\n",
    "\n",
    "$$A=\\begin{pmatrix} 0 & 3 & 0\\\\ 3 & 0 & 0\\\\ 0 & 0 & 3 \\end{pmatrix}.$$\n",
    "\n",
    "Установить, является ли вектор $x=(3, -3, -4)$ собственным вектором этого линейного оператора."
   ],
   "metadata": {
    "collapsed": false
   }
  },
  {
   "cell_type": "markdown",
   "source": [
    "### Решение\n",
    "Допустим $x = (3,-3,-4)$ является собственным вектором, тогда<br>\n",
    "$\n",
    "\\begin{pmatrix} 0 & 3 & 0\\\\ 3 & 0 & 0\\\\ 0 & 0 & 3 \\end{pmatrix}\n",
    "\\begin{pmatrix} 3\\\\ -3 \\\\ -4 \\end{pmatrix} = \\lambda\\begin{pmatrix} 3\\\\ -3 \\\\ -4 \\end{pmatrix}\n",
    "$<br>\n",
    "$ \\begin{cases}\n",
    "-9 = 3\\lambda, \\\\\n",
    "9 = -3\\lambda, \\\\\n",
    "-12 = -4\\lambda\n",
    "\\end{cases}; \\begin{cases}\n",
    "\\lambda = -3, \\\\\n",
    "\\lambda = -3, \\\\\n",
    "\\lambda = 3\n",
    "\\end{cases}\n",
    "$<br>\n",
    "Не получается найти собственное число, значит $x = (3,-3,-4)$ не является собственным вектором оператора A"
   ],
   "metadata": {
    "collapsed": false
   }
  },
  {
   "cell_type": "markdown",
   "source": [],
   "metadata": {
    "collapsed": false
   }
  }
 ],
 "metadata": {
  "kernelspec": {
   "display_name": "Python 3",
   "language": "python",
   "name": "python3"
  },
  "language_info": {
   "codemirror_mode": {
    "name": "ipython",
    "version": 2
   },
   "file_extension": ".py",
   "mimetype": "text/x-python",
   "name": "python",
   "nbconvert_exporter": "python",
   "pygments_lexer": "ipython2",
   "version": "2.7.6"
  }
 },
 "nbformat": 4,
 "nbformat_minor": 0
}
