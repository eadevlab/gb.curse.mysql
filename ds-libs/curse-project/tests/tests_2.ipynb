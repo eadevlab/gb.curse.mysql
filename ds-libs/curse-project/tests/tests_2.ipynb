{
 "cells": [
  {
   "cell_type": "code",
   "execution_count": 2,
   "metadata": {
    "collapsed": true,
    "ExecuteTime": {
     "start_time": "2023-04-19T22:52:38.721384Z",
     "end_time": "2023-04-19T22:52:39.317230Z"
    }
   },
   "outputs": [],
   "source": [
    "import matplotlib.pyplot as plt\n",
    "import numpy as np\n",
    "import pandas as pd\n",
    "import polars as pl\n",
    "from sklearn.tree import DecisionTreeClassifier\n",
    "from sklearn.metrics import f1_score\n",
    "from sklearn.model_selection import train_test_split\n",
    "import seaborn as sns\n",
    "%matplotlib inline\n",
    "import warnings\n",
    "from sklearn import preprocessing\n",
    "\n",
    "warnings.filterwarnings('ignore')"
   ]
  },
  {
   "cell_type": "code",
   "execution_count": 3,
   "outputs": [],
   "source": [
    "ds = pl.read_csv('./course_project_train.csv')\n",
    "y = ds['Credit Default']\n",
    "X = ds.drop(['Credit Default'])"
   ],
   "metadata": {
    "collapsed": false,
    "ExecuteTime": {
     "start_time": "2023-04-19T22:52:39.343045Z",
     "end_time": "2023-04-19T22:52:39.410381Z"
    }
   }
  },
  {
   "cell_type": "code",
   "execution_count": 4,
   "outputs": [
    {
     "data": {
      "text/plain": "shape: (5, 16)\n┌────────────┬────────────┬────────────┬─────────┬───┬────────────┬────────────┬────────────┬────────────┐\n│ Home       ┆ Annual     ┆ Years in   ┆ Tax     ┆ … ┆ Current    ┆ Current    ┆ Monthly    ┆ Credit     │\n│ Ownership  ┆ Income     ┆ current    ┆ Liens   ┆   ┆ Loan       ┆ Credit     ┆ Debt       ┆ Score      │\n│ ---        ┆ ---        ┆ job        ┆ ---     ┆   ┆ Amount     ┆ Balance    ┆ ---        ┆ ---        │\n│ str        ┆ f64        ┆ ---        ┆ f64     ┆   ┆ ---        ┆ ---        ┆ f64        ┆ f64        │\n│            ┆            ┆ str        ┆         ┆   ┆ f64        ┆ f64        ┆            ┆            │\n╞════════════╪════════════╪════════════╪═════════╪═══╪════════════╪════════════╪════════════╪════════════╡\n│ Own Home   ┆ 482087.0   ┆ null       ┆ 0.0     ┆ … ┆ 9.9999999e ┆ 47386.0    ┆ 7914.0     ┆ 749.0      │\n│            ┆            ┆            ┆         ┆   ┆ 7          ┆            ┆            ┆            │\n│ Own Home   ┆ 1.025487e6 ┆ 10+ years  ┆ 0.0     ┆ … ┆ 264968.0   ┆ 394972.0   ┆ 18373.0    ┆ 737.0      │\n│ Home       ┆ 751412.0   ┆ 8 years    ┆ 0.0     ┆ … ┆ 9.9999999e ┆ 308389.0   ┆ 13651.0    ┆ 742.0      │\n│ Mortgage   ┆            ┆            ┆         ┆   ┆ 7          ┆            ┆            ┆            │\n│ Own Home   ┆ 805068.0   ┆ 6 years    ┆ 0.0     ┆ … ┆ 121396.0   ┆ 95855.0    ┆ 11338.0    ┆ 694.0      │\n│ Rent       ┆ 776264.0   ┆ 8 years    ┆ 0.0     ┆ … ┆ 125840.0   ┆ 93309.0    ┆ 7180.0     ┆ 719.0      │\n└────────────┴────────────┴────────────┴─────────┴───┴────────────┴────────────┴────────────┴────────────┘",
      "text/html": "<div><style>\n.dataframe > thead > tr > th,\n.dataframe > tbody > tr > td {\n  text-align: right;\n}\n</style>\n<small>shape: (5, 16)</small><table border=\"1\" class=\"dataframe\"><thead><tr><th>Home Ownership</th><th>Annual Income</th><th>Years in current job</th><th>Tax Liens</th><th>Number of Open Accounts</th><th>Years of Credit History</th><th>Maximum Open Credit</th><th>Number of Credit Problems</th><th>Months since last delinquent</th><th>Bankruptcies</th><th>Purpose</th><th>Term</th><th>Current Loan Amount</th><th>Current Credit Balance</th><th>Monthly Debt</th><th>Credit Score</th></tr><tr><td>str</td><td>f64</td><td>str</td><td>f64</td><td>f64</td><td>f64</td><td>f64</td><td>f64</td><td>f64</td><td>f64</td><td>str</td><td>str</td><td>f64</td><td>f64</td><td>f64</td><td>f64</td></tr></thead><tbody><tr><td>&quot;Own Home&quot;</td><td>482087.0</td><td>null</td><td>0.0</td><td>11.0</td><td>26.3</td><td>685960.0</td><td>1.0</td><td>null</td><td>1.0</td><td>&quot;debt consolida…</td><td>&quot;Short Term&quot;</td><td>9.9999999e7</td><td>47386.0</td><td>7914.0</td><td>749.0</td></tr><tr><td>&quot;Own Home&quot;</td><td>1.025487e6</td><td>&quot;10+ years&quot;</td><td>0.0</td><td>15.0</td><td>15.3</td><td>1.18173e6</td><td>0.0</td><td>null</td><td>0.0</td><td>&quot;debt consolida…</td><td>&quot;Long Term&quot;</td><td>264968.0</td><td>394972.0</td><td>18373.0</td><td>737.0</td></tr><tr><td>&quot;Home Mortgage&quot;</td><td>751412.0</td><td>&quot;8 years&quot;</td><td>0.0</td><td>11.0</td><td>35.0</td><td>1.182434e6</td><td>0.0</td><td>null</td><td>0.0</td><td>&quot;debt consolida…</td><td>&quot;Short Term&quot;</td><td>9.9999999e7</td><td>308389.0</td><td>13651.0</td><td>742.0</td></tr><tr><td>&quot;Own Home&quot;</td><td>805068.0</td><td>&quot;6 years&quot;</td><td>0.0</td><td>8.0</td><td>22.5</td><td>147400.0</td><td>1.0</td><td>null</td><td>1.0</td><td>&quot;debt consolida…</td><td>&quot;Short Term&quot;</td><td>121396.0</td><td>95855.0</td><td>11338.0</td><td>694.0</td></tr><tr><td>&quot;Rent&quot;</td><td>776264.0</td><td>&quot;8 years&quot;</td><td>0.0</td><td>13.0</td><td>13.6</td><td>385836.0</td><td>1.0</td><td>null</td><td>0.0</td><td>&quot;debt consolida…</td><td>&quot;Short Term&quot;</td><td>125840.0</td><td>93309.0</td><td>7180.0</td><td>719.0</td></tr></tbody></table></div>"
     },
     "execution_count": 4,
     "metadata": {},
     "output_type": "execute_result"
    }
   ],
   "source": [
    "X.head()"
   ],
   "metadata": {
    "collapsed": false,
    "ExecuteTime": {
     "start_time": "2023-04-19T22:52:39.360962Z",
     "end_time": "2023-04-19T22:52:39.452242Z"
    }
   }
  },
  {
   "cell_type": "code",
   "execution_count": 5,
   "outputs": [
    {
     "data": {
      "text/plain": "shape: (9, 17)\n┌───┬────────────┬────────────┬────────────┬───┬────────────┬────────────┬────────────┬────────────┐\n│ d ┆ Home       ┆ Annual     ┆ Years in   ┆ … ┆ Current    ┆ Current    ┆ Monthly    ┆ Credit     │\n│ e ┆ Ownership  ┆ Income     ┆ current    ┆   ┆ Loan       ┆ Credit     ┆ Debt       ┆ Score      │\n│ s ┆ ---        ┆ ---        ┆ job        ┆   ┆ Amount     ┆ Balance    ┆ ---        ┆ ---        │\n│ c ┆ str        ┆ f64        ┆ ---        ┆   ┆ ---        ┆ ---        ┆ f64        ┆ f64        │\n│ r ┆            ┆            ┆ str        ┆   ┆ f64        ┆ f64        ┆            ┆            │\n│ i ┆            ┆            ┆            ┆   ┆            ┆            ┆            ┆            │\n│ b ┆            ┆            ┆            ┆   ┆            ┆            ┆            ┆            │\n│ e ┆            ┆            ┆            ┆   ┆            ┆            ┆            ┆            │\n│ - ┆            ┆            ┆            ┆   ┆            ┆            ┆            ┆            │\n│ - ┆            ┆            ┆            ┆   ┆            ┆            ┆            ┆            │\n│ - ┆            ┆            ┆            ┆   ┆            ┆            ┆            ┆            │\n│ s ┆            ┆            ┆            ┆   ┆            ┆            ┆            ┆            │\n│ t ┆            ┆            ┆            ┆   ┆            ┆            ┆            ┆            │\n│ r ┆            ┆            ┆            ┆   ┆            ┆            ┆            ┆            │\n╞═══╪════════════╪════════════╪════════════╪═══╪════════════╪════════════╪════════════╪════════════╡\n│ c ┆ 7500       ┆ 7500.0     ┆ 7500       ┆ … ┆ 7500.0     ┆ 7500.0     ┆ 7500.0     ┆ 7500.0     │\n│ o ┆            ┆            ┆            ┆   ┆            ┆            ┆            ┆            │\n│ u ┆            ┆            ┆            ┆   ┆            ┆            ┆            ┆            │\n│ n ┆            ┆            ┆            ┆   ┆            ┆            ┆            ┆            │\n│ t ┆            ┆            ┆            ┆   ┆            ┆            ┆            ┆            │\n│ n ┆ 0          ┆ 1557.0     ┆ 371        ┆ … ┆ 0.0        ┆ 0.0        ┆ 0.0        ┆ 1557.0     │\n│ u ┆            ┆            ┆            ┆   ┆            ┆            ┆            ┆            │\n│ l ┆            ┆            ┆            ┆   ┆            ┆            ┆            ┆            │\n│ l ┆            ┆            ┆            ┆   ┆            ┆            ┆            ┆            │\n│ _ ┆            ┆            ┆            ┆   ┆            ┆            ┆            ┆            │\n│ c ┆            ┆            ┆            ┆   ┆            ┆            ┆            ┆            │\n│ o ┆            ┆            ┆            ┆   ┆            ┆            ┆            ┆            │\n│ u ┆            ┆            ┆            ┆   ┆            ┆            ┆            ┆            │\n│ n ┆            ┆            ┆            ┆   ┆            ┆            ┆            ┆            │\n│ t ┆            ┆            ┆            ┆   ┆            ┆            ┆            ┆            │\n│ m ┆ null       ┆ 1.3664e6   ┆ null       ┆ … ┆ 1.1873e7   ┆ 289833.235 ┆ 18314.4541 ┆ 1151.08749 │\n│ e ┆            ┆            ┆            ┆   ┆            ┆ 2          ┆ 33         ┆ 8          │\n│ a ┆            ┆            ┆            ┆   ┆            ┆            ┆            ┆            │\n│ n ┆            ┆            ┆            ┆   ┆            ┆            ┆            ┆            │\n│ s ┆ null       ┆ 845339.199 ┆ null       ┆ … ┆ 3.1926e7   ┆ 317871.382 ┆ 11926.7646 ┆ 1604.45141 │\n│ t ┆            ┆ 634        ┆            ┆   ┆            ┆ 38         ┆ 73         ┆ 8          │\n│ d ┆            ┆            ┆            ┆   ┆            ┆            ┆            ┆            │\n│ m ┆ Have       ┆ 164597.0   ┆ 1 year     ┆ … ┆ 11242.0    ┆ 0.0        ┆ 0.0        ┆ 585.0      │\n│ i ┆ Mortgage   ┆            ┆            ┆   ┆            ┆            ┆            ┆            │\n│ n ┆            ┆            ┆            ┆   ┆            ┆            ┆            ┆            │\n│ m ┆ Rent       ┆ 1.0149344e ┆ < 1 year   ┆ … ┆ 9.9999999e ┆ 6.506797e6 ┆ 136679.0   ┆ 7510.0     │\n│ a ┆            ┆ 7          ┆            ┆   ┆ 7          ┆            ┆            ┆            │\n│ x ┆            ┆            ┆            ┆   ┆            ┆            ┆            ┆            │\n│ m ┆ null       ┆ 1.168386e6 ┆ null       ┆ … ┆ 309573.0   ┆ 209323.0   ┆ 16076.5    ┆ 731.0      │\n│ e ┆            ┆            ┆            ┆   ┆            ┆            ┆            ┆            │\n│ d ┆            ┆            ┆            ┆   ┆            ┆            ┆            ┆            │\n│ i ┆            ┆            ┆            ┆   ┆            ┆            ┆            ┆            │\n│ a ┆            ┆            ┆            ┆   ┆            ┆            ┆            ┆            │\n│ n ┆            ┆            ┆            ┆   ┆            ┆            ┆            ┆            │\n│ 2 ┆ null       ┆ 844284.0   ┆ null       ┆ … ┆ 180180.0   ┆ 114266.0   ┆ 10068.0    ┆ 711.0      │\n│ 5 ┆            ┆            ┆            ┆   ┆            ┆            ┆            ┆            │\n│ % ┆            ┆            ┆            ┆   ┆            ┆            ┆            ┆            │\n│ 7 ┆ null       ┆ 1.640232e6 ┆ null       ┆ … ┆ 520410.0   ┆ 360449.0   ┆ 23836.0    ┆ 743.0      │\n│ 5 ┆            ┆            ┆            ┆   ┆            ┆            ┆            ┆            │\n│ % ┆            ┆            ┆            ┆   ┆            ┆            ┆            ┆            │\n└───┴────────────┴────────────┴────────────┴───┴────────────┴────────────┴────────────┴────────────┘",
      "text/html": "<div><style>\n.dataframe > thead > tr > th,\n.dataframe > tbody > tr > td {\n  text-align: right;\n}\n</style>\n<small>shape: (9, 17)</small><table border=\"1\" class=\"dataframe\"><thead><tr><th>describe</th><th>Home Ownership</th><th>Annual Income</th><th>Years in current job</th><th>Tax Liens</th><th>Number of Open Accounts</th><th>Years of Credit History</th><th>Maximum Open Credit</th><th>Number of Credit Problems</th><th>Months since last delinquent</th><th>Bankruptcies</th><th>Purpose</th><th>Term</th><th>Current Loan Amount</th><th>Current Credit Balance</th><th>Monthly Debt</th><th>Credit Score</th></tr><tr><td>str</td><td>str</td><td>f64</td><td>str</td><td>f64</td><td>f64</td><td>f64</td><td>f64</td><td>f64</td><td>f64</td><td>f64</td><td>str</td><td>str</td><td>f64</td><td>f64</td><td>f64</td><td>f64</td></tr></thead><tbody><tr><td>&quot;count&quot;</td><td>&quot;7500&quot;</td><td>7500.0</td><td>&quot;7500&quot;</td><td>7500.0</td><td>7500.0</td><td>7500.0</td><td>7500.0</td><td>7500.0</td><td>7500.0</td><td>7500.0</td><td>&quot;7500&quot;</td><td>&quot;7500&quot;</td><td>7500.0</td><td>7500.0</td><td>7500.0</td><td>7500.0</td></tr><tr><td>&quot;null_count&quot;</td><td>&quot;0&quot;</td><td>1557.0</td><td>&quot;371&quot;</td><td>0.0</td><td>0.0</td><td>0.0</td><td>0.0</td><td>0.0</td><td>4081.0</td><td>14.0</td><td>&quot;0&quot;</td><td>&quot;0&quot;</td><td>0.0</td><td>0.0</td><td>0.0</td><td>1557.0</td></tr><tr><td>&quot;mean&quot;</td><td>null</td><td>1.3664e6</td><td>null</td><td>0.030133</td><td>11.130933</td><td>18.317467</td><td>945153.727467</td><td>0.17</td><td>34.6926</td><td>0.117152</td><td>null</td><td>null</td><td>1.1873e7</td><td>289833.2352</td><td>18314.454133</td><td>1151.087498</td></tr><tr><td>&quot;std&quot;</td><td>null</td><td>845339.199634</td><td>null</td><td>0.271604</td><td>4.908924</td><td>7.041946</td><td>1.6026e7</td><td>0.498598</td><td>21.688806</td><td>0.347192</td><td>null</td><td>null</td><td>3.1926e7</td><td>317871.38238</td><td>11926.764673</td><td>1604.451418</td></tr><tr><td>&quot;min&quot;</td><td>&quot;Have Mortgage&quot;</td><td>164597.0</td><td>&quot;1 year&quot;</td><td>0.0</td><td>2.0</td><td>4.0</td><td>0.0</td><td>0.0</td><td>0.0</td><td>0.0</td><td>&quot;business loan&quot;</td><td>&quot;Long Term&quot;</td><td>11242.0</td><td>0.0</td><td>0.0</td><td>585.0</td></tr><tr><td>&quot;max&quot;</td><td>&quot;Rent&quot;</td><td>1.0149344e7</td><td>&quot;&lt; 1 year&quot;</td><td>7.0</td><td>43.0</td><td>57.7</td><td>1.3047e9</td><td>7.0</td><td>118.0</td><td>4.0</td><td>&quot;wedding&quot;</td><td>&quot;Short Term&quot;</td><td>9.9999999e7</td><td>6.506797e6</td><td>136679.0</td><td>7510.0</td></tr><tr><td>&quot;median&quot;</td><td>null</td><td>1.168386e6</td><td>null</td><td>0.0</td><td>10.0</td><td>17.0</td><td>478159.0</td><td>0.0</td><td>32.0</td><td>0.0</td><td>null</td><td>null</td><td>309573.0</td><td>209323.0</td><td>16076.5</td><td>731.0</td></tr><tr><td>&quot;25%&quot;</td><td>null</td><td>844284.0</td><td>null</td><td>0.0</td><td>8.0</td><td>13.5</td><td>279246.0</td><td>0.0</td><td>16.0</td><td>0.0</td><td>null</td><td>null</td><td>180180.0</td><td>114266.0</td><td>10068.0</td><td>711.0</td></tr><tr><td>&quot;75%&quot;</td><td>null</td><td>1.640232e6</td><td>null</td><td>0.0</td><td>14.0</td><td>21.8</td><td>793716.0</td><td>0.0</td><td>50.0</td><td>0.0</td><td>null</td><td>null</td><td>520410.0</td><td>360449.0</td><td>23836.0</td><td>743.0</td></tr></tbody></table></div>"
     },
     "execution_count": 5,
     "metadata": {},
     "output_type": "execute_result"
    }
   ],
   "source": [
    "# Проверка типов полей\n",
    "X.describe()"
   ],
   "metadata": {
    "collapsed": false,
    "ExecuteTime": {
     "start_time": "2023-04-19T22:52:39.404226Z",
     "end_time": "2023-04-19T22:52:39.620749Z"
    }
   }
  },
  {
   "cell_type": "code",
   "execution_count": 6,
   "outputs": [],
   "source": [
    "X = X.with_columns(pl.col(\"Tax Liens\").cast(pl.Int32))\n",
    "X = X.with_columns(pl.col(\"Months since last delinquent\").cast(pl.Int32))"
   ],
   "metadata": {
    "collapsed": false,
    "ExecuteTime": {
     "start_time": "2023-04-19T22:52:39.449654Z",
     "end_time": "2023-04-19T22:52:39.621802Z"
    }
   }
  },
  {
   "cell_type": "code",
   "execution_count": 7,
   "outputs": [
    {
     "data": {
      "text/plain": "{'Home Ownership': Utf8,\n 'Annual Income': Float64,\n 'Years in current job': Utf8,\n 'Tax Liens': Int32,\n 'Number of Open Accounts': Float64,\n 'Years of Credit History': Float64,\n 'Maximum Open Credit': Float64,\n 'Number of Credit Problems': Float64,\n 'Months since last delinquent': Int32,\n 'Bankruptcies': Float64,\n 'Purpose': Utf8,\n 'Term': Utf8,\n 'Current Loan Amount': Float64,\n 'Current Credit Balance': Float64,\n 'Monthly Debt': Float64,\n 'Credit Score': Float64}"
     },
     "execution_count": 7,
     "metadata": {},
     "output_type": "execute_result"
    }
   ],
   "source": [
    "X.schema"
   ],
   "metadata": {
    "collapsed": false,
    "ExecuteTime": {
     "start_time": "2023-04-19T22:52:39.451516Z",
     "end_time": "2023-04-19T22:52:39.640890Z"
    }
   }
  },
  {
   "cell_type": "code",
   "execution_count": 8,
   "outputs": [
    {
     "data": {
      "text/plain": "['Annual Income',\n 'Number of Open Accounts',\n 'Years of Credit History',\n 'Maximum Open Credit',\n 'Number of Credit Problems',\n 'Bankruptcies',\n 'Current Loan Amount',\n 'Current Credit Balance',\n 'Monthly Debt',\n 'Credit Score']"
     },
     "execution_count": 8,
     "metadata": {},
     "output_type": "execute_result"
    }
   ],
   "source": [
    "float_columns = X.select([pl.col(pl.Float64)]).columns\n",
    "float_columns"
   ],
   "metadata": {
    "collapsed": false,
    "ExecuteTime": {
     "start_time": "2023-04-19T22:52:39.528933Z",
     "end_time": "2023-04-19T22:52:39.642882Z"
    }
   }
  },
  {
   "cell_type": "markdown",
   "source": [
    "Проверим на вылеты"
   ],
   "metadata": {
    "collapsed": false
   }
  },
  {
   "cell_type": "code",
   "execution_count": 9,
   "outputs": [],
   "source": [
    "# sns.set()\n",
    "# # plt.figure(figsize = (16,9))\n",
    "# for float_column in float_columns:\n",
    "#     sns.boxplot( data = X[float_column]).set(xlabel=float_column)\n",
    "#     plt.show()"
   ],
   "metadata": {
    "collapsed": false,
    "ExecuteTime": {
     "start_time": "2023-04-19T22:52:39.530260Z",
     "end_time": "2023-04-19T22:52:39.685019Z"
    }
   }
  },
  {
   "cell_type": "code",
   "execution_count": 32,
   "outputs": [
    {
     "data": {
      "text/plain": "shape: (1, 17)\n┌────────────┬────────────┬────────────┬───────────┬───┬────────────┬────────────┬────────────┬─────────┐\n│ Home       ┆ Annual     ┆ Years in   ┆ Tax Liens ┆ … ┆ Current    ┆ Monthly    ┆ Credit     ┆ literal │\n│ Ownership  ┆ Income     ┆ current    ┆ ---       ┆   ┆ Credit     ┆ Debt       ┆ Score      ┆ ---     │\n│ ---        ┆ ---        ┆ job        ┆ u32       ┆   ┆ Balance    ┆ ---        ┆ ---        ┆ u32     │\n│ u32        ┆ u32        ┆ ---        ┆           ┆   ┆ ---        ┆ u32        ┆ u32        ┆         │\n│            ┆            ┆ u32        ┆           ┆   ┆ u32        ┆            ┆            ┆         │\n╞════════════╪════════════╪════════════╪═══════════╪═══╪════════════╪════════════╪════════════╪═════════╡\n│ 0          ┆ 0          ┆ 0          ┆ 0         ┆ … ┆ 0          ┆ 0          ┆ 0          ┆ 7244    │\n└────────────┴────────────┴────────────┴───────────┴───┴────────────┴────────────┴────────────┴─────────┘",
      "text/html": "<div><style>\n.dataframe > thead > tr > th,\n.dataframe > tbody > tr > td {\n  text-align: right;\n}\n</style>\n<small>shape: (1, 17)</small><table border=\"1\" class=\"dataframe\"><thead><tr><th>Home Ownership</th><th>Annual Income</th><th>Years in current job</th><th>Tax Liens</th><th>Number of Open Accounts</th><th>Years of Credit History</th><th>Maximum Open Credit</th><th>Number of Credit Problems</th><th>Months since last delinquent</th><th>Bankruptcies</th><th>Purpose</th><th>Term</th><th>Current Loan Amount</th><th>Current Credit Balance</th><th>Monthly Debt</th><th>Credit Score</th><th>literal</th></tr><tr><td>u32</td><td>u32</td><td>u32</td><td>u32</td><td>u32</td><td>u32</td><td>u32</td><td>u32</td><td>u32</td><td>u32</td><td>u32</td><td>u32</td><td>u32</td><td>u32</td><td>u32</td><td>u32</td><td>u32</td></tr></thead><tbody><tr><td>0</td><td>0</td><td>0</td><td>0</td><td>0</td><td>0</td><td>0</td><td>0</td><td>0</td><td>0</td><td>0</td><td>0</td><td>0</td><td>0</td><td>0</td><td>0</td><td>7244</td></tr></tbody></table></div>"
     },
     "execution_count": 32,
     "metadata": {},
     "output_type": "execute_result"
    }
   ],
   "source": [
    "X.null_count()"
   ],
   "metadata": {
    "collapsed": false,
    "ExecuteTime": {
     "start_time": "2023-04-19T23:11:34.227658Z",
     "end_time": "2023-04-19T23:11:34.275029Z"
    }
   }
  },
  {
   "cell_type": "code",
   "execution_count": 31,
   "outputs": [],
   "source": [
    "X = X.with_columns(\n",
    "    pl.col('Annual Income').fill_null(pl.mean('Annual Income')),\n",
    "    pl.col('Years in current job').fill_null(0),\n",
    "    pl.col('Months since last delinquent').fill_null(0),\n",
    "    pl.col('Bankruptcies').fill_null(0),\n",
    "    pl.col('Credit Score').fill_null(0)\n",
    ")"
   ],
   "metadata": {
    "collapsed": false,
    "ExecuteTime": {
     "start_time": "2023-04-19T23:11:32.438054Z",
     "end_time": "2023-04-19T23:11:32.464921Z"
    }
   }
  },
  {
   "cell_type": "code",
   "execution_count": 23,
   "outputs": [],
   "source": [
    "for float_column in float_columns:\n",
    "    q1 = np.percentile(X[float_column], 25, interpolation='midpoint')\n",
    "    q3 = np.percentile(X[float_column], 75, interpolation='midpoint')\n",
    "    iqr = q3 - q1\n",
    "    upper = q3 + 1.5 * q1\n",
    "    X = X.with_columns(\n",
    "        pl.when(pl.any(pl.col(float_column) > upper))\n",
    "        .then(upper)\n",
    "        .otherwise(pl.col(float_column)).alias(float_column)\n",
    "    )\n"
   ],
   "metadata": {
    "collapsed": false,
    "ExecuteTime": {
     "start_time": "2023-04-19T23:08:16.660808Z",
     "end_time": "2023-04-19T23:08:16.730356Z"
    }
   }
  },
  {
   "cell_type": "code",
   "execution_count": 38,
   "outputs": [
    {
     "data": {
      "text/plain": "shape: (5, 10)\n┌────────────┬────────────┬────────────┬────────────┬───┬────────────┬────────────┬────────────┬────────────┐\n│ Annual     ┆ Number of  ┆ Years of   ┆ Maximum    ┆ … ┆ Current    ┆ Current    ┆ Monthly    ┆ Credit     │\n│ Income     ┆ Open       ┆ Credit     ┆ Open       ┆   ┆ Loan       ┆ Credit     ┆ Debt       ┆ Score      │\n│ ---        ┆ Accounts   ┆ History    ┆ Credit     ┆   ┆ Amount     ┆ Balance    ┆ ---        ┆ ---        │\n│ f64        ┆ ---        ┆ ---        ┆ ---        ┆   ┆ ---        ┆ ---        ┆ f64        ┆ f64        │\n│            ┆ f64        ┆ f64        ┆ f64        ┆   ┆ f64        ┆ f64        ┆            ┆            │\n╞════════════╪════════════╪════════════╪════════════╪═══╪════════════╪════════════╪════════════╪════════════╡\n│ -1.492958  ┆ -0.018313  ┆ 1.155682   ┆ 0.363231   ┆ … ┆ 1.845862   ┆ -1.222161  ┆ -0.981883  ┆ -0.108568  │\n│ -0.530004  ┆ 0.825615   ┆ -0.431231  ┆ 1.787092   ┆ … ┆ -0.433364  ┆ 0.919203   ┆ 0.071706   ┆ -0.116555  │\n│ -1.01569   ┆ -0.018313  ┆ 2.410786   ┆ 1.789114   ┆ … ┆ 1.845862   ┆ 0.385793   ┆ -0.403965  ┆ -0.113227  │\n│ -0.920606  ┆ -0.651259  ┆ 0.607476   ┆ -1.183523  ┆ … ┆ -1.056277  ┆ -0.923559  ┆ -0.636966  ┆ -0.145174  │\n│ -0.971649  ┆ 0.403651   ┆ -0.676481  ┆ -0.498731  ┆ … ┆ -1.036996  ┆ -0.939244  ┆ -1.055823  ┆ -0.128535  │\n└────────────┴────────────┴────────────┴────────────┴───┴────────────┴────────────┴────────────┴────────────┘",
      "text/html": "<div><style>\n.dataframe > thead > tr > th,\n.dataframe > tbody > tr > td {\n  text-align: right;\n}\n</style>\n<small>shape: (5, 10)</small><table border=\"1\" class=\"dataframe\"><thead><tr><th>Annual Income</th><th>Number of Open Accounts</th><th>Years of Credit History</th><th>Maximum Open Credit</th><th>Number of Credit Problems</th><th>Bankruptcies</th><th>Current Loan Amount</th><th>Current Credit Balance</th><th>Monthly Debt</th><th>Credit Score</th></tr><tr><td>f64</td><td>f64</td><td>f64</td><td>f64</td><td>f64</td><td>f64</td><td>f64</td><td>f64</td><td>f64</td><td>f64</td></tr></thead><tbody><tr><td>-1.492958</td><td>-0.018313</td><td>1.155682</td><td>0.363231</td><td>0.0</td><td>2.545732</td><td>1.845862</td><td>-1.222161</td><td>-0.981883</td><td>-0.108568</td></tr><tr><td>-0.530004</td><td>0.825615</td><td>-0.431231</td><td>1.787092</td><td>0.0</td><td>-0.337099</td><td>-0.433364</td><td>0.919203</td><td>0.071706</td><td>-0.116555</td></tr><tr><td>-1.01569</td><td>-0.018313</td><td>2.410786</td><td>1.789114</td><td>0.0</td><td>-0.337099</td><td>1.845862</td><td>0.385793</td><td>-0.403965</td><td>-0.113227</td></tr><tr><td>-0.920606</td><td>-0.651259</td><td>0.607476</td><td>-1.183523</td><td>0.0</td><td>2.545732</td><td>-1.056277</td><td>-0.923559</td><td>-0.636966</td><td>-0.145174</td></tr><tr><td>-0.971649</td><td>0.403651</td><td>-0.676481</td><td>-0.498731</td><td>0.0</td><td>-0.337099</td><td>-1.036996</td><td>-0.939244</td><td>-1.055823</td><td>-0.128535</td></tr></tbody></table></div>"
     },
     "execution_count": 38,
     "metadata": {},
     "output_type": "execute_result"
    }
   ],
   "source": [
    "scaler = preprocessing.StandardScaler()\n",
    "\n",
    "X_norm_float = pl.DataFrame(scaler.fit_transform(X[float_columns]))\n",
    "X_norm_float.columns = float_columns\n",
    "X_norm_float.head()"
   ],
   "metadata": {
    "collapsed": false,
    "ExecuteTime": {
     "start_time": "2023-04-19T23:16:10.922053Z",
     "end_time": "2023-04-19T23:16:10.972578Z"
    }
   }
  },
  {
   "cell_type": "code",
   "execution_count": 41,
   "outputs": [
    {
     "ename": "ShapeError",
     "evalue": "unable to append to a dataframe of width 17 with a dataframe of width 10",
     "output_type": "error",
     "traceback": [
      "\u001B[0;31m---------------------------------------------------------------------------\u001B[0m",
      "\u001B[0;31mShapeError\u001B[0m                                Traceback (most recent call last)",
      "Input \u001B[0;32mIn [41]\u001B[0m, in \u001B[0;36m<cell line: 1>\u001B[0;34m()\u001B[0m\n\u001B[0;32m----> 1\u001B[0m \u001B[43mpl\u001B[49m\u001B[38;5;241;43m.\u001B[39;49m\u001B[43mconcat\u001B[49m\u001B[43m(\u001B[49m\u001B[43m[\u001B[49m\u001B[43mX\u001B[49m\u001B[43m,\u001B[49m\u001B[43m \u001B[49m\u001B[43mX_norm_float\u001B[49m\u001B[43m]\u001B[49m\u001B[43m)\u001B[49m\n",
      "File \u001B[0;32m~/study/gb-ds-bc/venv/lib/python3.8/site-packages/polars/functions/eager.py:263\u001B[0m, in \u001B[0;36mconcat\u001B[0;34m(items, how, rechunk, parallel)\u001B[0m\n\u001B[1;32m    261\u001B[0m \u001B[38;5;28;01mif\u001B[39;00m \u001B[38;5;28misinstance\u001B[39m(first, pli\u001B[38;5;241m.\u001B[39mDataFrame):\n\u001B[1;32m    262\u001B[0m     \u001B[38;5;28;01mif\u001B[39;00m how \u001B[38;5;241m==\u001B[39m \u001B[38;5;124m\"\u001B[39m\u001B[38;5;124mvertical\u001B[39m\u001B[38;5;124m\"\u001B[39m:\n\u001B[0;32m--> 263\u001B[0m         out \u001B[38;5;241m=\u001B[39m wrap_df(\u001B[43m_concat_df\u001B[49m\u001B[43m(\u001B[49m\u001B[43melems\u001B[49m\u001B[43m)\u001B[49m)\n\u001B[1;32m    264\u001B[0m     \u001B[38;5;28;01melif\u001B[39;00m how \u001B[38;5;241m==\u001B[39m \u001B[38;5;124m\"\u001B[39m\u001B[38;5;124mdiagonal\u001B[39m\u001B[38;5;124m\"\u001B[39m:\n\u001B[1;32m    265\u001B[0m         out \u001B[38;5;241m=\u001B[39m wrap_df(_diag_concat_df(elems))\n",
      "\u001B[0;31mShapeError\u001B[0m: unable to append to a dataframe of width 17 with a dataframe of width 10"
     ]
    }
   ],
   "source": [
    "pl.concat([X, X_norm_float])"
   ],
   "metadata": {
    "collapsed": false
   }
  }
 ],
 "metadata": {
  "kernelspec": {
   "display_name": "Python 3",
   "language": "python",
   "name": "python3"
  },
  "language_info": {
   "codemirror_mode": {
    "name": "ipython",
    "version": 2
   },
   "file_extension": ".py",
   "mimetype": "text/x-python",
   "name": "python",
   "nbconvert_exporter": "python",
   "pygments_lexer": "ipython2",
   "version": "2.7.6"
  }
 },
 "nbformat": 4,
 "nbformat_minor": 0
}
