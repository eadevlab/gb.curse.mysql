{
 "cells": [
  {
   "cell_type": "markdown",
   "source": [
    "## Курсовая работа"
   ],
   "metadata": {
    "collapsed": false
   }
  },
  {
   "cell_type": "markdown",
   "source": [
    "#### Загрузка данных\n",
    "\n",
    "##### Описание датасета\n",
    "\n",
    "- __Id__ - идентификационный номер квартиры\n",
    "- __DistrictId__ - идентификационный номер района\n",
    "- __Rooms__ - количество комнат\n",
    "- __Square__ - площадь\n",
    "- __LifeSquare__ - жилая площадь\n",
    "- __KitchenSquare__ - площадь кухни\n",
    "- __Floor__ - этаж\n",
    "- __HouseFloor__ - количество этажей в доме\n",
    "- __HouseYear__ - год постройки дома\n",
    "- __Ecology_N__ - экологические показатели местности\n",
    "- __Social_N__ - социальные показатели местности\n",
    "- __Healthcare_N__ - показатели местности, связанные с охраной здоровья\n",
    "- __Shops_N__ - показатели, связанные с наличием магазинов, торговых центров\n",
    "- __Price__ - цена квартиры\n"
   ],
   "metadata": {
    "collapsed": false
   }
  },
  {
   "cell_type": "code",
   "execution_count": 1,
   "outputs": [
    {
     "name": "stdout",
     "output_type": "stream",
     "text": [
      "/kaggle/input/real-estate-price-prediction-moscow/sample_submission.csv\n",
      "/kaggle/input/real-estate-price-prediction-moscow/train.csv\n",
      "/kaggle/input/real-estate-price-prediction-moscow/test.csv\n"
     ]
    }
   ],
   "source": [
    "# This Python 3 environment comes with many helpful analytics libraries installed\n",
    "# It is defined by the kaggle/python Docker image: https://github.com/kaggle/docker-python\n",
    "# For example, here's several helpful packages to load\n",
    "\n",
    "import numpy as np # linear algebra\n",
    "import pandas as pd # data processing, CSV file I/O (e.g. pd.read_csv)\n",
    "\n",
    "# Input data files are available in the read-only \"../input/\" directory\n",
    "# For example, running this (by clicking run or pressing Shift+Enter) will list all files under the input directory\n",
    "\n",
    "import os\n",
    "for dirname, _, filenames in os.walk('/kaggle/input'):\n",
    "    for filename in filenames:\n",
    "        print(os.path.join(dirname, filename))\n",
    "\n",
    "# You can write up to 20GB to the current directory (/kaggle/working/) that gets preserved as output when you create a version using \"Save & Run All\"\n",
    "# You can also write temporary files to /kaggle/temp/, but they won't be saved outside of the current session"
   ],
   "metadata": {
    "collapsed": false
   }
  },
  {
   "cell_type": "code",
   "execution_count": 2,
   "id": "582d5846",
   "metadata": {
    "execution": {
     "iopub.execute_input": "2022-12-13T15:25:33.107211Z",
     "iopub.status.busy": "2022-12-13T15:25:33.106756Z",
     "iopub.status.idle": "2022-12-13T15:25:34.820334Z",
     "shell.execute_reply": "2022-12-13T15:25:34.818840Z"
    },
    "papermill": {
     "duration": 1.727993,
     "end_time": "2022-12-13T15:25:34.823168",
     "exception": false,
     "start_time": "2022-12-13T15:25:33.095175",
     "status": "completed"
    },
    "tags": []
   },
   "outputs": [],
   "source": [
    "import numpy as np\n",
    "import pandas as pd\n",
    "import matplotlib\n",
    "import matplotlib.pyplot as plt\n",
    "import seaborn as sns\n",
    "%matplotlib inline\n",
    "import warnings\n",
    "from sklearn import preprocessing\n",
    "import datetime\n",
    "from sklearn.decomposition import PCA\n",
    "from sklearn.ensemble import RandomForestRegressor\n",
    "\n",
    "\n",
    "warnings.filterwarnings('ignore')"
   ]
  },
  {
   "cell_type": "code",
   "execution_count": 3,
   "id": "8dc3728e",
   "metadata": {
    "execution": {
     "iopub.execute_input": "2022-12-13T15:25:34.840513Z",
     "iopub.status.busy": "2022-12-13T15:25:34.840038Z",
     "iopub.status.idle": "2022-12-13T15:25:34.845836Z",
     "shell.execute_reply": "2022-12-13T15:25:34.844327Z"
    },
    "papermill": {
     "duration": 0.017429,
     "end_time": "2022-12-13T15:25:34.848230",
     "exception": false,
     "start_time": "2022-12-13T15:25:34.830801",
     "status": "completed"
    },
    "tags": []
   },
   "outputs": [],
   "source": [
    "TRAIN_PATH = '/kaggle/input/real-estate-price-prediction-moscow/train.csv'\n",
    "TEST_PATH = '/kaggle/input/real-estate-price-prediction-moscow/test.csv'\n",
    "SAMPLE_PATH = '/kaggle/input/real-estate-price-prediction-moscow/sample_submission.csv'"
   ]
  },
  {
   "cell_type": "code",
   "execution_count": 4,
   "id": "e6f7e2a8",
   "metadata": {
    "execution": {
     "iopub.execute_input": "2022-12-13T15:25:34.865827Z",
     "iopub.status.busy": "2022-12-13T15:25:34.865427Z",
     "iopub.status.idle": "2022-12-13T15:25:34.962849Z",
     "shell.execute_reply": "2022-12-13T15:25:34.961526Z"
    },
    "papermill": {
     "duration": 0.109944,
     "end_time": "2022-12-13T15:25:34.965819",
     "exception": false,
     "start_time": "2022-12-13T15:25:34.855875",
     "status": "completed"
    },
    "tags": []
   },
   "outputs": [
    {
     "data": {
      "text/html": [
       "<div>\n",
       "<style scoped>\n",
       "    .dataframe tbody tr th:only-of-type {\n",
       "        vertical-align: middle;\n",
       "    }\n",
       "\n",
       "    .dataframe tbody tr th {\n",
       "        vertical-align: top;\n",
       "    }\n",
       "\n",
       "    .dataframe thead th {\n",
       "        text-align: right;\n",
       "    }\n",
       "</style>\n",
       "<table border=\"1\" class=\"dataframe\">\n",
       "  <thead>\n",
       "    <tr style=\"text-align: right;\">\n",
       "      <th></th>\n",
       "      <th>Id</th>\n",
       "      <th>DistrictId</th>\n",
       "      <th>Rooms</th>\n",
       "      <th>Square</th>\n",
       "      <th>LifeSquare</th>\n",
       "      <th>KitchenSquare</th>\n",
       "      <th>Floor</th>\n",
       "      <th>HouseFloor</th>\n",
       "      <th>HouseYear</th>\n",
       "      <th>Ecology_1</th>\n",
       "      <th>Ecology_2</th>\n",
       "      <th>Ecology_3</th>\n",
       "      <th>Social_1</th>\n",
       "      <th>Social_2</th>\n",
       "      <th>Social_3</th>\n",
       "      <th>Healthcare_1</th>\n",
       "      <th>Helthcare_2</th>\n",
       "      <th>Shops_1</th>\n",
       "      <th>Shops_2</th>\n",
       "      <th>Price</th>\n",
       "    </tr>\n",
       "  </thead>\n",
       "  <tbody>\n",
       "    <tr>\n",
       "      <th>0</th>\n",
       "      <td>11809</td>\n",
       "      <td>27</td>\n",
       "      <td>3.0</td>\n",
       "      <td>115.027311</td>\n",
       "      <td>NaN</td>\n",
       "      <td>10.0</td>\n",
       "      <td>4</td>\n",
       "      <td>10.0</td>\n",
       "      <td>2014</td>\n",
       "      <td>0.075424</td>\n",
       "      <td>B</td>\n",
       "      <td>B</td>\n",
       "      <td>11</td>\n",
       "      <td>3097</td>\n",
       "      <td>0</td>\n",
       "      <td>NaN</td>\n",
       "      <td>0</td>\n",
       "      <td>0</td>\n",
       "      <td>B</td>\n",
       "      <td>305018.871089</td>\n",
       "    </tr>\n",
       "    <tr>\n",
       "      <th>1</th>\n",
       "      <td>3013</td>\n",
       "      <td>22</td>\n",
       "      <td>1.0</td>\n",
       "      <td>39.832524</td>\n",
       "      <td>23.169223</td>\n",
       "      <td>8.0</td>\n",
       "      <td>7</td>\n",
       "      <td>8.0</td>\n",
       "      <td>1966</td>\n",
       "      <td>0.118537</td>\n",
       "      <td>B</td>\n",
       "      <td>B</td>\n",
       "      <td>30</td>\n",
       "      <td>6207</td>\n",
       "      <td>1</td>\n",
       "      <td>1183.0</td>\n",
       "      <td>1</td>\n",
       "      <td>0</td>\n",
       "      <td>B</td>\n",
       "      <td>177734.553407</td>\n",
       "    </tr>\n",
       "    <tr>\n",
       "      <th>2</th>\n",
       "      <td>8215</td>\n",
       "      <td>1</td>\n",
       "      <td>3.0</td>\n",
       "      <td>78.342215</td>\n",
       "      <td>47.671972</td>\n",
       "      <td>10.0</td>\n",
       "      <td>2</td>\n",
       "      <td>17.0</td>\n",
       "      <td>1988</td>\n",
       "      <td>0.025609</td>\n",
       "      <td>B</td>\n",
       "      <td>B</td>\n",
       "      <td>33</td>\n",
       "      <td>5261</td>\n",
       "      <td>0</td>\n",
       "      <td>240.0</td>\n",
       "      <td>3</td>\n",
       "      <td>1</td>\n",
       "      <td>B</td>\n",
       "      <td>282078.720850</td>\n",
       "    </tr>\n",
       "    <tr>\n",
       "      <th>3</th>\n",
       "      <td>2352</td>\n",
       "      <td>1</td>\n",
       "      <td>1.0</td>\n",
       "      <td>40.409907</td>\n",
       "      <td>NaN</td>\n",
       "      <td>1.0</td>\n",
       "      <td>10</td>\n",
       "      <td>22.0</td>\n",
       "      <td>1977</td>\n",
       "      <td>0.007122</td>\n",
       "      <td>B</td>\n",
       "      <td>B</td>\n",
       "      <td>1</td>\n",
       "      <td>264</td>\n",
       "      <td>0</td>\n",
       "      <td>NaN</td>\n",
       "      <td>0</td>\n",
       "      <td>1</td>\n",
       "      <td>B</td>\n",
       "      <td>168106.007630</td>\n",
       "    </tr>\n",
       "    <tr>\n",
       "      <th>4</th>\n",
       "      <td>13866</td>\n",
       "      <td>94</td>\n",
       "      <td>2.0</td>\n",
       "      <td>64.285067</td>\n",
       "      <td>38.562517</td>\n",
       "      <td>9.0</td>\n",
       "      <td>16</td>\n",
       "      <td>16.0</td>\n",
       "      <td>1972</td>\n",
       "      <td>0.282798</td>\n",
       "      <td>B</td>\n",
       "      <td>B</td>\n",
       "      <td>33</td>\n",
       "      <td>8667</td>\n",
       "      <td>2</td>\n",
       "      <td>NaN</td>\n",
       "      <td>0</td>\n",
       "      <td>6</td>\n",
       "      <td>B</td>\n",
       "      <td>343995.102962</td>\n",
       "    </tr>\n",
       "  </tbody>\n",
       "</table>\n",
       "</div>"
      ],
      "text/plain": [
       "      Id  DistrictId  Rooms      Square  LifeSquare  KitchenSquare  Floor  \\\n",
       "0  11809          27    3.0  115.027311         NaN           10.0      4   \n",
       "1   3013          22    1.0   39.832524   23.169223            8.0      7   \n",
       "2   8215           1    3.0   78.342215   47.671972           10.0      2   \n",
       "3   2352           1    1.0   40.409907         NaN            1.0     10   \n",
       "4  13866          94    2.0   64.285067   38.562517            9.0     16   \n",
       "\n",
       "   HouseFloor  HouseYear  Ecology_1 Ecology_2 Ecology_3  Social_1  Social_2  \\\n",
       "0        10.0       2014   0.075424         B         B        11      3097   \n",
       "1         8.0       1966   0.118537         B         B        30      6207   \n",
       "2        17.0       1988   0.025609         B         B        33      5261   \n",
       "3        22.0       1977   0.007122         B         B         1       264   \n",
       "4        16.0       1972   0.282798         B         B        33      8667   \n",
       "\n",
       "   Social_3  Healthcare_1  Helthcare_2  Shops_1 Shops_2          Price  \n",
       "0         0           NaN            0        0       B  305018.871089  \n",
       "1         1        1183.0            1        0       B  177734.553407  \n",
       "2         0         240.0            3        1       B  282078.720850  \n",
       "3         0           NaN            0        1       B  168106.007630  \n",
       "4         2           NaN            0        6       B  343995.102962  "
      ]
     },
     "execution_count": 4,
     "metadata": {},
     "output_type": "execute_result"
    }
   ],
   "source": [
    "ds = pd.read_csv(TRAIN_PATH)\n",
    "ds.head()"
   ]
  },
  {
   "cell_type": "code",
   "execution_count": 5,
   "id": "ad4b607a",
   "metadata": {
    "execution": {
     "iopub.execute_input": "2022-12-13T15:25:34.983662Z",
     "iopub.status.busy": "2022-12-13T15:25:34.983218Z",
     "iopub.status.idle": "2022-12-13T15:25:35.014760Z",
     "shell.execute_reply": "2022-12-13T15:25:35.012813Z"
    },
    "papermill": {
     "duration": 0.043472,
     "end_time": "2022-12-13T15:25:35.017330",
     "exception": false,
     "start_time": "2022-12-13T15:25:34.973858",
     "status": "completed"
    },
    "tags": []
   },
   "outputs": [
    {
     "name": "stdout",
     "output_type": "stream",
     "text": [
      "<class 'pandas.core.frame.DataFrame'>\n",
      "RangeIndex: 10000 entries, 0 to 9999\n",
      "Data columns (total 20 columns):\n",
      " #   Column         Non-Null Count  Dtype  \n",
      "---  ------         --------------  -----  \n",
      " 0   Id             10000 non-null  int64  \n",
      " 1   DistrictId     10000 non-null  int64  \n",
      " 2   Rooms          10000 non-null  float64\n",
      " 3   Square         10000 non-null  float64\n",
      " 4   LifeSquare     7887 non-null   float64\n",
      " 5   KitchenSquare  10000 non-null  float64\n",
      " 6   Floor          10000 non-null  int64  \n",
      " 7   HouseFloor     10000 non-null  float64\n",
      " 8   HouseYear      10000 non-null  int64  \n",
      " 9   Ecology_1      10000 non-null  float64\n",
      " 10  Ecology_2      10000 non-null  object \n",
      " 11  Ecology_3      10000 non-null  object \n",
      " 12  Social_1       10000 non-null  int64  \n",
      " 13  Social_2       10000 non-null  int64  \n",
      " 14  Social_3       10000 non-null  int64  \n",
      " 15  Healthcare_1   5202 non-null   float64\n",
      " 16  Helthcare_2    10000 non-null  int64  \n",
      " 17  Shops_1        10000 non-null  int64  \n",
      " 18  Shops_2        10000 non-null  object \n",
      " 19  Price          10000 non-null  float64\n",
      "dtypes: float64(8), int64(9), object(3)\n",
      "memory usage: 1.5+ MB\n"
     ]
    }
   ],
   "source": [
    "ds.info()"
   ]
  },
  {
   "cell_type": "code",
   "execution_count": 6,
   "id": "2ec20426",
   "metadata": {
    "execution": {
     "iopub.execute_input": "2022-12-13T15:25:35.038057Z",
     "iopub.status.busy": "2022-12-13T15:25:35.037660Z",
     "iopub.status.idle": "2022-12-13T15:25:35.045786Z",
     "shell.execute_reply": "2022-12-13T15:25:35.044451Z"
    },
    "papermill": {
     "duration": 0.020159,
     "end_time": "2022-12-13T15:25:35.048275",
     "exception": false,
     "start_time": "2022-12-13T15:25:35.028116",
     "status": "completed"
    },
    "tags": []
   },
   "outputs": [
    {
     "data": {
      "text/plain": [
       "(10000, 20)"
      ]
     },
     "execution_count": 6,
     "metadata": {},
     "output_type": "execute_result"
    }
   ],
   "source": [
    "ds.shape"
   ]
  },
  {
   "cell_type": "code",
   "execution_count": 7,
   "id": "96c01d01",
   "metadata": {
    "execution": {
     "iopub.execute_input": "2022-12-13T15:25:35.066149Z",
     "iopub.status.busy": "2022-12-13T15:25:35.065699Z",
     "iopub.status.idle": "2022-12-13T15:25:37.621427Z",
     "shell.execute_reply": "2022-12-13T15:25:37.619392Z"
    },
    "papermill": {
     "duration": 2.568123,
     "end_time": "2022-12-13T15:25:37.624571",
     "exception": false,
     "start_time": "2022-12-13T15:25:35.056448",
     "status": "completed"
    },
    "tags": []
   },
   "outputs": [
    {
     "data": {
      "image/png": "[encoded data removed]",
      "text/plain": [
       "<Figure size 1152x1152 with 20 Axes>"
      ]
     },
     "metadata": {
      "needs_background": "light"
     },
     "output_type": "display_data"
    }
   ],
   "source": [
    "ds.hist(figsize=(16,16))\n",
    "plt.show()"
   ]
  },
  {
   "cell_type": "code",
   "execution_count": 8,
   "id": "22d5c695",
   "metadata": {
    "execution": {
     "iopub.execute_input": "2022-12-13T15:25:37.645458Z",
     "iopub.status.busy": "2022-12-13T15:25:37.645016Z",
     "iopub.status.idle": "2022-12-13T15:25:38.430373Z",
     "shell.execute_reply": "2022-12-13T15:25:38.429419Z"
    },
    "papermill": {
     "duration": 0.798659,
     "end_time": "2022-12-13T15:25:38.432945",
     "exception": false,
     "start_time": "2022-12-13T15:25:37.634286",
     "status": "completed"
    },
    "tags": []
   },
   "outputs": [
    {
     "data": {
      "text/plain": [
       "<AxesSubplot:>"
      ]
     },
     "execution_count": 8,
     "metadata": {},
     "output_type": "execute_result"
    },
    {
     "data": {
      "image/png": "[encoded data removed]",
      "text/plain": [
       "<Figure size 432x288 with 2 Axes>"
      ]
     },
     "metadata": {
      "needs_background": "light"
     },
     "output_type": "display_data"
    }
   ],
   "source": [
    "ds.drop('Id', axis=1)\n",
    "colours = ['#000099', '#ff0000']\n",
    "sns.heatmap(ds.isnull(), cmap=sns.color_palette(colours))"
   ]
  },
  {
   "cell_type": "code",
   "execution_count": 9,
   "id": "97d2a0d8",
   "metadata": {
    "execution": {
     "iopub.execute_input": "2022-12-13T15:25:38.456016Z",
     "iopub.status.busy": "2022-12-13T15:25:38.455242Z",
     "iopub.status.idle": "2022-12-13T15:25:38.767746Z",
     "shell.execute_reply": "2022-12-13T15:25:38.766534Z"
    },
    "papermill": {
     "duration": 0.327802,
     "end_time": "2022-12-13T15:25:38.770819",
     "exception": false,
     "start_time": "2022-12-13T15:25:38.443017",
     "status": "completed"
    },
    "tags": []
   },
   "outputs": [
    {
     "data": {
      "image/png": "[encoded data removed]",
      "text/plain": [
       "<Figure size 432x288 with 1 Axes>"
      ]
     },
     "metadata": {
      "needs_background": "light"
     },
     "output_type": "display_data"
    }
   ],
   "source": [
    "boxplot = sns.boxplot(x=\"variable\", y=\"value\", data=pd.melt(ds[['LifeSquare','KitchenSquare','Rooms','Square','Floor']]))\n",
    "boxplot.set_xlabel(\"Показатели\", fontsize=14)\n",
    "boxplot.set_ylabel(\"Значения\", fontsize=14);"
   ]
  },
  {
   "cell_type": "markdown",
   "id": "07142359",
   "metadata": {
    "papermill": {
     "duration": 0.009627,
     "end_time": "2022-12-13T15:25:38.791037",
     "exception": false,
     "start_time": "2022-12-13T15:25:38.781410",
     "status": "completed"
    },
    "tags": []
   },
   "source": [
    "Проверим есть ли не информативные данные"
   ]
  },
  {
   "cell_type": "code",
   "execution_count": 10,
   "id": "2ef40163",
   "metadata": {
    "execution": {
     "iopub.execute_input": "2022-12-13T15:25:38.812875Z",
     "iopub.status.busy": "2022-12-13T15:25:38.812461Z",
     "iopub.status.idle": "2022-12-13T15:25:38.842830Z",
     "shell.execute_reply": "2022-12-13T15:25:38.841530Z"
    },
    "papermill": {
     "duration": 0.044183,
     "end_time": "2022-12-13T15:25:38.845184",
     "exception": false,
     "start_time": "2022-12-13T15:25:38.801001",
     "status": "completed"
    },
    "tags": []
   },
   "outputs": [
    {
     "name": "stdout",
     "output_type": "stream",
     "text": [
      "Ecology_2: 99.03000%\n",
      "B    9903\n",
      "A      97\n",
      "Name: Ecology_2, dtype: int64\n",
      "\n",
      "Ecology_3: 97.25000%\n",
      "B    9725\n",
      "A     275\n",
      "Name: Ecology_3, dtype: int64\n",
      "\n"
     ]
    }
   ],
   "source": [
    "\n",
    "num_rows = len(ds.index)\n",
    "low_information_cols = []\n",
    "\n",
    "for col in ds.columns:\n",
    "    cnts = ds[col].value_counts(dropna=False)\n",
    "    top_pct = (cnts/num_rows).iloc[0]\n",
    "\n",
    "    if top_pct > 0.95:\n",
    "        low_information_cols.append(col)\n",
    "        print('{0}: {1:.5f}%'.format(col, top_pct*100))\n",
    "        print(cnts)\n",
    "        print()"
   ]
  },
  {
   "cell_type": "markdown",
   "id": "215650f6",
   "metadata": {
    "papermill": {
     "duration": 0.010738,
     "end_time": "2022-12-13T15:25:38.866554",
     "exception": false,
     "start_time": "2022-12-13T15:25:38.855816",
     "status": "completed"
    },
    "tags": []
   },
   "source": [
    "Признаки Ecology_2 и Ecology_3 имеют слишком много повторений, признак неинформативен, можно дропнуть"
   ]
  },
  {
   "cell_type": "code",
   "execution_count": 11,
   "id": "5e59aa71",
   "metadata": {
    "execution": {
     "iopub.execute_input": "2022-12-13T15:25:38.889196Z",
     "iopub.status.busy": "2022-12-13T15:25:38.888562Z",
     "iopub.status.idle": "2022-12-13T15:25:39.182617Z",
     "shell.execute_reply": "2022-12-13T15:25:39.181415Z"
    },
    "papermill": {
     "duration": 0.309086,
     "end_time": "2022-12-13T15:25:39.185744",
     "exception": false,
     "start_time": "2022-12-13T15:25:38.876658",
     "status": "completed"
    },
    "tags": []
   },
   "outputs": [
    {
     "data": {
      "image/png": "[encoded data removed]",
      "text/plain": [
       "<Figure size 1152x576 with 1 Axes>"
      ]
     },
     "metadata": {
      "needs_background": "light"
     },
     "output_type": "display_data"
    }
   ],
   "source": [
    "price_corr = ds.corr().abs()\n",
    "price_corr = price_corr.unstack().sort_values()['Price']\n",
    "\n",
    "plt.figure(figsize = (16, 8))\n",
    "plt.bar(list(price_corr.keys())[:-1], list(price_corr)[:-1])\n",
    "plt.xticks(rotation=90)\n",
    "plt.show()"
   ]
  },
  {
   "cell_type": "code",
   "execution_count": 12,
   "id": "406fe8f4",
   "metadata": {
    "execution": {
     "iopub.execute_input": "2022-12-13T15:25:39.208495Z",
     "iopub.status.busy": "2022-12-13T15:25:39.207964Z",
     "iopub.status.idle": "2022-12-13T15:25:39.219216Z",
     "shell.execute_reply": "2022-12-13T15:25:39.217408Z"
    },
    "papermill": {
     "duration": 0.025842,
     "end_time": "2022-12-13T15:25:39.222015",
     "exception": false,
     "start_time": "2022-12-13T15:25:39.196173",
     "status": "completed"
    },
    "tags": []
   },
   "outputs": [
    {
     "data": {
      "text/plain": [
       "2.0     3880\n",
       "1.0     3705\n",
       "3.0     2235\n",
       "4.0      150\n",
       "5.0       18\n",
       "0.0        8\n",
       "10.0       2\n",
       "19.0       1\n",
       "6.0        1\n",
       "Name: Rooms, dtype: int64"
      ]
     },
     "execution_count": 12,
     "metadata": {},
     "output_type": "execute_result"
    }
   ],
   "source": [
    "ds['Rooms'].value_counts()"
   ]
  },
  {
   "cell_type": "code",
   "execution_count": 13,
   "id": "c67966a4",
   "metadata": {
    "execution": {
     "iopub.execute_input": "2022-12-13T15:25:39.245151Z",
     "iopub.status.busy": "2022-12-13T15:25:39.244762Z",
     "iopub.status.idle": "2022-12-13T15:25:39.256448Z",
     "shell.execute_reply": "2022-12-13T15:25:39.255327Z"
    },
    "papermill": {
     "duration": 0.026028,
     "end_time": "2022-12-13T15:25:39.258830",
     "exception": false,
     "start_time": "2022-12-13T15:25:39.232802",
     "status": "completed"
    },
    "tags": []
   },
   "outputs": [
    {
     "data": {
      "text/plain": [
       "Id                  0\n",
       "DistrictId          0\n",
       "Rooms               0\n",
       "Square              0\n",
       "LifeSquare       2113\n",
       "KitchenSquare       0\n",
       "Floor               0\n",
       "HouseFloor          0\n",
       "HouseYear           0\n",
       "Ecology_1           0\n",
       "Ecology_2           0\n",
       "Ecology_3           0\n",
       "Social_1            0\n",
       "Social_2            0\n",
       "Social_3            0\n",
       "Healthcare_1     4798\n",
       "Helthcare_2         0\n",
       "Shops_1             0\n",
       "Shops_2             0\n",
       "Price               0\n",
       "dtype: int64"
      ]
     },
     "execution_count": 13,
     "metadata": {},
     "output_type": "execute_result"
    }
   ],
   "source": [
    "ds.isna().sum()"
   ]
  },
  {
   "cell_type": "code",
   "execution_count": 14,
   "id": "3e70d4c1",
   "metadata": {
    "execution": {
     "iopub.execute_input": "2022-12-13T15:25:39.282688Z",
     "iopub.status.busy": "2022-12-13T15:25:39.281916Z",
     "iopub.status.idle": "2022-12-13T15:25:39.311838Z",
     "shell.execute_reply": "2022-12-13T15:25:39.310824Z"
    },
    "papermill": {
     "duration": 0.044894,
     "end_time": "2022-12-13T15:25:39.314355",
     "exception": false,
     "start_time": "2022-12-13T15:25:39.269461",
     "status": "completed"
    },
    "tags": []
   },
   "outputs": [],
   "source": [
    "class Preprocessor:\n",
    "    \"\"\"\n",
    "    Класс для предобработки датафрэима.\n",
    "    \"\"\"\n",
    "    def __init__(self):\n",
    "        \"\"\"\n",
    "        Конструктор.\n",
    "        \"\"\"\n",
    "        self.current_year = datetime.datetime.now().year\n",
    "        self.districts_rate = None\n",
    "        self.medians = None\n",
    "        self.districts_price_per_meter = None\n",
    "        self.minmax = {\n",
    "            'KitchenSquare': (),\n",
    "            'HouseFloor': (),\n",
    "            'Rooms': (),\n",
    "            'LifeSquare': (),\n",
    "            'Square': ()\n",
    "        }\n",
    "        self.house_floor_means = None\n",
    "        self.districts_healthcare_1 = None\n",
    "        self.healthcare_mean = None\n",
    "        self.room_median_square = None  # средняя площадь комнаты\n",
    "        self.pca = PCA(n_components=1, random_state=42)\n",
    "\n",
    "    def fit(self, dataset: pd.DataFrame):\n",
    "        \"\"\"\n",
    "        Расчет средних и медианных значений\n",
    "        :param dataset:\n",
    "        :return:\n",
    "        \"\"\"\n",
    "        self.medians = dataset.groupby(['DistrictId']).agg(\n",
    "            hf_median=('HouseFloor', np.median),\n",
    "            lq_median=('LifeSquare', np.median),\n",
    "            kq_median=('KitchenSquare', np.median),\n",
    "            rooms_median=('Rooms', np.median)\n",
    "        ).reset_index()\n",
    "        self.house_floor_means = dataset.groupby('HouseYear').agg(\n",
    "            hf_median=('HouseFloor', np.median),\n",
    "            hf_min=('HouseFloor', np.min),\n",
    "            hf_max=('HouseFloor', np.max)\n",
    "        ).reset_index()\n",
    "\n",
    "        self.districts_healthcare_1 = dataset.groupby(['DistrictId'])[\n",
    "            'Healthcare_1'].agg('mean').to_dict()\n",
    "        self.healthcare_mean = dataset['Healthcare_1'].mean()\n",
    "        self.room_median_square = round(dataset['LifeSquare'].median()/dataset['Rooms'].median(),2)\n",
    "\n",
    "        self.pca.fit(dataset[['Social_1','Social_2','Social_3']])\n",
    "\n",
    "        self.districts_price_per_meter = (dataset.groupby(['DistrictId'])['Price'].agg('median') \\\n",
    "                                         / dataset.groupby(['DistrictId'])['Square'].agg('median')).to_dict()\n",
    "\n",
    "        self.districts_rate = dict(dataset['DistrictId'].value_counts()/dataset.shape[0])\n",
    "    def __fixes(self, dataset: pd.DataFrame) -> pd.DataFrame:\n",
    "        \"\"\"\n",
    "        Фиксы датафрэима.\n",
    "        :param dataset: Исходный датасет\n",
    "        :return: pd.DataFrame\n",
    "        \"\"\"\n",
    "        def fix_square(row):\n",
    "            \"\"\"\n",
    "            Фикс общей площади\n",
    "            :param row:\n",
    "            :return: pd.Series\n",
    "            \"\"\"\n",
    "            if row['Square'] < row['LifeSquare'] + row['KitchenSquare']:\n",
    "                # Общая площадь не может быть меньше суммы площадей жилой и кухни\n",
    "                row['Square'] = row['LifeSquare'] + row['KitchenSquare']\n",
    "            return row\n",
    "\n",
    "        def fix_house_year(row):\n",
    "            \"\"\"\n",
    "            Фикс года постройки дома\n",
    "            :param row:\n",
    "            :return: pd.Series\n",
    "            \"\"\"\n",
    "            house_year = row['HouseYear']\n",
    "            try:\n",
    "                house_year = datetime.datetime.strptime(str(int(house_year)), '%Y%d%m').year\n",
    "            except ValueError:\n",
    "                house_year = datetime.datetime.now().year\n",
    "\n",
    "            row['HouseYear'] = house_year\n",
    "            return row\n",
    "\n",
    "        dataset = dataset.apply(fix_house_year, axis=1)\n",
    "        dataset = dataset.apply(fix_square, axis=1)\n",
    "\n",
    "        dataset.loc[(dataset['Rooms']==0)|(dataset['Rooms']>6),'Rooms'] = round(dataset.loc[\n",
    "            (dataset['Rooms']==0)|(dataset['Rooms']>6),'LifeSquare']/self.room_median_square)\n",
    "        dataset.loc[dataset['Rooms']==0,'Rooms'] = 1\n",
    "        return dataset\n",
    "\n",
    "    def __fillna(self, dataset: pd.DataFrame) -> pd.DataFrame:\n",
    "        \"\"\"\n",
    "        Заполнение пропуской\n",
    "        :param dataset: Исходный датафрэим\n",
    "        :return: pd.DataFrame\n",
    "        \"\"\"\n",
    "        def fill_house_floor(row):\n",
    "            \"\"\"\n",
    "            Заполнение этажа\n",
    "            :param row:\n",
    "            :return: pd.Series\n",
    "            \"\"\"\n",
    "            row['HouseFloor'] = float(\n",
    "                self.house_floor_means.loc[self.house_floor_means['HouseYear'] == row['HouseYear']]['hf_median'])\n",
    "            return row\n",
    "\n",
    "\n",
    "        dataset.loc[dataset['Healthcare_1'].isna(), 'Healthcare_1'] = dataset['DistrictId'].map(self.districts_healthcare_1)\n",
    "        # Те что не получилось заполнить по районам заполним средним значением\n",
    "        dataset['Healthcare_1'].fillna(self.healthcare_mean, inplace=True)\n",
    "\n",
    "        dataset.loc[dataset['HouseFloor'] < 2] = dataset.loc[dataset['HouseFloor'] < 2].apply(fill_house_floor, axis=1)\n",
    "        # Вычислим соотношение остальной площади от общей площади\n",
    "        other_koef = round((dataset['Square'] - dataset['KitchenSquare'] - dataset['LifeSquare']).median() / dataset['Square'].median(),3)\n",
    "        # Заполнение пустой жилой площади\n",
    "        dataset['LifeSquare'].fillna((dataset['Square']-dataset['KitchenSquare']-dataset['Square']*other_koef),inplace=True)\n",
    "        # Заполнение пропусков комнат\n",
    "        # dataset['Rooms'].fillna(self.medians[dataset['DistrictId']]['rooms_median'], inplace=True)\n",
    "        # print(self.medians.loc(self.medians['DistrictId']==dataset['DistrictId'])['rooms_median'])\n",
    "        return dataset\n",
    "\n",
    "    def __new_featrures(self, dataset: pd.DataFrame) -> pd.DataFrame:\n",
    "        \"\"\"\n",
    "        Добавление новых свойств.\n",
    "        :param dataset:\n",
    "        :return: ps.DataFrame\n",
    "        \"\"\"\n",
    "        dataset['Social'] = self.pca.transform(dataset[['Social_1','Social_2','Social_3']])\n",
    "        dataset['PPM'] = dataset['DistrictId'].map(self.districts_price_per_meter)\n",
    "        dataset['District_rate'] = dataset['DistrictId'].map(self.districts_rate)\n",
    "\n",
    "        dataset['PPM'].fillna(0, inplace=True)\n",
    "        dataset['District_rate'].fillna(0, inplace=True)\n",
    "        \n",
    "        return dataset\n",
    "\n",
    "    def transform(self, dataset: pd.DataFrame) -> pd.DataFrame:\n",
    "        \"\"\"\n",
    "        Трансформирование датафрэима\n",
    "        :param dataset:\n",
    "        :return: pd.DataFrame\n",
    "        \"\"\"\n",
    "        dataset = self.__fillna(dataset)\n",
    "        dataset = self.__fixes(dataset)\n",
    "\n",
    "        dataset.replace({'Ecology_2': {'A': 0, 'B': 1}}, inplace=True)\n",
    "        dataset.replace({'Ecology_3': {'A': 0, 'B': 1}}, inplace=True)\n",
    "        dataset.replace({'Shops_2': {'A': 0, 'B': 1}}, inplace=True)\n",
    "\n",
    "        dataset = self.__new_featrures(dataset)\n",
    "\n",
    "        # удаляем лишние поля\n",
    "        dataset = dataset.drop(['Social_1', 'Social_2', 'Social_3', 'Ecology_2', 'Ecology_3', 'Id'], axis=1)\n",
    "\n",
    "        return dataset\n"
   ]
  },
  {
   "cell_type": "code",
   "execution_count": 15,
   "id": "b1361a02",
   "metadata": {
    "execution": {
     "iopub.execute_input": "2022-12-13T15:25:39.337541Z",
     "iopub.status.busy": "2022-12-13T15:25:39.337095Z",
     "iopub.status.idle": "2022-12-13T15:25:42.073496Z",
     "shell.execute_reply": "2022-12-13T15:25:42.071694Z"
    },
    "papermill": {
     "duration": 2.752895,
     "end_time": "2022-12-13T15:25:42.077994",
     "exception": false,
     "start_time": "2022-12-13T15:25:39.325099",
     "status": "completed"
    },
    "tags": []
   },
   "outputs": [],
   "source": [
    "prep = Preprocessor()\n",
    "prep.fit(ds)\n",
    "ds = prep.transform(ds)"
   ]
  },
  {
   "cell_type": "code",
   "execution_count": 16,
   "id": "5db18bdd",
   "metadata": {
    "execution": {
     "iopub.execute_input": "2022-12-13T15:25:42.135205Z",
     "iopub.status.busy": "2022-12-13T15:25:42.134457Z",
     "iopub.status.idle": "2022-12-13T15:25:42.145074Z",
     "shell.execute_reply": "2022-12-13T15:25:42.143519Z"
    },
    "papermill": {
     "duration": 0.045461,
     "end_time": "2022-12-13T15:25:42.149698",
     "exception": false,
     "start_time": "2022-12-13T15:25:42.104237",
     "status": "completed"
    },
    "tags": []
   },
   "outputs": [],
   "source": [
    "TARGET = 'Price'\n",
    "y_train = ds[TARGET]\n",
    "X_train = ds.drop([TARGET], axis=1)"
   ]
  },
  {
   "cell_type": "markdown",
   "id": "c69f1bf6",
   "metadata": {
    "papermill": {
     "duration": 0.012887,
     "end_time": "2022-12-13T15:25:42.190324",
     "exception": false,
     "start_time": "2022-12-13T15:25:42.177437",
     "status": "completed"
    },
    "tags": []
   },
   "source": [
    "Опустим выбор лучших параметров для модели, а то выполнятся будет крайне долго\n",
    "т.к. по условиям можно использовать только то что было на занятиях и максимально доступная модель это случайный лес, возьмём его"
   ]
  },
  {
   "cell_type": "code",
   "execution_count": 17,
   "id": "bdb30f51",
   "metadata": {
    "execution": {
     "iopub.execute_input": "2022-12-13T15:25:42.213739Z",
     "iopub.status.busy": "2022-12-13T15:25:42.213300Z",
     "iopub.status.idle": "2022-12-13T15:25:42.219017Z",
     "shell.execute_reply": "2022-12-13T15:25:42.217811Z"
    },
    "papermill": {
     "duration": 0.020191,
     "end_time": "2022-12-13T15:25:42.221407",
     "exception": false,
     "start_time": "2022-12-13T15:25:42.201216",
     "status": "completed"
    },
    "tags": []
   },
   "outputs": [],
   "source": [
    "best_params = {'n_estimators': 700, 'min_samples_split': 12, 'min_samples_leaf': 2, 'max_features': 'sqrt', 'max_depth': 13, 'bootstrap': False}"
   ]
  },
  {
   "cell_type": "code",
   "execution_count": 18,
   "id": "09e1da38",
   "metadata": {
    "execution": {
     "iopub.execute_input": "2022-12-13T15:25:42.245693Z",
     "iopub.status.busy": "2022-12-13T15:25:42.244888Z",
     "iopub.status.idle": "2022-12-13T15:25:55.312781Z",
     "shell.execute_reply": "2022-12-13T15:25:55.311094Z"
    },
    "papermill": {
     "duration": 13.083487,
     "end_time": "2022-12-13T15:25:55.315695",
     "exception": false,
     "start_time": "2022-12-13T15:25:42.232208",
     "status": "completed"
    },
    "tags": []
   },
   "outputs": [
    {
     "data": {
      "text/plain": [
       "RandomForestRegressor(bootstrap=False, max_depth=13, max_features='sqrt',\n",
       "                      min_samples_leaf=2, min_samples_split=12,\n",
       "                      n_estimators=700)"
      ]
     },
     "execution_count": 18,
     "metadata": {},
     "output_type": "execute_result"
    }
   ],
   "source": [
    "model = RandomForestRegressor(**best_params)\n",
    "model.fit(X_train, y_train)"
   ]
  },
  {
   "cell_type": "code",
   "execution_count": 19,
   "id": "e457b502",
   "metadata": {
    "execution": {
     "iopub.execute_input": "2022-12-13T15:25:55.339267Z",
     "iopub.status.busy": "2022-12-13T15:25:55.338877Z",
     "iopub.status.idle": "2022-12-13T15:25:55.709879Z",
     "shell.execute_reply": "2022-12-13T15:25:55.708643Z"
    },
    "papermill": {
     "duration": 0.385594,
     "end_time": "2022-12-13T15:25:55.712417",
     "exception": false,
     "start_time": "2022-12-13T15:25:55.326823",
     "status": "completed"
    },
    "tags": []
   },
   "outputs": [
    {
     "data": {
      "image/png": "[encoded data removed]",
      "text/plain": [
       "<Figure size 1152x576 with 1 Axes>"
      ]
     },
     "metadata": {
      "needs_background": "light"
     },
     "output_type": "display_data"
    }
   ],
   "source": [
    "plt.figure(figsize = (16, 8))\n",
    "plt.bar(list(X_train.keys()), list(model.feature_importances_))\n",
    "plt.xticks(rotation=90)\n",
    "plt.show()"
   ]
  },
  {
   "cell_type": "markdown",
   "id": "000e31fc",
   "metadata": {
    "papermill": {
     "duration": 0.010846,
     "end_time": "2022-12-13T15:25:55.734420",
     "exception": false,
     "start_time": "2022-12-13T15:25:55.723574",
     "status": "completed"
    },
    "tags": []
   },
   "source": [
    "### Прогнозирование цен на тестовом датасете"
   ]
  },
  {
   "cell_type": "code",
   "execution_count": 20,
   "id": "f8f09135",
   "metadata": {
    "execution": {
     "iopub.execute_input": "2022-12-13T15:25:55.758587Z",
     "iopub.status.busy": "2022-12-13T15:25:55.758149Z",
     "iopub.status.idle": "2022-12-13T15:25:55.804679Z",
     "shell.execute_reply": "2022-12-13T15:25:55.803431Z"
    },
    "papermill": {
     "duration": 0.061676,
     "end_time": "2022-12-13T15:25:55.807202",
     "exception": false,
     "start_time": "2022-12-13T15:25:55.745526",
     "status": "completed"
    },
    "tags": []
   },
   "outputs": [
    {
     "data": {
      "text/html": [
       "<div>\n",
       "<style scoped>\n",
       "    .dataframe tbody tr th:only-of-type {\n",
       "        vertical-align: middle;\n",
       "    }\n",
       "\n",
       "    .dataframe tbody tr th {\n",
       "        vertical-align: top;\n",
       "    }\n",
       "\n",
       "    .dataframe thead th {\n",
       "        text-align: right;\n",
       "    }\n",
       "</style>\n",
       "<table border=\"1\" class=\"dataframe\">\n",
       "  <thead>\n",
       "    <tr style=\"text-align: right;\">\n",
       "      <th></th>\n",
       "      <th>Id</th>\n",
       "      <th>DistrictId</th>\n",
       "      <th>Rooms</th>\n",
       "      <th>Square</th>\n",
       "      <th>LifeSquare</th>\n",
       "      <th>KitchenSquare</th>\n",
       "      <th>Floor</th>\n",
       "      <th>HouseFloor</th>\n",
       "      <th>HouseYear</th>\n",
       "      <th>Ecology_1</th>\n",
       "      <th>Ecology_2</th>\n",
       "      <th>Ecology_3</th>\n",
       "      <th>Social_1</th>\n",
       "      <th>Social_2</th>\n",
       "      <th>Social_3</th>\n",
       "      <th>Healthcare_1</th>\n",
       "      <th>Helthcare_2</th>\n",
       "      <th>Shops_1</th>\n",
       "      <th>Shops_2</th>\n",
       "    </tr>\n",
       "  </thead>\n",
       "  <tbody>\n",
       "    <tr>\n",
       "      <th>0</th>\n",
       "      <td>4567</td>\n",
       "      <td>44</td>\n",
       "      <td>1.0</td>\n",
       "      <td>36.847630</td>\n",
       "      <td>19.094182</td>\n",
       "      <td>5.0</td>\n",
       "      <td>5</td>\n",
       "      <td>9.0</td>\n",
       "      <td>1970</td>\n",
       "      <td>0.036122</td>\n",
       "      <td>B</td>\n",
       "      <td>B</td>\n",
       "      <td>24</td>\n",
       "      <td>4378</td>\n",
       "      <td>0</td>\n",
       "      <td>1036.0</td>\n",
       "      <td>1</td>\n",
       "      <td>1</td>\n",
       "      <td>B</td>\n",
       "    </tr>\n",
       "    <tr>\n",
       "      <th>1</th>\n",
       "      <td>5925</td>\n",
       "      <td>62</td>\n",
       "      <td>1.0</td>\n",
       "      <td>42.493907</td>\n",
       "      <td>42.568133</td>\n",
       "      <td>10.0</td>\n",
       "      <td>7</td>\n",
       "      <td>17.0</td>\n",
       "      <td>2017</td>\n",
       "      <td>0.072158</td>\n",
       "      <td>B</td>\n",
       "      <td>B</td>\n",
       "      <td>2</td>\n",
       "      <td>629</td>\n",
       "      <td>1</td>\n",
       "      <td>NaN</td>\n",
       "      <td>0</td>\n",
       "      <td>0</td>\n",
       "      <td>A</td>\n",
       "    </tr>\n",
       "    <tr>\n",
       "      <th>2</th>\n",
       "      <td>960</td>\n",
       "      <td>27</td>\n",
       "      <td>2.0</td>\n",
       "      <td>59.463678</td>\n",
       "      <td>NaN</td>\n",
       "      <td>9.0</td>\n",
       "      <td>19</td>\n",
       "      <td>19.0</td>\n",
       "      <td>1977</td>\n",
       "      <td>0.211401</td>\n",
       "      <td>B</td>\n",
       "      <td>B</td>\n",
       "      <td>9</td>\n",
       "      <td>1892</td>\n",
       "      <td>0</td>\n",
       "      <td>NaN</td>\n",
       "      <td>0</td>\n",
       "      <td>1</td>\n",
       "      <td>B</td>\n",
       "    </tr>\n",
       "    <tr>\n",
       "      <th>3</th>\n",
       "      <td>3848</td>\n",
       "      <td>23</td>\n",
       "      <td>3.0</td>\n",
       "      <td>49.646030</td>\n",
       "      <td>33.893825</td>\n",
       "      <td>6.0</td>\n",
       "      <td>2</td>\n",
       "      <td>2.0</td>\n",
       "      <td>1965</td>\n",
       "      <td>0.014073</td>\n",
       "      <td>B</td>\n",
       "      <td>B</td>\n",
       "      <td>2</td>\n",
       "      <td>475</td>\n",
       "      <td>0</td>\n",
       "      <td>NaN</td>\n",
       "      <td>0</td>\n",
       "      <td>0</td>\n",
       "      <td>B</td>\n",
       "    </tr>\n",
       "    <tr>\n",
       "      <th>4</th>\n",
       "      <td>746</td>\n",
       "      <td>74</td>\n",
       "      <td>1.0</td>\n",
       "      <td>53.837056</td>\n",
       "      <td>NaN</td>\n",
       "      <td>1.0</td>\n",
       "      <td>8</td>\n",
       "      <td>17.0</td>\n",
       "      <td>1977</td>\n",
       "      <td>0.309479</td>\n",
       "      <td>B</td>\n",
       "      <td>B</td>\n",
       "      <td>35</td>\n",
       "      <td>7715</td>\n",
       "      <td>4</td>\n",
       "      <td>990.0</td>\n",
       "      <td>0</td>\n",
       "      <td>6</td>\n",
       "      <td>B</td>\n",
       "    </tr>\n",
       "  </tbody>\n",
       "</table>\n",
       "</div>"
      ],
      "text/plain": [
       "     Id  DistrictId  Rooms     Square  LifeSquare  KitchenSquare  Floor  \\\n",
       "0  4567          44    1.0  36.847630   19.094182            5.0      5   \n",
       "1  5925          62    1.0  42.493907   42.568133           10.0      7   \n",
       "2   960          27    2.0  59.463678         NaN            9.0     19   \n",
       "3  3848          23    3.0  49.646030   33.893825            6.0      2   \n",
       "4   746          74    1.0  53.837056         NaN            1.0      8   \n",
       "\n",
       "   HouseFloor  HouseYear  Ecology_1 Ecology_2 Ecology_3  Social_1  Social_2  \\\n",
       "0         9.0       1970   0.036122         B         B        24      4378   \n",
       "1        17.0       2017   0.072158         B         B         2       629   \n",
       "2        19.0       1977   0.211401         B         B         9      1892   \n",
       "3         2.0       1965   0.014073         B         B         2       475   \n",
       "4        17.0       1977   0.309479         B         B        35      7715   \n",
       "\n",
       "   Social_3  Healthcare_1  Helthcare_2  Shops_1 Shops_2  \n",
       "0         0        1036.0            1        1       B  \n",
       "1         1           NaN            0        0       A  \n",
       "2         0           NaN            0        1       B  \n",
       "3         0           NaN            0        0       B  \n",
       "4         4         990.0            0        6       B  "
      ]
     },
     "execution_count": 20,
     "metadata": {},
     "output_type": "execute_result"
    }
   ],
   "source": [
    "test_ds = pd.read_csv(TEST_PATH)\n",
    "test_ds.head()"
   ]
  },
  {
   "cell_type": "code",
   "execution_count": 21,
   "id": "5d5cfab5",
   "metadata": {
    "execution": {
     "iopub.execute_input": "2022-12-13T15:25:55.832897Z",
     "iopub.status.busy": "2022-12-13T15:25:55.832513Z",
     "iopub.status.idle": "2022-12-13T15:25:55.850419Z",
     "shell.execute_reply": "2022-12-13T15:25:55.849195Z"
    },
    "papermill": {
     "duration": 0.033097,
     "end_time": "2022-12-13T15:25:55.852844",
     "exception": false,
     "start_time": "2022-12-13T15:25:55.819747",
     "status": "completed"
    },
    "tags": []
   },
   "outputs": [
    {
     "data": {
      "text/html": [
       "<div>\n",
       "<style scoped>\n",
       "    .dataframe tbody tr th:only-of-type {\n",
       "        vertical-align: middle;\n",
       "    }\n",
       "\n",
       "    .dataframe tbody tr th {\n",
       "        vertical-align: top;\n",
       "    }\n",
       "\n",
       "    .dataframe thead th {\n",
       "        text-align: right;\n",
       "    }\n",
       "</style>\n",
       "<table border=\"1\" class=\"dataframe\">\n",
       "  <thead>\n",
       "    <tr style=\"text-align: right;\">\n",
       "      <th></th>\n",
       "      <th>Id</th>\n",
       "      <th>Price</th>\n",
       "    </tr>\n",
       "  </thead>\n",
       "  <tbody>\n",
       "    <tr>\n",
       "      <th>0</th>\n",
       "      <td>4567</td>\n",
       "      <td>200000.0</td>\n",
       "    </tr>\n",
       "    <tr>\n",
       "      <th>1</th>\n",
       "      <td>5925</td>\n",
       "      <td>200000.0</td>\n",
       "    </tr>\n",
       "    <tr>\n",
       "      <th>2</th>\n",
       "      <td>960</td>\n",
       "      <td>200000.0</td>\n",
       "    </tr>\n",
       "    <tr>\n",
       "      <th>3</th>\n",
       "      <td>3848</td>\n",
       "      <td>200000.0</td>\n",
       "    </tr>\n",
       "    <tr>\n",
       "      <th>4</th>\n",
       "      <td>746</td>\n",
       "      <td>200000.0</td>\n",
       "    </tr>\n",
       "  </tbody>\n",
       "</table>\n",
       "</div>"
      ],
      "text/plain": [
       "     Id     Price\n",
       "0  4567  200000.0\n",
       "1  5925  200000.0\n",
       "2   960  200000.0\n",
       "3  3848  200000.0\n",
       "4   746  200000.0"
      ]
     },
     "execution_count": 21,
     "metadata": {},
     "output_type": "execute_result"
    }
   ],
   "source": [
    "# Загрузим сэмл\n",
    "submit = pd.read_csv(SAMPLE_PATH)\n",
    "submit.head()"
   ]
  },
  {
   "cell_type": "code",
   "execution_count": 22,
   "id": "551d4942",
   "metadata": {
    "execution": {
     "iopub.execute_input": "2022-12-13T15:25:55.879021Z",
     "iopub.status.busy": "2022-12-13T15:25:55.878640Z",
     "iopub.status.idle": "2022-12-13T15:25:57.159644Z",
     "shell.execute_reply": "2022-12-13T15:25:57.158111Z"
    },
    "papermill": {
     "duration": 1.300269,
     "end_time": "2022-12-13T15:25:57.164718",
     "exception": false,
     "start_time": "2022-12-13T15:25:55.864449",
     "status": "completed"
    },
    "tags": []
   },
   "outputs": [
    {
     "data": {
      "text/html": [
       "<div>\n",
       "<style scoped>\n",
       "    .dataframe tbody tr th:only-of-type {\n",
       "        vertical-align: middle;\n",
       "    }\n",
       "\n",
       "    .dataframe tbody tr th {\n",
       "        vertical-align: top;\n",
       "    }\n",
       "\n",
       "    .dataframe thead th {\n",
       "        text-align: right;\n",
       "    }\n",
       "</style>\n",
       "<table border=\"1\" class=\"dataframe\">\n",
       "  <thead>\n",
       "    <tr style=\"text-align: right;\">\n",
       "      <th></th>\n",
       "      <th>DistrictId</th>\n",
       "      <th>Rooms</th>\n",
       "      <th>Square</th>\n",
       "      <th>LifeSquare</th>\n",
       "      <th>KitchenSquare</th>\n",
       "      <th>Floor</th>\n",
       "      <th>HouseFloor</th>\n",
       "      <th>HouseYear</th>\n",
       "      <th>Ecology_1</th>\n",
       "      <th>Healthcare_1</th>\n",
       "      <th>Helthcare_2</th>\n",
       "      <th>Shops_1</th>\n",
       "      <th>Shops_2</th>\n",
       "      <th>Social</th>\n",
       "      <th>PPM</th>\n",
       "      <th>District_rate</th>\n",
       "    </tr>\n",
       "  </thead>\n",
       "  <tbody>\n",
       "    <tr>\n",
       "      <th>0</th>\n",
       "      <td>44</td>\n",
       "      <td>1.0</td>\n",
       "      <td>36.847630</td>\n",
       "      <td>19.094182</td>\n",
       "      <td>5.0</td>\n",
       "      <td>5</td>\n",
       "      <td>9.0</td>\n",
       "      <td>2022</td>\n",
       "      <td>0.036122</td>\n",
       "      <td>1036.00000</td>\n",
       "      <td>1</td>\n",
       "      <td>1</td>\n",
       "      <td>1</td>\n",
       "      <td>-974.155167</td>\n",
       "      <td>4431.704675</td>\n",
       "      <td>0.0104</td>\n",
       "    </tr>\n",
       "    <tr>\n",
       "      <th>1</th>\n",
       "      <td>62</td>\n",
       "      <td>1.0</td>\n",
       "      <td>52.568133</td>\n",
       "      <td>42.568133</td>\n",
       "      <td>10.0</td>\n",
       "      <td>7</td>\n",
       "      <td>17.0</td>\n",
       "      <td>2022</td>\n",
       "      <td>0.072158</td>\n",
       "      <td>2300.00000</td>\n",
       "      <td>0</td>\n",
       "      <td>0</td>\n",
       "      <td>0</td>\n",
       "      <td>-4723.213601</td>\n",
       "      <td>2859.977368</td>\n",
       "      <td>0.0247</td>\n",
       "    </tr>\n",
       "    <tr>\n",
       "      <th>2</th>\n",
       "      <td>27</td>\n",
       "      <td>2.0</td>\n",
       "      <td>59.463678</td>\n",
       "      <td>37.678987</td>\n",
       "      <td>9.0</td>\n",
       "      <td>19</td>\n",
       "      <td>19.0</td>\n",
       "      <td>2022</td>\n",
       "      <td>0.211401</td>\n",
       "      <td>1142.90446</td>\n",
       "      <td>0</td>\n",
       "      <td>1</td>\n",
       "      <td>1</td>\n",
       "      <td>-3460.195926</td>\n",
       "      <td>2669.535159</td>\n",
       "      <td>0.0851</td>\n",
       "    </tr>\n",
       "    <tr>\n",
       "      <th>3</th>\n",
       "      <td>23</td>\n",
       "      <td>3.0</td>\n",
       "      <td>49.646030</td>\n",
       "      <td>33.893825</td>\n",
       "      <td>6.0</td>\n",
       "      <td>2</td>\n",
       "      <td>2.0</td>\n",
       "      <td>2022</td>\n",
       "      <td>0.014073</td>\n",
       "      <td>0.00000</td>\n",
       "      <td>0</td>\n",
       "      <td>0</td>\n",
       "      <td>1</td>\n",
       "      <td>-4877.212675</td>\n",
       "      <td>2109.194622</td>\n",
       "      <td>0.0565</td>\n",
       "    </tr>\n",
       "    <tr>\n",
       "      <th>4</th>\n",
       "      <td>74</td>\n",
       "      <td>1.0</td>\n",
       "      <td>53.837056</td>\n",
       "      <td>41.262089</td>\n",
       "      <td>1.0</td>\n",
       "      <td>8</td>\n",
       "      <td>17.0</td>\n",
       "      <td>2022</td>\n",
       "      <td>0.309479</td>\n",
       "      <td>990.00000</td>\n",
       "      <td>0</td>\n",
       "      <td>6</td>\n",
       "      <td>1</td>\n",
       "      <td>2362.863079</td>\n",
       "      <td>3483.810063</td>\n",
       "      <td>0.0114</td>\n",
       "    </tr>\n",
       "  </tbody>\n",
       "</table>\n",
       "</div>"
      ],
      "text/plain": [
       "   DistrictId  Rooms     Square  LifeSquare  KitchenSquare  Floor  HouseFloor  \\\n",
       "0          44    1.0  36.847630   19.094182            5.0      5         9.0   \n",
       "1          62    1.0  52.568133   42.568133           10.0      7        17.0   \n",
       "2          27    2.0  59.463678   37.678987            9.0     19        19.0   \n",
       "3          23    3.0  49.646030   33.893825            6.0      2         2.0   \n",
       "4          74    1.0  53.837056   41.262089            1.0      8        17.0   \n",
       "\n",
       "   HouseYear  Ecology_1  Healthcare_1  Helthcare_2  Shops_1  Shops_2  \\\n",
       "0       2022   0.036122    1036.00000            1        1        1   \n",
       "1       2022   0.072158    2300.00000            0        0        0   \n",
       "2       2022   0.211401    1142.90446            0        1        1   \n",
       "3       2022   0.014073       0.00000            0        0        1   \n",
       "4       2022   0.309479     990.00000            0        6        1   \n",
       "\n",
       "        Social          PPM  District_rate  \n",
       "0  -974.155167  4431.704675         0.0104  \n",
       "1 -4723.213601  2859.977368         0.0247  \n",
       "2 -3460.195926  2669.535159         0.0851  \n",
       "3 -4877.212675  2109.194622         0.0565  \n",
       "4  2362.863079  3483.810063         0.0114  "
      ]
     },
     "execution_count": 22,
     "metadata": {},
     "output_type": "execute_result"
    }
   ],
   "source": [
    "# Подготовим тестовые данные\n",
    "test_ds = prep.transform(test_ds)\n",
    "test_ds.head()"
   ]
  },
  {
   "cell_type": "code",
   "execution_count": 23,
   "id": "9b5caa61",
   "metadata": {
    "execution": {
     "iopub.execute_input": "2022-12-13T15:25:57.230971Z",
     "iopub.status.busy": "2022-12-13T15:25:57.230217Z",
     "iopub.status.idle": "2022-12-13T15:25:57.242062Z",
     "shell.execute_reply": "2022-12-13T15:25:57.241219Z"
    },
    "papermill": {
     "duration": 0.047856,
     "end_time": "2022-12-13T15:25:57.244215",
     "exception": false,
     "start_time": "2022-12-13T15:25:57.196359",
     "status": "completed"
    },
    "tags": []
   },
   "outputs": [
    {
     "data": {
      "text/plain": [
       "DistrictId       0\n",
       "Rooms            0\n",
       "Square           0\n",
       "LifeSquare       0\n",
       "KitchenSquare    0\n",
       "Floor            0\n",
       "HouseFloor       0\n",
       "HouseYear        0\n",
       "Ecology_1        0\n",
       "Healthcare_1     0\n",
       "Helthcare_2      0\n",
       "Shops_1          0\n",
       "Shops_2          0\n",
       "Social           0\n",
       "PPM              0\n",
       "District_rate    0\n",
       "dtype: int64"
      ]
     },
     "execution_count": 23,
     "metadata": {},
     "output_type": "execute_result"
    }
   ],
   "source": [
    "test_ds.isna().sum()"
   ]
  },
  {
   "cell_type": "code",
   "execution_count": 24,
   "id": "ab7348f2",
   "metadata": {
    "execution": {
     "iopub.execute_input": "2022-12-13T15:25:57.271398Z",
     "iopub.status.busy": "2022-12-13T15:25:57.270639Z",
     "iopub.status.idle": "2022-12-13T15:25:57.927827Z",
     "shell.execute_reply": "2022-12-13T15:25:57.926534Z"
    },
    "papermill": {
     "duration": 0.67428,
     "end_time": "2022-12-13T15:25:57.930980",
     "exception": false,
     "start_time": "2022-12-13T15:25:57.256700",
     "status": "completed"
    },
    "tags": []
   },
   "outputs": [
    {
     "data": {
      "text/plain": [
       "array([160535.82226743, 127599.60636382, 145313.09791589, ...,\n",
       "       147733.62052118, 189082.67438107, 266922.10971054])"
      ]
     },
     "execution_count": 24,
     "metadata": {},
     "output_type": "execute_result"
    }
   ],
   "source": [
    "y_test = model.predict(test_ds)\n",
    "y_test"
   ]
  },
  {
   "cell_type": "code",
   "execution_count": 25,
   "id": "78b7f8a3",
   "metadata": {
    "execution": {
     "iopub.execute_input": "2022-12-13T15:25:57.962405Z",
     "iopub.status.busy": "2022-12-13T15:25:57.961974Z",
     "iopub.status.idle": "2022-12-13T15:25:57.973906Z",
     "shell.execute_reply": "2022-12-13T15:25:57.972847Z"
    },
    "papermill": {
     "duration": 0.027636,
     "end_time": "2022-12-13T15:25:57.976112",
     "exception": false,
     "start_time": "2022-12-13T15:25:57.948476",
     "status": "completed"
    },
    "tags": []
   },
   "outputs": [
    {
     "data": {
      "text/html": [
       "<div>\n",
       "<style scoped>\n",
       "    .dataframe tbody tr th:only-of-type {\n",
       "        vertical-align: middle;\n",
       "    }\n",
       "\n",
       "    .dataframe tbody tr th {\n",
       "        vertical-align: top;\n",
       "    }\n",
       "\n",
       "    .dataframe thead th {\n",
       "        text-align: right;\n",
       "    }\n",
       "</style>\n",
       "<table border=\"1\" class=\"dataframe\">\n",
       "  <thead>\n",
       "    <tr style=\"text-align: right;\">\n",
       "      <th></th>\n",
       "      <th>Id</th>\n",
       "      <th>Price</th>\n",
       "    </tr>\n",
       "  </thead>\n",
       "  <tbody>\n",
       "    <tr>\n",
       "      <th>0</th>\n",
       "      <td>4567</td>\n",
       "      <td>160535.822267</td>\n",
       "    </tr>\n",
       "    <tr>\n",
       "      <th>1</th>\n",
       "      <td>5925</td>\n",
       "      <td>127599.606364</td>\n",
       "    </tr>\n",
       "    <tr>\n",
       "      <th>2</th>\n",
       "      <td>960</td>\n",
       "      <td>145313.097916</td>\n",
       "    </tr>\n",
       "    <tr>\n",
       "      <th>3</th>\n",
       "      <td>3848</td>\n",
       "      <td>120340.062310</td>\n",
       "    </tr>\n",
       "    <tr>\n",
       "      <th>4</th>\n",
       "      <td>746</td>\n",
       "      <td>179899.574948</td>\n",
       "    </tr>\n",
       "  </tbody>\n",
       "</table>\n",
       "</div>"
      ],
      "text/plain": [
       "     Id          Price\n",
       "0  4567  160535.822267\n",
       "1  5925  127599.606364\n",
       "2   960  145313.097916\n",
       "3  3848  120340.062310\n",
       "4   746  179899.574948"
      ]
     },
     "execution_count": 25,
     "metadata": {},
     "output_type": "execute_result"
    }
   ],
   "source": [
    "submit['Price'] = y_test\n",
    "submit.head()"
   ]
  },
  {
   "cell_type": "code",
   "execution_count": 26,
   "id": "5296ae10",
   "metadata": {
    "execution": {
     "iopub.execute_input": "2022-12-13T15:25:58.009899Z",
     "iopub.status.busy": "2022-12-13T15:25:58.008901Z",
     "iopub.status.idle": "2022-12-13T15:25:58.031294Z",
     "shell.execute_reply": "2022-12-13T15:25:58.030035Z"
    },
    "papermill": {
     "duration": 0.044884,
     "end_time": "2022-12-13T15:25:58.034935",
     "exception": false,
     "start_time": "2022-12-13T15:25:57.990051",
     "status": "completed"
    },
    "tags": []
   },
   "outputs": [],
   "source": [
    "# Сохраним результат\n",
    "submit.to_csv('submission.csv', index=False)"
   ]
  }
 ],
 "metadata": {
  "kernelspec": {
   "display_name": "Python 3",
   "language": "python",
   "name": "python3"
  },
  "language_info": {
   "codemirror_mode": {
    "name": "ipython",
    "version": 3
   },
   "file_extension": ".py",
   "mimetype": "text/x-python",
   "name": "python",
   "nbconvert_exporter": "python",
   "pygments_lexer": "ipython3",
   "version": "3.7.12"
  },
  "papermill": {
   "default_parameters": {},
   "duration": 35.356765,
   "end_time": "2022-12-13T15:25:58.976931",
   "environment_variables": {},
   "exception": null,
   "input_path": "__notebook__.ipynb",
   "output_path": "__notebook__.ipynb",
   "parameters": {},
   "start_time": "2022-12-13T15:25:23.620166",
   "version": "2.3.4"
  }
 },
 "nbformat": 4,
 "nbformat_minor": 5
}
