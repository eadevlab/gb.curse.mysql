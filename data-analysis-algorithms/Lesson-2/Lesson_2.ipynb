{
 "cells": [
  {
   "cell_type": "markdown",
   "metadata": {
    "id": "kaGU7KeR6rzi"
   },
   "source": [
    "### Урок 2. Масштабирование признаков. Регуляризация. Стохастический градиентный спуск"
   ]
  },
  {
   "cell_type": "markdown",
   "source": [
    "1) Постройте график зависимости весов всех признаков от lambda в L2-регуляризации на основе данных из урока.\n",
    "2) Можно ли к одному и тому же признаку применить сразу и нормализацию, и стандартизацию?\n",
    "3) Напишите функцию наподобие eval_model_reg2, но для применения L1-регуляризации.\n",
    "\n"
   ],
   "metadata": {
    "collapsed": false
   }
  },
  {
   "cell_type": "markdown",
   "source": [
    "### Содержание\n",
    "- [Подготовительная часть](Lesson_1_script.ipynb#Подготовительная-часть)\n",
    "- [Практическое задание](Lesson_1_script.ipynb#Практическое-задание)"
   ],
   "metadata": {
    "collapsed": false
   }
  },
  {
   "cell_type": "markdown",
   "source": [
    "### Подготовительная часть"
   ],
   "metadata": {
    "collapsed": false
   }
  },
  {
   "cell_type": "code",
   "execution_count": 1,
   "metadata": {
    "collapsed": true,
    "id": "_u5bV-OlT34p"
   },
   "outputs": [],
   "source": [
    "import numpy as np\n",
    "import matplotlib.pyplot as plt"
   ]
  },
  {
   "cell_type": "code",
   "execution_count": 2,
   "metadata": {
    "collapsed": true,
    "id": "_n6il-AZaLuA"
   },
   "outputs": [],
   "source": [
    "X = np.array([[1, 1, 1, 1, 1, 1, 1, 1, 1, 1],\n",
    "              [1, 1, 2, 5, 3, 0, 5, 10, 1, 2],\n",
    "              [500, 700, 750, 600, 1450, 800, 1500, 2000, 450, 1000],\n",
    "              [1, 1, 2, 1, 2, 1, 3, 3, 1, 2]])"
   ]
  },
  {
   "cell_type": "code",
   "execution_count": 3,
   "metadata": {
    "collapsed": true,
    "id": "x8yoci01ni-t"
   },
   "outputs": [],
   "source": [
    "y = [45, 55, 50, 55, 60, 35, 75, 80, 50, 60]"
   ]
  },
  {
   "cell_type": "markdown",
   "metadata": {
    "id": "shECgzyW6rz5"
   },
   "source": [
    "Нормализация [0, 1]"
   ]
  },
  {
   "cell_type": "code",
   "execution_count": 4,
   "metadata": {
    "colab": {
     "base_uri": "https://localhost:8080/",
     "height": 34
    },
    "id": "Ei5qeZO_aT6m",
    "outputId": "087819d3-202a-46c9-f87d-49e17953099c"
   },
   "outputs": [
    {
     "data": {
      "text/plain": "(0, 10)"
     },
     "execution_count": 4,
     "metadata": {},
     "output_type": "execute_result"
    }
   ],
   "source": [
    "X[1].min(), X[1].max()"
   ]
  },
  {
   "cell_type": "code",
   "execution_count": 5,
   "metadata": {
    "colab": {
     "base_uri": "https://localhost:8080/",
     "height": 34
    },
    "id": "L7wsW1Q7b4Ts",
    "outputId": "911044d6-32c1-475a-80cd-cbaf26d5ba32"
   },
   "outputs": [
    {
     "data": {
      "text/plain": "(450, 2000)"
     },
     "execution_count": 5,
     "metadata": {},
     "output_type": "execute_result"
    }
   ],
   "source": [
    "X[2].min(), X[2].max()"
   ]
  },
  {
   "cell_type": "code",
   "execution_count": 6,
   "metadata": {
    "colab": {
     "base_uri": "https://localhost:8080/",
     "height": 121
    },
    "id": "E55S9Bzob9Xa",
    "outputId": "4abf56a2-d484-4c24-8520-8ed1b58ccca8"
   },
   "outputs": [
    {
     "data": {
      "text/plain": "array([[1.00e+00, 1.00e+00, 1.00e+00, 1.00e+00, 1.00e+00, 1.00e+00,\n        1.00e+00, 1.00e+00, 1.00e+00, 1.00e+00],\n       [1.00e+00, 1.00e+00, 2.00e+00, 5.00e+00, 3.00e+00, 0.00e+00,\n        5.00e+00, 1.00e+01, 1.00e+00, 2.00e+00],\n       [5.00e+02, 7.00e+02, 7.50e+02, 6.00e+02, 1.45e+03, 8.00e+02,\n        1.50e+03, 2.00e+03, 4.50e+02, 1.00e+03],\n       [1.00e+00, 1.00e+00, 2.00e+00, 1.00e+00, 2.00e+00, 1.00e+00,\n        3.00e+00, 3.00e+00, 1.00e+00, 2.00e+00]])"
     },
     "execution_count": 6,
     "metadata": {},
     "output_type": "execute_result"
    }
   ],
   "source": [
    "X_norm = X.copy()\n",
    "X_norm = X_norm.astype(np.float64)\n",
    "X_norm"
   ]
  },
  {
   "cell_type": "code",
   "execution_count": 7,
   "metadata": {
    "colab": {
     "base_uri": "https://localhost:8080/",
     "height": 121
    },
    "id": "7x-6IuPOcIo0",
    "outputId": "1668fec7-37ae-4671-ad9f-f093c30a6c72"
   },
   "outputs": [
    {
     "data": {
      "text/plain": "array([[1.00e+00, 1.00e+00, 1.00e+00, 1.00e+00, 1.00e+00, 1.00e+00,\n        1.00e+00, 1.00e+00, 1.00e+00, 1.00e+00],\n       [1.00e-01, 1.00e-01, 2.00e-01, 5.00e-01, 3.00e-01, 0.00e+00,\n        5.00e-01, 1.00e+00, 1.00e-01, 2.00e-01],\n       [5.00e+02, 7.00e+02, 7.50e+02, 6.00e+02, 1.45e+03, 8.00e+02,\n        1.50e+03, 2.00e+03, 4.50e+02, 1.00e+03],\n       [1.00e+00, 1.00e+00, 2.00e+00, 1.00e+00, 2.00e+00, 1.00e+00,\n        3.00e+00, 3.00e+00, 1.00e+00, 2.00e+00]])"
     },
     "execution_count": 7,
     "metadata": {},
     "output_type": "execute_result"
    }
   ],
   "source": [
    "X_norm[1] = (X[1] - X[1].min()) / (X[1].max() - X[1].min())\n",
    "X_norm"
   ]
  },
  {
   "cell_type": "code",
   "execution_count": 8,
   "metadata": {
    "colab": {
     "base_uri": "https://localhost:8080/",
     "height": 121
    },
    "id": "izkMRdXFcjyK",
    "outputId": "982b8c8d-629d-4c4a-a3d5-67854cee4a4a"
   },
   "outputs": [
    {
     "data": {
      "text/plain": "array([[1.        , 1.        , 1.        , 1.        , 1.        ,\n        1.        , 1.        , 1.        , 1.        , 1.        ],\n       [0.1       , 0.1       , 0.2       , 0.5       , 0.3       ,\n        0.        , 0.5       , 1.        , 0.1       , 0.2       ],\n       [0.03225806, 0.16129032, 0.19354839, 0.09677419, 0.64516129,\n        0.22580645, 0.67741935, 1.        , 0.        , 0.35483871],\n       [1.        , 1.        , 2.        , 1.        , 2.        ,\n        1.        , 3.        , 3.        , 1.        , 2.        ]])"
     },
     "execution_count": 8,
     "metadata": {},
     "output_type": "execute_result"
    }
   ],
   "source": [
    "X_norm[2] = (X[2] - X[2].min()) / (X[2].max() - X[2].min())\n",
    "X_norm"
   ]
  },
  {
   "cell_type": "markdown",
   "source": [
    "Стандартизация"
   ],
   "metadata": {
    "collapsed": false
   }
  },
  {
   "cell_type": "code",
   "execution_count": 9,
   "metadata": {
    "colab": {
     "base_uri": "https://localhost:8080/",
     "height": 317
    },
    "id": "8i9pB-3-fMD4",
    "outputId": "3cbe76f6-d000-4fcd-fe86-ffe853403356"
   },
   "outputs": [
    {
     "data": {
      "text/plain": "<Figure size 640x480 with 1 Axes>",
      "image/png": "[encoded data removed]"
     },
     "metadata": {},
     "output_type": "display_data"
    }
   ],
   "source": [
    "plt.hist(X[1])\n",
    "plt.show()"
   ]
  },
  {
   "cell_type": "code",
   "execution_count": 10,
   "metadata": {
    "colab": {
     "base_uri": "https://localhost:8080/",
     "height": 335
    },
    "id": "-bnAYQqVfRX-",
    "outputId": "d59b0013-49bc-40fa-cb29-e71403e6e9e0"
   },
   "outputs": [
    {
     "data": {
      "text/plain": "<Figure size 640x480 with 1 Axes>",
      "image/png": "[encoded data removed]"
     },
     "metadata": {},
     "output_type": "display_data"
    }
   ],
   "source": [
    "plt.hist(X[2])\n",
    "plt.show()"
   ]
  },
  {
   "cell_type": "code",
   "execution_count": 11,
   "metadata": {
    "id": "M57-Pzl_f_rF",
    "outputId": "b8f0b94e-715a-448e-e6d1-270ad75a3350"
   },
   "outputs": [
    {
     "name": "stdout",
     "output_type": "stream",
     "text": [
      "3.0 2.8284271247461903\n"
     ]
    }
   ],
   "source": [
    "X_st = X.copy().astype(np.float64)\n",
    "X1_mean = X[1].mean()\n",
    "X1_std = X[1].std()\n",
    "print(X1_mean, X1_std)"
   ]
  },
  {
   "cell_type": "code",
   "execution_count": 12,
   "metadata": {
    "colab": {
     "base_uri": "https://localhost:8080/",
     "height": 294
    },
    "id": "btJMY0YbgKLb",
    "outputId": "40010205-def9-4582-9a5d-e513e85b7a4e"
   },
   "outputs": [
    {
     "data": {
      "text/plain": "array([[ 1.00000000e+00,  1.00000000e+00,  1.00000000e+00,\n         1.00000000e+00,  1.00000000e+00,  1.00000000e+00,\n         1.00000000e+00,  1.00000000e+00,  1.00000000e+00,\n         1.00000000e+00],\n       [-7.07106781e-01, -7.07106781e-01, -3.53553391e-01,\n         7.07106781e-01,  0.00000000e+00, -1.06066017e+00,\n         7.07106781e-01,  2.47487373e+00, -7.07106781e-01,\n        -3.53553391e-01],\n       [ 5.00000000e+02,  7.00000000e+02,  7.50000000e+02,\n         6.00000000e+02,  1.45000000e+03,  8.00000000e+02,\n         1.50000000e+03,  2.00000000e+03,  4.50000000e+02,\n         1.00000000e+03],\n       [ 1.00000000e+00,  1.00000000e+00,  2.00000000e+00,\n         1.00000000e+00,  2.00000000e+00,  1.00000000e+00,\n         3.00000000e+00,  3.00000000e+00,  1.00000000e+00,\n         2.00000000e+00]])"
     },
     "execution_count": 12,
     "metadata": {},
     "output_type": "execute_result"
    }
   ],
   "source": [
    "X_st[1] = (X[1] - X1_mean) / X1_std\n",
    "X_st"
   ]
  },
  {
   "cell_type": "code",
   "execution_count": 13,
   "metadata": {
    "colab": {
     "base_uri": "https://localhost:8080/",
     "height": 352
    },
    "id": "-Y1tzWGCgYjA",
    "outputId": "89dc21fe-180f-4e68-f30f-1cf276c4f154"
   },
   "outputs": [
    {
     "data": {
      "text/plain": "<Figure size 640x480 with 1 Axes>",
      "image/png": "[encoded data removed]"
     },
     "metadata": {},
     "output_type": "display_data"
    }
   ],
   "source": [
    "plt.hist(X_st[1])\n",
    "plt.show()"
   ]
  },
  {
   "cell_type": "code",
   "execution_count": 14,
   "metadata": {
    "collapsed": true,
    "id": "ZlJUBOyzgkJV"
   },
   "outputs": [],
   "source": [
    "def calc_std_fit(x):\n",
    "    res = (x - x.mean()) / x.std()\n",
    "    return res"
   ]
  },
  {
   "cell_type": "code",
   "execution_count": 15,
   "metadata": {
    "collapsed": true,
    "id": "6PlDlFY0hGZA"
   },
   "outputs": [],
   "source": [
    "X_st[2] = calc_std_fit(X[2])"
   ]
  },
  {
   "cell_type": "code",
   "execution_count": 16,
   "metadata": {
    "colab": {
     "base_uri": "https://localhost:8080/",
     "height": 155
    },
    "id": "LOKhmhJjt9TR",
    "outputId": "2b131d78-9066-462b-dfa9-778758f3d363"
   },
   "outputs": [
    {
     "data": {
      "text/plain": "array([[ 1.        ,  1.        ,  1.        ,  1.        ,  1.        ,\n         1.        ,  1.        ,  1.        ,  1.        ,  1.        ],\n       [-0.70710678, -0.70710678, -0.35355339,  0.70710678,  0.        ,\n        -1.06066017,  0.70710678,  2.47487373, -0.70710678, -0.35355339],\n       [-0.97958969, -0.56713087, -0.46401617, -0.77336028,  0.97958969,\n        -0.36090146,  1.08270439,  2.11385144, -1.08270439,  0.05155735],\n       [-0.89625816, -0.89625816,  0.38411064, -0.89625816,  0.38411064,\n        -0.89625816,  1.66447944,  1.66447944, -0.89625816,  0.38411064]])"
     },
     "execution_count": 16,
     "metadata": {},
     "output_type": "execute_result"
    }
   ],
   "source": [
    "X_st[3] = calc_std_fit(X[3])\n",
    "X_st"
   ]
  },
  {
   "cell_type": "markdown",
   "source": [
    "SGD (Stochastic gradient descent)"
   ],
   "metadata": {
    "collapsed": false
   }
  },
  {
   "cell_type": "code",
   "execution_count": 17,
   "metadata": {
    "collapsed": true,
    "id": "VDpN7UxYnrcS"
   },
   "outputs": [],
   "source": [
    "def calc_mse(y, y_pred):\n",
    "    err = np.mean((y - y_pred)**2)\n",
    "    return err"
   ]
  },
  {
   "cell_type": "code",
   "execution_count": 18,
   "metadata": {
    "collapsed": true,
    "id": "SgEyis2zlJeb"
   },
   "outputs": [],
   "source": [
    "def eval_model(X, y, iterations, alpha=1e-4):\n",
    "    W = np.random.randn(X.shape[0])\n",
    "    n = X.shape[1]\n",
    "    for i in range(1, iterations+1):\n",
    "        y_pred = np.dot(W, X)\n",
    "        err = calc_mse(y, y_pred)\n",
    "        W -= (alpha * (1/n * 2 * np.dot((y_pred - y), X.T)))\n",
    "        if i % (iterations / 10) == 0:\n",
    "            print(i, W, err)\n",
    "    return W"
   ]
  },
  {
   "cell_type": "code",
   "execution_count": 19,
   "metadata": {
    "colab": {
     "base_uri": "https://localhost:8080/",
     "height": 207
    },
    "id": "4nsYMAGjmFlB",
    "outputId": "8959a8af-3d27-42a6-afae-5db46c794fe1"
   },
   "outputs": [
    {
     "name": "stdout",
     "output_type": "stream",
     "text": [
      "100 [49.09570803  4.81760065  2.96134616  4.52640151] 83.97746144494668\n",
      "200 [55.51804609  5.3271216   2.29869415  4.7855572 ] 27.11702953766524\n",
      "300 [56.36977371  5.62755423  1.77035578  5.03998706] 25.69171905083463\n",
      "400 [56.48272945  5.81861151  1.35646986  5.28125409] 25.406005352420955\n",
      "500 [56.49770959  5.94468765  1.02840238  5.49666199] 25.234476824969786\n",
      "600 [56.49969625  6.03108982  0.76611513  5.68259398] 25.12285758967594\n",
      "700 [56.49995972  6.09248815  0.55514501  5.83986465] 25.04934926196862\n",
      "800 [56.49999466  6.13755295  0.38473511  5.97121466] 25.000703897915393\n",
      "900 [56.49999929  6.1715374   0.24668675  6.08002405] 24.96844030552318\n",
      "1000 [56.49999991  6.1977224   0.13463116  6.16968049] 24.947019858196455\n"
     ]
    },
    {
     "data": {
      "text/plain": "array([56.49999991,  6.1977224 ,  0.13463116,  6.16968049])"
     },
     "execution_count": 19,
     "metadata": {},
     "output_type": "execute_result"
    }
   ],
   "source": [
    "eval_model(X_st, y, iterations=1000, alpha=1e-2)"
   ]
  },
  {
   "cell_type": "code",
   "execution_count": 20,
   "metadata": {
    "collapsed": true,
    "id": "oV_LJy4l6r0W"
   },
   "outputs": [],
   "source": [
    "def eval_sgd_model(X, y, iterations, qty_in_batch, alpha=1e-4):\n",
    "    W = np.random.randn(X.shape[0])\n",
    "    n = X.shape[1]\n",
    "    n_batch = n // qty_in_batch\n",
    "    \n",
    "    if n % qty_in_batch != 0:\n",
    "        n_batch += 1\n",
    "        \n",
    "    for i in range(1, iterations+1):\n",
    "        for b in range(n_batch):\n",
    "            start_ = qty_in_batch*b\n",
    "            end_ = qty_in_batch*(b+1)\n",
    "#             print(b, n_batch, start_, end_)\n",
    "            X_tmp = X[:, start_ : end_]\n",
    "            y_tmp = y[start_ : end_]\n",
    "\n",
    "            y_pred_tmp = np.dot(W, X_tmp)\n",
    "            err = calc_mse(y_tmp, y_pred_tmp)\n",
    "\n",
    "            W -= (alpha * (1/n * 2 * np.dot((y_pred_tmp - y_tmp), X_tmp.T)))\n",
    "        \n",
    "        if i % (iterations / 10) == 0:\n",
    "            print(i, W, err)\n",
    "    return W"
   ]
  },
  {
   "cell_type": "code",
   "execution_count": 21,
   "outputs": [
    {
     "name": "stdout",
     "output_type": "stream",
     "text": [
      "500 [56.50783372  5.96610817  1.03529003  5.48252567] 13.112365796536249\n",
      "1000 [56.51047876  6.20680658  0.13306392  6.17629435] 11.947868629246862\n",
      "1500 [56.51056873  6.27558224 -0.18586923  6.43712574] 11.5252308866323\n",
      "2000 [56.51060174  6.29941106 -0.30031341  6.531533  ] 11.373879670036624\n",
      "2500 [56.51061365  6.30793647 -0.34146857  6.56552441] 11.319617730767728\n",
      "3000 [56.51061794  6.31100099 -0.3562729   6.57775392] 11.300126334036925\n",
      "3500 [56.51061948  6.31210329 -0.36159854  6.58215342] 11.2931184905515\n",
      "4000 [56.51062004  6.31249982 -0.36351437  6.58373609] 11.29059802644397\n",
      "4500 [56.51062024  6.31264247 -0.36420357  6.58430544] 11.289691387983723\n",
      "5000 [56.51062031  6.31269378 -0.3644515   6.58451025] 11.289365244499795\n"
     ]
    },
    {
     "data": {
      "text/plain": "array([56.51062031,  6.31269378, -0.3644515 ,  6.58451025])"
     },
     "execution_count": 21,
     "metadata": {},
     "output_type": "execute_result"
    }
   ],
   "source": [
    "eval_sgd_model(X_st, y, iterations=5000, qty_in_batch=4, alpha=1e-2)"
   ],
   "metadata": {
    "collapsed": false
   }
  },
  {
   "cell_type": "markdown",
   "source": [
    "L1 регуляризация"
   ],
   "metadata": {
    "collapsed": false
   }
  },
  {
   "cell_type": "markdown",
   "source": [
    "f(x, W) + (lambda_/2) * np.sum(np.abs(W))"
   ],
   "metadata": {
    "collapsed": false
   }
  },
  {
   "cell_type": "markdown",
   "source": [
    "L2 регуляризация"
   ],
   "metadata": {
    "collapsed": false
   }
  },
  {
   "cell_type": "markdown",
   "source": [
    "f(x, W) + (lambda_/2) * np.sum(W**2)"
   ],
   "metadata": {
    "collapsed": false
   }
  },
  {
   "cell_type": "code",
   "execution_count": 22,
   "metadata": {
    "collapsed": true,
    "id": "7AVoe1Mswjni"
   },
   "outputs": [],
   "source": [
    "def eval_model_reg2(X, y, iterations, alpha=1e-4, lambda_=1e-8):\n",
    "    np.random.seed(42)\n",
    "    W = np.random.randn(X.shape[0])\n",
    "    n = X.shape[1]\n",
    "    for i in range(1, iterations+1):\n",
    "        y_pred = np.dot(W, X)\n",
    "        err = calc_mse(y, y_pred)\n",
    "        W -= alpha * (1/n * 2 * np.dot((y_pred - y), X.T) + lambda_ * W) \n",
    "#         if i % (iterations / 10) == 0:\n",
    "#             print(i, W, err)\n",
    "    return W"
   ]
  },
  {
   "cell_type": "code",
   "execution_count": 23,
   "metadata": {
    "colab": {
     "base_uri": "https://localhost:8080/",
     "height": 207
    },
    "id": "vLJL6j8Lw6OA",
    "outputId": "dac9ef42-5966-4404-9346-aeb18cca83c6"
   },
   "outputs": [
    {
     "data": {
      "text/plain": "array([56.49717514,  6.30231751, -0.35424091,  6.56978425])"
     },
     "execution_count": 23,
     "metadata": {},
     "output_type": "execute_result"
    }
   ],
   "source": [
    "W = eval_model_reg2(X_st, y, iterations=5000, alpha=1e-2, lambda_=1e-4)\n",
    "W"
   ]
  },
  {
   "cell_type": "markdown",
   "metadata": {
    "id": "gKDejdRT6r0g"
   },
   "source": [
    "### Практическое задание"
   ]
  },
  {
   "cell_type": "markdown",
   "metadata": {
    "id": "S3bTX7yz6r0g"
   },
   "source": [
    "* Постройте график зависимости весов всех признаков от lambda в L2-регуляризации на основе данных из урока."
   ]
  },
  {
   "cell_type": "code",
   "execution_count": 24,
   "outputs": [
    {
     "data": {
      "text/plain": "array([1.00000000e-10, 1.26185688e-10, 1.59228279e-10, 2.00923300e-10,\n       2.53536449e-10, 3.19926714e-10, 4.03701726e-10, 5.09413801e-10,\n       6.42807312e-10, 8.11130831e-10, 1.02353102e-09, 1.29154967e-09,\n       1.62975083e-09, 2.05651231e-09, 2.59502421e-09, 3.27454916e-09,\n       4.13201240e-09, 5.21400829e-09, 6.57933225e-09, 8.30217568e-09,\n       1.04761575e-08, 1.32194115e-08, 1.66810054e-08, 2.10490414e-08,\n       2.65608778e-08, 3.35160265e-08, 4.22924287e-08, 5.33669923e-08,\n       6.73415066e-08, 8.49753436e-08, 1.07226722e-07, 1.35304777e-07,\n       1.70735265e-07, 2.15443469e-07, 2.71858824e-07, 3.43046929e-07,\n       4.32876128e-07, 5.46227722e-07, 6.89261210e-07, 8.69749003e-07,\n       1.09749877e-06, 1.38488637e-06, 1.74752840e-06, 2.20513074e-06,\n       2.78255940e-06, 3.51119173e-06, 4.43062146e-06, 5.59081018e-06,\n       7.05480231e-06, 8.90215085e-06, 1.12332403e-05, 1.41747416e-05,\n       1.78864953e-05, 2.25701972e-05, 2.84803587e-05, 3.59381366e-05,\n       4.53487851e-05, 5.72236766e-05, 7.22080902e-05, 9.11162756e-05,\n       1.14975700e-04, 1.45082878e-04, 1.83073828e-04, 2.31012970e-04,\n       2.91505306e-04, 3.67837977e-04, 4.64158883e-04, 5.85702082e-04,\n       7.39072203e-04, 9.32603347e-04, 1.17681195e-03, 1.48496826e-03,\n       1.87381742e-03, 2.36448941e-03, 2.98364724e-03, 3.76493581e-03,\n       4.75081016e-03, 5.99484250e-03, 7.56463328e-03, 9.54548457e-03,\n       1.20450354e-02, 1.51991108e-02, 1.91791026e-02, 2.42012826e-02,\n       3.05385551e-02, 3.85352859e-02, 4.86260158e-02, 6.13590727e-02,\n       7.74263683e-02, 9.77009957e-02, 1.23284674e-01, 1.55567614e-01,\n       1.96304065e-01, 2.47707636e-01, 3.12571585e-01, 3.94420606e-01,\n       4.97702356e-01, 6.28029144e-01, 7.92482898e-01, 1.00000000e+00])"
     },
     "execution_count": 24,
     "metadata": {},
     "output_type": "execute_result"
    }
   ],
   "source": [
    "lambdas = np.logspace(-10,0,100)\n",
    "lambdas"
   ],
   "metadata": {
    "collapsed": false
   }
  },
  {
   "cell_type": "code",
   "execution_count": 25,
   "outputs": [],
   "source": [
    "W_results = []\n",
    "for l in lambdas:\n",
    "    W_results.append(eval_model_reg2(X_st, y, iterations=5000, alpha=1e-2, lambda_=l))\n",
    "\n",
    "W_results = np.array(W_results)\n"
   ],
   "metadata": {
    "collapsed": false
   }
  },
  {
   "cell_type": "code",
   "execution_count": 26,
   "outputs": [
    {
     "data": {
      "text/plain": "<Figure size 640x480 with 1 Axes>",
      "image/png": "[encoded data removed]"
     },
     "metadata": {},
     "output_type": "display_data"
    }
   ],
   "source": [
    "legends = []\n",
    "for i in range(len(W_results[0])):\n",
    "    legends.append(f'W_{i}')\n",
    "    plt.plot(lambdas, W_results[:,i])\n",
    "\n",
    "plt.legend(legends)\n",
    "plt.xlabel('Lambda')\n",
    "plt.ylabel('Feature weight')\n",
    "plt.show()"
   ],
   "metadata": {
    "collapsed": false
   }
  },
  {
   "cell_type": "markdown",
   "source": [
    "---"
   ],
   "metadata": {
    "collapsed": false
   }
  },
  {
   "cell_type": "markdown",
   "metadata": {
    "id": "ZIbh5rKr6r0n"
   },
   "source": [
    "* Можно ли к одному и тому же признаку применить сразу и нормализацию, и стандартизацию?"
   ]
  },
  {
   "cell_type": "markdown",
   "source": [
    "Можно, поочередно применять оба этих метода. но вот какой в этом смысл другой вопрос"
   ],
   "metadata": {
    "collapsed": false
   }
  },
  {
   "cell_type": "markdown",
   "source": [
    "---"
   ],
   "metadata": {
    "collapsed": false
   }
  },
  {
   "cell_type": "markdown",
   "metadata": {
    "id": "uJQtO2UB6r0n"
   },
   "source": [
    "* Напишите функцию наподобие eval_model_reg2, но для применения L1-регуляризации."
   ]
  },
  {
   "cell_type": "code",
   "execution_count": 43,
   "metadata": {
    "collapsed": true,
    "id": "OX4r_PNv6r0o"
   },
   "outputs": [],
   "source": [
    "def eval_model_reg_l1(X, y, iterations, alpha=1e-4, lambda_=1e-8):\n",
    "    np.random.seed(42)\n",
    "    W = np.random.randn(X.shape[0])\n",
    "    n = X.shape[1]\n",
    "    for i in range(1, iterations+1):\n",
    "        y_pred = np.dot(W, X)\n",
    "        #err = calc_mse(y, y_pred)\n",
    "        W -= alpha * (1/n * 2 * np.dot((y_pred - y), X.T) + lambda_ * np.abs(W))\n",
    "    return W"
   ]
  },
  {
   "cell_type": "code",
   "execution_count": 44,
   "outputs": [
    {
     "data": {
      "text/plain": "array([56.49995   ,  6.30286274, -0.35565596,  6.57092884])"
     },
     "execution_count": 44,
     "metadata": {},
     "output_type": "execute_result"
    }
   ],
   "source": [
    "W = eval_model_reg_l1(X_st, y, iterations=5000, alpha=1e-2, lambda_=1e-4)\n",
    "W"
   ],
   "metadata": {
    "collapsed": false
   }
  },
  {
   "cell_type": "code",
   "execution_count": 45,
   "outputs": [],
   "source": [
    "W_results = []\n",
    "for l in lambdas:\n",
    "    W_results.append(eval_model_reg_l1(X_st, y, iterations=5000, alpha=1e-2, lambda_=l))\n",
    "\n",
    "W_results = np.array(W_results)\n"
   ],
   "metadata": {
    "collapsed": false
   }
  },
  {
   "cell_type": "code",
   "execution_count": 46,
   "outputs": [
    {
     "data": {
      "text/plain": "<Figure size 640x480 with 1 Axes>",
      "image/png": "[encoded data removed]"
     },
     "metadata": {},
     "output_type": "display_data"
    }
   ],
   "source": [
    "legends = []\n",
    "for i in range(len(W_results[0])):\n",
    "    legends.append(f'W_{i}')\n",
    "    plt.plot(lambdas, W_results[:,i])\n",
    "\n",
    "plt.legend(legends)\n",
    "plt.xlabel('Lambda')\n",
    "plt.ylabel('Feature weight')\n",
    "plt.show()"
   ],
   "metadata": {
    "collapsed": false
   }
  }
 ],
 "metadata": {
  "colab": {
   "collapsed_sections": [],
   "name": "Lesson_2_script.ipynb",
   "provenance": []
  },
  "kernelspec": {
   "display_name": "Python 3",
   "language": "python",
   "name": "python3"
  },
  "language_info": {
   "codemirror_mode": {
    "name": "ipython",
    "version": 3
   },
   "file_extension": ".py",
   "mimetype": "text/x-python",
   "name": "python",
   "nbconvert_exporter": "python",
   "pygments_lexer": "ipython3",
   "version": "3.7.6"
  }
 },
 "nbformat": 4,
 "nbformat_minor": 0
}
